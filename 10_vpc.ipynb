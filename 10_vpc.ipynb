{
 "cells": [
  {
   "cell_type": "markdown",
   "id": "73de7200-0e2a-41f8-a319-7974af88d557",
   "metadata": {},
   "source": [
    "<h1 style='font-size:40px'> VPC & Networking</h1>"
   ]
  },
  {
   "cell_type": "markdown",
   "id": "1f4055df-8e94-4981-a515-7536dcc5f37f",
   "metadata": {},
   "source": [
    "<h2 style='font-size:30px'> VPC Overview</h2>\n",
    "<div> \n",
    "    <ul style='font-size:20px'> \n",
    "        <li>   \n",
    "            Marek explica que o CCP-02 espera apenas um entendimento alto-nível sobre VPC. Exames como o de Arquiteto de Soluções são os que exigem mais sobre esse assuto.  \n",
    "        </li>\n",
    "    </ul>\n",
    " </div>"
   ]
  },
  {
   "cell_type": "markdown",
   "id": "27d95b01-04ac-4c70-bfe4-88284874bcd9",
   "metadata": {},
   "source": [
    "<h2 style='font-size:30px'> IP Addresses in AWS</h2>\n",
    "<div> \n",
    "    <ul style='font-size:20px'> \n",
    "        <li>   \n",
    "            A AWS nos possibilita conferir tanto IPv4's, quanto IPv6's em nossas VM's. \n",
    "        </li>\n",
    "        <li>\n",
    "            No caso do IPv4, podemos ter tanto uma versão pública, quanto privada dele. Ademais, podemos usar o Elastic IP, que conferirá um IPv4 fixo para nossa instância, mesmo se a desligarmos.\n",
    "        </li>\n",
    "        <li>\n",
    "            O IPv6 possui apenas versões de acesso público na AWS.\n",
    "        </li>\n",
    "    </ul>\n",
    " </div>"
   ]
  },
  {
   "cell_type": "markdown",
   "id": "65bb1939-1db0-4aea-8a89-2afebe66548d",
   "metadata": {},
   "source": [
    "<h2 style='font-size:30px'> VPC, Subnet, Internet Gateway & NAT Gateways</h2>\n",
    "<div> \n",
    "    <ul style='font-size:20px'> \n",
    "        <li>   \n",
    "            VPC's são redes regionais privadas dentro das quais você poderá inserir os seus recursos AWS. Nas VPC's, podemos criar subnets, que são particionamentos dessas redes por AZ.\n",
    "        </li>\n",
    "        <li>\n",
    "            As subnets podem ser tanto públicas -acessíveis pela internet-, quanto privadas - não acessíveis.\n",
    "        </li>\n",
    "        <li>\n",
    "            Para definirmos o acesso de nossas subnets à internet, ou a outra subnet, devemos utilizar as Route Tables.\n",
    "        </li>\n",
    "    </ul>\n",
    " </div>"
   ]
  },
  {
   "cell_type": "markdown",
   "id": "6a95e9ef-ccef-4dd5-93d8-f3792d8a0abb",
   "metadata": {},
   "source": [
    "<figure>\n",
    "    <center style='margin-top:20px'>\n",
    "                <img src='img/15_vpc_diagram.png'>\n",
    "        <figcaption> Demonstração da arquitetura de uma VPC. Note que uma AZ pode conter mais de uma subnet. </figcaption>\n",
    "            </center>\n",
    "</figure>"
   ]
  },
  {
   "cell_type": "markdown",
   "id": "2921f6ed-4e44-48e9-aff4-0df25972b7f5",
   "metadata": {},
   "source": [
    "<h3 style='font-size:30px;font-style:italic'> Internet Gateway & NAT Gateways</h3>\n",
    "<div> \n",
    "    <ul style='font-size:20px'> \n",
    "        <li> \n",
    "            O acesso de uma subnet pública à internet é conduzido com um Internet Gateway. Toda instância deverá ter uma rota configurada a ele para que possa tanto acessar a internet, quanto também receber acessos.\n",
    "        </li>\n",
    "        <li>\n",
    "            Caso deseje que uma instância de uma rede privada acesse a internet, você deverá criar um NAT Gateway na subnet pública. Ele será um intermediador entre a instância e o Internet Gateway.\n",
    "        </li>\n",
    "        <li>\n",
    "            Observe que o NAT Gateway não habilita o acesso <strong>à</strong> VM via internet.\n",
    "        </li>\n",
    "    </ul>\n",
    " </div>"
   ]
  },
  {
   "cell_type": "markdown",
   "id": "5c458866-026a-4eb5-8028-8f7c676a23b0",
   "metadata": {},
   "source": [
    "<figure>\n",
    "    <center style='margin-top:20px'>\n",
    "                <img src='img/10_subnets.png'>\n",
    "        <figcaption> Exemplo da construção de subnets públicas e privadas.\n",
    "        </figcaption>\n",
    "            </center>\n",
    "</figure>"
   ]
  },
  {
   "cell_type": "markdown",
   "id": "0f31ae25-2f7a-40bf-8c2d-bdb9bb25777f",
   "metadata": {},
   "source": [
    "<h2 style='font-size:30px'> Security Groups & Network Access Control List (NACL)</h2>\n",
    "<div> \n",
    "    <ul style='font-size:20px'> \n",
    "        <li>   \n",
    "            A AWS nos permite criar duas entidades que protegerão os recursos de nossas redes. A primeira é a NACL, e a segunda, os Security Groups.\n",
    "        </li>\n",
    "    </ul>\n",
    " </div>"
   ]
  },
  {
   "cell_type": "markdown",
   "id": "47ae8aa8-e216-4a16-afd3-85c1096f3fd2",
   "metadata": {},
   "source": [
    "<h3 style='font-size:30px;font-style:italic'> NACL (Network ACL)</h3>\n",
    "<div> \n",
    "    <ul style='font-size:20px'> \n",
    "        <li> \n",
    "            É uma firewall do nível subnet, que especifica quais endereços de IP podem acessá-la.\n",
    "        </li>\n",
    "        <li> \n",
    "            É aplicada automaticamente a todas as máquinas de seu security group.\n",
    "        </li>\n",
    "        <li>\n",
    "            Habilitam regras de ALLOW e DENY.\n",
    "        </li>\n",
    "    </ul>\n",
    " </div>"
   ]
  },
  {
   "cell_type": "markdown",
   "id": "bf86eb53-5a13-4fa8-bd16-9b19cbd40804",
   "metadata": {},
   "source": [
    "<h3 style='font-size:30px;font-style:italic'> Security Groups</h3>\n",
    "<div> \n",
    "    <ul style='font-size:20px'> \n",
    "        <li> \n",
    "            São firewalls no nível da VM. Controlam quais IP's e outros security groups podem acessar a máquina. \n",
    "        </li>\n",
    "        <li> \n",
    "            Apenas são aplicados mediante escolha do usuário.\n",
    "        </li>\n",
    "        <li>\n",
    "            Permitem apenas a especificação de ALLOW rules.\n",
    "        </li>\n",
    "    </ul>\n",
    " </div>"
   ]
  },
  {
   "cell_type": "markdown",
   "id": "d0bf74e1-0e02-4426-8f98-bc6e64e80b5f",
   "metadata": {},
   "source": [
    "<h2 style='font-size:30px'> VPC Flow Logs & VPC Peering</h2>"
   ]
  },
  {
   "cell_type": "markdown",
   "id": "0f232ee1-1671-4d61-b8f8-6bc4b9fe39c0",
   "metadata": {
    "jp-MarkdownHeadingCollapsed": true
   },
   "source": [
    "<h3 style='font-size:30px;font-style:italic'> VPC Flow Logs</h3>\n",
    "<div> \n",
    "    <ul style='font-size:20px'> \n",
    "        <li> \n",
    "            Serviço de logs de suas redes. Com eles, você poderá identificar com maior facilidade a causa de problemas com sua VPC e Subnets.\n",
    "        </li>\n",
    "        <li>\n",
    "            Podemos encaminhar os logs do VPC Flow Logs para outros serviços, como S3 e CloudWatch Logs.\n",
    "        </li>\n",
    "    </ul>\n",
    " </div>"
   ]
  },
  {
   "cell_type": "markdown",
   "id": "a5a629ea-67e9-44aa-8c6a-add2ee691018",
   "metadata": {
    "jp-MarkdownHeadingCollapsed": true
   },
   "source": [
    "<h3 style='font-size:30px;font-style:italic'> VPC Peering</h3>\n",
    "<div> \n",
    "    <ul style='font-size:20px'> \n",
    "        <li> \n",
    "            É um serviço de integração de VPC's que as faz funcionarem como se fossem uma rede só.\n",
    "        </li>\n",
    "        <li>\n",
    "            As VPC's não podem ter CIDR sobrepostos. E a integração deve ser feita entre cada par de rede participante do peering (não é porque a VPC A é peer de B e C, que estas duas redes também serão peers entre si!).\n",
    "        </li>\n",
    "    </ul>\n",
    " </div>"
   ]
  },
  {
   "cell_type": "markdown",
   "id": "4c3e7dde-514d-49e9-99b2-0497b2ac3d6c",
   "metadata": {
    "jp-MarkdownHeadingCollapsed": true
   },
   "source": [
    "<h2 style='font-size:30px'>  VPC EndPoints - Interface & Gateway (S3 & DynamoDB)</h2>\n",
    "<div> \n",
    "    <ul style='font-size:20px'> \n",
    "        <li> \n",
    "            EndPoints são ferramentas que permitem que nossas aplicações interajam com outros serviços AWS usando a rede privada.\n",
    "        </li>\n",
    "        <li>\n",
    "            VPC EndPoint Gateway: EndPoint voltado à interação com o Dynamo DB e S3.\n",
    "        </li>\n",
    "        <li>\n",
    "            VPC EndPoint Interface: EndPoint para os demais serviços da AWS\n",
    "        </li>\n",
    "    </ul>\n",
    " </div>"
   ]
  },
  {
   "cell_type": "markdown",
   "id": "0c956106-7218-45b2-820a-0123a6a008d5",
   "metadata": {},
   "source": [
    "<h2 style='font-size:30px'>  PrivateLink</h2>\n",
    "<div> \n",
    "    <ul style='font-size:20px'> \n",
    "        <li> \n",
    "            Serviço que permite a interligação de VPC's de contas distintas.\n",
    "        </li>\n",
    "        <li>\n",
    "            Ideal para quando desejamos a comunicação entre redes, mas sem induzir uma integração entre elas (peering). Um exemplo disso seria a comunicação entre a rede de uma empresa com as de seus fornecedores.\n",
    "        </li>\n",
    "        <li>\n",
    "            A rede de origem deverá criar uma Elastic Network Interface; já a de destino, um NLB.\n",
    "            <center style='margin-top:20px'>\n",
    "                <img src='img/15_private_link.png'>\n",
    "            </center>\n",
    "        </li>\n",
    "    </ul>\n",
    " </div>"
   ]
  },
  {
   "cell_type": "markdown",
   "id": "3347be01-4b00-4d46-87f3-f23f4e0ec9de",
   "metadata": {},
   "source": [
    "<h2 style='font-size:30px'>  Direct Connect & Site-to-Site VPN</h2>\n",
    "<div> \n",
    "    <ul style='font-size:20px'> \n",
    "        <li> \n",
    "            Em nuvens públicas, podemos estabelecer uma conexão entre nossa rede on-premises com uma VPC de duas formas:    \n",
    "        </li>\n",
    "    </ul>\n",
    " </div>"
   ]
  },
  {
   "cell_type": "markdown",
   "id": "827a069d-9adb-46e5-910a-b88a00624e1b",
   "metadata": {},
   "source": [
    "<h3 style='font-size:30px;font-style:italic'> Site-to-Site VPN</h3>\n",
    "<div> \n",
    "    <ul style='font-size:20px'> \n",
    "        <li> \n",
    "            Site-to-Site VPN consiste em fazer uma conexão via VPN entre essas redes.\n",
    "        </li>\n",
    "        <li>\n",
    "            No caso, a rede on-premises deverá ter um Customer Gateway, enquanto a VPC, um Virtual Private Gateway\n",
    "        </li>\n",
    "    </ul>\n",
    " </div>"
   ]
  },
  {
   "cell_type": "markdown",
   "id": "aef7d435-8229-4e11-a7dd-8e91944ee474",
   "metadata": {},
   "source": [
    "<h3 style='font-size:30px;font-style:italic'> Direct Connect</h3>\n",
    "<div> \n",
    "    <ul style='font-size:20px'> \n",
    "        <li> \n",
    "            Conexão física direta entre sua rede e a VPC.\n",
    "        </li>\n",
    "    </ul>\n",
    " </div>"
   ]
  },
  {
   "cell_type": "markdown",
   "id": "0d20b1f2-47b6-4d7f-b8fa-2b4cdda24caa",
   "metadata": {
    "jp-MarkdownHeadingCollapsed": true
   },
   "source": [
    "<h2 style='font-size:30px'>  Client VPN</h2>\n",
    "<div> \n",
    "    <ul style='font-size:20px'> \n",
    "        <li>\n",
    "            Permite a conexão de máquinas locais à sua VPC. É necessário ter o Open VPN para usufruir do serviço. \n",
    "        </li>\n",
    "        <li>\n",
    "            A conexão é feita via internet. Uma vez estando dentro da VPC, você poderá se conectar a uma VM EC2 com um IP Privado.\n",
    "        </li>\n",
    "    </ul>\n",
    " </div>"
   ]
  },
  {
   "cell_type": "markdown",
   "id": "66c14870-3222-4196-a80a-ef31ec37796f",
   "metadata": {},
   "source": [
    "<h2 style='font-size:30px'>  Transit Gateway Overview</h2>\n",
    "<div> \n",
    "    <ul style='font-size:20px'> \n",
    "        <li>\n",
    "            Permite conexões transitivas entre as diversas VPC's tidas por uma empresa, sua rede on-premises e, até mesmo, rede de clientes.\n",
    "            <center style='margin-top:20px'>\n",
    "                <img src='img/15_transit_gateway.png'>\n",
    "            </center>\n",
    "        </li>\n",
    "    </ul>\n",
    " </div>"
   ]
  },
  {
   "cell_type": "code",
   "execution_count": 1,
   "id": "9c4c60c7-7988-4817-8c06-139fd70e8581",
   "metadata": {
    "editable": true,
    "slideshow": {
     "slide_type": ""
    },
    "tags": []
   },
   "outputs": [
    {
     "name": "stdout",
     "output_type": "stream",
     "text": [
      "[master 4c52858] Pesquisar sobre Internet e NAT Gateways\n",
      " 9 files changed, 956 insertions(+), 14 deletions(-)\n",
      " create mode 100644 .ipynb_checkpoints/10_vpc-checkpoint.ipynb\n",
      " create mode 100644 10_vpc.ipynb\n",
      " create mode 100644 img/09_multi_policy.png\n",
      " create mode 100644 img/10_subnets.png\n",
      " create mode 100644 img/15_private_link.png\n",
      " create mode 100644 img/15_transit_gateway.png\n",
      " create mode 100644 img/15_vpc_diagram.png\n",
      "Enumerating objects: 15, done.\n",
      "Counting objects: 100% (15/15), done.\n",
      "Delta compression using up to 24 threads\n",
      "Compressing objects: 100% (11/11), done.\n",
      "Writing objects: 100% (11/11), 171.14 KiB | 57.05 MiB/s, done.\n",
      "Total 11 (delta 5), reused 0 (delta 0), pack-reused 0\n",
      "remote: Resolving deltas: 100% (5/5), completed with 4 local objects.\u001b[K\n",
      "To https://github.com/felipesveiga/aws-developer.git\n",
      "   42624a6..4c52858  master -> master\n"
     ]
    }
   ],
   "source": [
    "! git add .\n",
    "! git commit -am 'Definir Internet e NAT Gateways (conversa com o Qwen)' \n",
    "! git push"
   ]
  },
  {
   "cell_type": "markdown",
   "id": "6570bab6-d397-4ad8-857d-da726f1e30ab",
   "metadata": {},
   "source": [
    "<p style='color:red'> Iniciei seção 10; Definir Internet e NAT Gateways (conversa com o Qwen); Aula 111\n",
    "</p>"
   ]
  }
 ],
 "metadata": {
  "kernelspec": {
   "display_name": "Python 3 (ipykernel)",
   "language": "python",
   "name": "python3"
  },
  "language_info": {
   "codemirror_mode": {
    "name": "ipython",
    "version": 3
   },
   "file_extension": ".py",
   "mimetype": "text/x-python",
   "name": "python",
   "nbconvert_exporter": "python",
   "pygments_lexer": "ipython3",
   "version": "3.10.12"
  }
 },
 "nbformat": 4,
 "nbformat_minor": 5
}
