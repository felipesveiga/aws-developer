{
 "cells": [
  {
   "cell_type": "markdown",
   "id": "bf0167d2-ec8f-45c8-99e9-ec23f6371101",
   "metadata": {},
   "source": [
    "<h1 style='font-size:40px'> Advanced S3</h1>"
   ]
  },
  {
   "cell_type": "markdown",
   "id": "6fc47e6a-73f7-423c-9bce-08b62741858a",
   "metadata": {},
   "source": [
    "<h2 style='font-size:30px'> S3 Lifecycle Rules (with S3 Analytics)</h2>\n",
    "<div> \n",
    "    <ul style='font-size:20px'> \n",
    "        <li> \n",
    "            Os usuários podem definir políticas para alterar a classe de armazenamento de objetos no S3.\n",
    "        </li>\n",
    "        <li>\n",
    "            Isso pode ajudar sua empresa na <i> redução de custos</i> com a AWS para dados de menor relevância.\n",
    "        </li>\n",
    "        <li>\n",
    "            O S3 Analytics é um produto que visa sugerir mudanças nas classes de armazenamento dos seus arquivos.\n",
    "        </li>\n",
    "    </ul>\n",
    "</div>"
   ]
  },
  {
   "cell_type": "markdown",
   "id": "e4de614f-ecad-4976-b0f0-cf3ffbe62ea6",
   "metadata": {},
   "source": [
    "<figure>\n",
    "    <center style='font-size:20px;margin-top:20px'> \n",
    "            <img src='img/13_lifecycle_rules.png'>\n",
    "        <figcaption style='font-size:15px'>\n",
    "        </figcaption>\n",
    "    </center>\n",
    "</figure>"
   ]
  },
  {
   "cell_type": "code",
   "execution_count": 2,
   "id": "d5a05eda-a721-4619-b22f-adcc7d6dcf31",
   "metadata": {
    "scrolled": true
   },
   "outputs": [
    {
     "name": "stdout",
     "output_type": "stream",
     "text": [
      "[master 2d2515c] Iniciar seção 13\n",
      " 2 files changed, 60 insertions(+), 30 deletions(-)\n",
      "Enumerating objects: 7, done.\n",
      "Counting objects: 100% (7/7), done.\n",
      "Delta compression using up to 24 threads\n",
      "Compressing objects: 100% (4/4), done.\n",
      "Writing objects: 100% (4/4), 873 bytes | 873.00 KiB/s, done.\n",
      "Total 4 (delta 3), reused 0 (delta 0), pack-reused 0\n",
      "remote: Resolving deltas: 100% (3/3), completed with 3 local objects.\u001b[K\n",
      "To https://github.com/felipesveiga/aws-developer.git\n",
      "   5103f16..2d2515c  master -> master\n"
     ]
    }
   ],
   "source": [
    "! git add .\n",
    "! git commit -am 'Aula 138'\n",
    "! git push"
   ]
  },
  {
   "cell_type": "markdown",
   "id": "dfe81995-8dd3-4f7d-bbfd-8da4ab41452b",
   "metadata": {
    "editable": true,
    "slideshow": {
     "slide_type": ""
    },
    "tags": []
   },
   "source": [
    "<p style='color:red'> Iniciei seção 13; Aula 138</p>"
   ]
  }
 ],
 "metadata": {
  "kernelspec": {
   "display_name": "Python 3 (ipykernel)",
   "language": "python",
   "name": "python3"
  },
  "language_info": {
   "codemirror_mode": {
    "name": "ipython",
    "version": 3
   },
   "file_extension": ".py",
   "mimetype": "text/x-python",
   "name": "python",
   "nbconvert_exporter": "python",
   "pygments_lexer": "ipython3",
   "version": "3.10.12"
  }
 },
 "nbformat": 4,
 "nbformat_minor": 5
}
