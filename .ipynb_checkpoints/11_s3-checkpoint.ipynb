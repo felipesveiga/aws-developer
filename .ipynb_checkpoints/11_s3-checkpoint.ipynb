{
 "cells": [
  {
   "cell_type": "markdown",
   "id": "88476927-7de4-4e85-8306-25f2b4a4bb43",
   "metadata": {},
   "source": [
    "<h1 style='font-size:40px'> Amazon S3</h1>"
   ]
  },
  {
   "cell_type": "markdown",
   "id": "52c31f61-6a15-42b8-b080-a108f0911ca9",
   "metadata": {
    "tags": []
   },
   "source": [
    "<h2 style='font-size:30px'> S3 Overview</h2>\n",
    "<h3 style='font-size:30px;font-style:italic'> Section Introduction</h3>\n",
    "<div> \n",
    "    <ul style='font-size:20px'> \n",
    "        <li> \n",
    "            O S3 é o serviço de armazenamento da AWS, um dos mais famosos da plataforma. \n",
    "        </li>\n",
    "    </ul>\n",
    "</div>"
   ]
  },
  {
   "cell_type": "markdown",
   "id": "eb8f907e-ee50-4c1e-bb67-242d226b9eb4",
   "metadata": {},
   "source": [
    "<h3 style='font-size:30px;font-style:italic'> Amazon S3 Use Cases</h3>\n",
    "<div> \n",
    "    <ul style='font-size:20px'> \n",
    "        <li> \n",
    "            O S3 pode ser usado tanto no armazenamento de arquivos, quanto para hospedagem de sites e aplicativos.\n",
    "        </li>\n",
    "        <li>\n",
    "            É bastante popular na criação de data lakes, no contexto de Engenharia de Dados.\n",
    "        </li>\n",
    "    </ul>\n",
    "</div>"
   ]
  },
  {
   "cell_type": "markdown",
   "id": "a50b20f1-cc10-4dd2-b1a8-c86df812d8b5",
   "metadata": {},
   "source": [
    "<h3 style='font-size:30px;font-style:italic'> Amazon S3 - Buckets</h3>\n",
    "<div> \n",
    "    <ul style='font-size:20px'> \n",
    "        <li> \n",
    "            Buckets são diretórios do S3 dentro dos quais podemos armazenar objetos (arquivos). \n",
    "        </li>\n",
    "        <li>\n",
    "            Os buckets são definidos ao nível de região. Dentro dela, eles devem ter um nome único entre todos os outros buckets das demais contas da AWS.\n",
    "        </li>\n",
    "    </ul>\n",
    "</div>"
   ]
  },
  {
   "cell_type": "markdown",
   "id": "1148f32e-73e7-447b-959c-410e267c021b",
   "metadata": {},
   "source": [
    "<h3 style='font-size:30px;font-style:italic'> Amazon S3 - Objects</h3>\n",
    "<div> \n",
    "    <ul style='font-size:20px'> \n",
    "        <li> \n",
    "            Os objetos são identificados por um path. Ele sempre começará como s3://&lt;nome_bucket&gt;\n",
    "        </li>\n",
    "        <li>\n",
    "            Após esse caminho padrão, haverá a <strong>key</strong>, que é a localização do objeto dentro desse bucket. Ela poderá conter um prefixo (caminho com \"subdiretórios\") e o nome do objeto.\n",
    "        </li>\n",
    "        <li>\n",
    "            Vale notar que o conceito de subdiretório não existe no S3. Você deve imaginar tudo como chaves.\n",
    "            <center style='margin-top:20px'> \n",
    "                <img src='img/07_key.png'>\n",
    "            </center>\n",
    "        </li>\n",
    "    </ul>\n",
    "</div>"
   ]
  },
  {
   "cell_type": "markdown",
   "id": "a5e10e93-4290-4e07-a88d-6c9bd18b0672",
   "metadata": {},
   "source": [
    "<h3 style='font-size:30px;font-style:italic'> Amazon S3 - Objects (Propriedades)</h3>\n",
    "<div> \n",
    "    <ul style='font-size:20px'> \n",
    "        <li> \n",
    "            O S3 admite arquivos de até 5TB de tamanho. Caso o objeto tenha mais de 5GB, o upload deverá ser feito por chunks. \n",
    "        </li>\n",
    "        <li>\n",
    "            Os metadados dos objetos são armazenados no formato &lt;chave&gt;:&lt;valor&gt;. Você também pode vincular tags a eles, da mesma forma que em outros produtos da AWS. \n",
    "        </li>\n",
    "        <li>\n",
    "            Podemos habilitar o versionamento do arquivo também. Nesse caso, um ID será alocado a cada versão dele.\n",
    "        </li>\n",
    "    </ul>\n",
    "</div>"
   ]
  },
  {
   "cell_type": "markdown",
   "id": "34384a30-e4e6-409e-b6dc-162fddfd4919",
   "metadata": {},
   "source": [
    "<h2 style='font-size:30px'> S3 Hands On</h2>\n",
    "<div> \n",
    "    <ul style='font-size:20px'> \n",
    "        <li>\n",
    "            Nessa aula, aprendemos a criar buckets dentro do S3 e fazer upload de arquivos a eles. \n",
    "        </li>\n",
    "        <li> \n",
    "            Quando o objeto é armazenado dentro do bucket, ele recebe uma URL pública. Mas ela apenas funcionará caso permitamos que o bucket receba acesso público.\n",
    "        </li>\n",
    "        <li>\n",
    "            O acesso \"privado\" ao objeto é feito com as chamadas presigned URL's. Elas contém as credenciais do usuário para que a AWS verifique se ele tem permissão para abrir o documento.\n",
    "        </li>\n",
    "    </ul>\n",
    "</div>"
   ]
  },
  {
   "cell_type": "markdown",
   "id": "4b47f2e6-8f2c-4d70-87ab-fedc81c71a67",
   "metadata": {},
   "source": [
    "<h2 style='font-size:30px'> S3 Security: Bucket Policy</h2>\n",
    "<div> \n",
    "    <ul style='font-size:20px'> \n",
    "        <li>\n",
    "            Existem inúmeras técnicas de protegermos o conteúdo de nossos buckets. \n",
    "            <ul> \n",
    "                <li> \n",
    "                    <i> Encriptação:</i> O S3 fornece chaves de encriptação para mascararmos os objetos de nossos buckets.\n",
    "                </li>\n",
    "                <li> \n",
    "                    <i> IAM Policies:</i> Por meio do IAM, conseguimos definir quais requests de API devem ser permitidos a um determinado usuário. \n",
    "                </li>\n",
    "                <li> \n",
    "                    <i> Bucket Policies:</i> Definem quais usuários podem acessar ou não o bucket.\n",
    "                </li>\n",
    "            </ul>\n",
    "        </li>\n",
    "    </ul>\n",
    "</div>"
   ]
  },
  {
   "cell_type": "markdown",
   "id": "7ee0f92e-cd0c-4a13-8ddb-dce72570707f",
   "metadata": {},
   "source": [
    "<h3 style='font-size:30px;font-style:italic'> S3 - Bucket Policies</h3>\n",
    "<div> \n",
    "    <ul style='font-size:20px'> \n",
    "        <li> \n",
    "            As Bucket Policies nada mais são que JSON's com as configurações de permissionamento. Se assemelham bastante com as Permissions do IAM.\n",
    "        </li>\n",
    "        <li>\n",
    "            Podemos usar S3 Policies a fim de:\n",
    "            <ul> \n",
    "                <li> \n",
    "                    Garantir acesso público ou de outras contas AWS ao bucket.\n",
    "                </li>\n",
    "                <li> \n",
    "                    Obrigar a encriptação de objetos no upload.\n",
    "                </li>\n",
    "            </ul>\n",
    "            <center style='margin-top:20px'> \n",
    "                <img src='img/08_s3_policies.png'\n",
    "            </center>\n",
    "        </li>\n",
    "    </ul>\n",
    "</div>"
   ]
  },
  {
   "cell_type": "markdown",
   "id": "1ce9aa6b-d295-4f7f-ab91-5d9218126f7c",
   "metadata": {},
   "source": [
    "<h3 style='font-size:30px;font-style:italic'> IAM Permissions</h3>\n",
    "<div> \n",
    "    <ul style='font-size:20px'> \n",
    "        <li> \n",
    "            Os acessos de uma conta AWS podem ser também garantidos com permissões IAM. Em seu JSON, podemos especificar uma habilitação do usuário de entrar em um Bucket.\n",
    "        </li>\n",
    "    </ul>\n",
    "</div>"
   ]
  },
  {
   "cell_type": "markdown",
   "id": "674d3e36-b0cb-4ecf-ad9e-18756e24c29a",
   "metadata": {},
   "source": [
    "<h3 style='font-size:30px;font-style:italic'> EC2 Instance Access</h3>\n",
    "<div> \n",
    "    <ul style='font-size:20px'> \n",
    "        <li> \n",
    "            Como aprendemos em módulos anteriores, podemos conferir o acesso de instâncias ao Bucket com IAM Roles\n",
    "        </li>\n",
    "    </ul>\n",
    "</div>"
   ]
  },
  {
   "cell_type": "markdown",
   "id": "e76ef2dc-3b0b-4ed8-b9fa-4ed23882c16f",
   "metadata": {},
   "source": [
    "<h3 style='font-size:30px;font-style:italic'> Cross-Account Access</h3>\n",
    "<div> \n",
    "    <ul style='font-size:20px'> \n",
    "        <li> \n",
    "            Quando quisermos habilitar o acesso de um IAM User de outra conta ao Bucket, devemos criar uma S3 Bucket Policy.\n",
    "        </li>\n",
    "    </ul>\n",
    "</div>"
   ]
  },
  {
   "cell_type": "markdown",
   "id": "8976c6ee-ef3a-4116-bcde-2d972ed5a7b1",
   "metadata": {},
   "source": [
    "<h3 style='font-size:30px;font-style:italic'> Bucket Settings for Block Public Access</h3>\n",
    "<div> \n",
    "    <ul style='font-size:20px'> \n",
    "        <li> \n",
    "            Quando estamos criando nosso bucket, a AWS já nos possibilita impedir o acesso público a ele.\n",
    "        </li>\n",
    "        <li> \n",
    "            Caso você queira que nenhum de seus buckets possa ter acesso público, você pode definir esse bloqueio no nível de sua conta.\n",
    "        </li>\n",
    "    </ul>\n",
    "</div>"
   ]
  },
  {
   "cell_type": "markdown",
   "id": "e473cd44-af7f-4502-b367-6efca83cb721",
   "metadata": {},
   "source": [
    "<h2 style='font-size:30px'> S3 Security: Bucket Policy Hands On</h2>\n",
    "<div> \n",
    "    <ul style='font-size:20px'> \n",
    "        <li>\n",
    "            Nessa aula, aprendemos a habilitar acesso público a um S3 Bucket.\n",
    "        </li>\n",
    "        <li>\n",
    "            Antes de tudo, devemos acessar as Permissions do nosso Bucket e desmarcar todas as opções da seção <strong> Block public acess (bucket settings)</strong>. Note isso não garante o acesso público por si só, já que essas configurações servem para apenas anular S3 Policies ou ACL's que garantem tal tipo de visibilidade.\n",
    "            <center style='margin-top:20px'> \n",
    "                <img src='img/08_block_public.png'>\n",
    "            </center>\n",
    "        </li>\n",
    "    </ul>\n",
    "</div>"
   ]
  },
  {
   "cell_type": "markdown",
   "id": "221bd77c-4f28-4f79-9698-213ddd798887",
   "metadata": {},
   "source": [
    "<h3 style='font-size:30px;font-style:italic'> Criando a S3 Policy</h3>\n",
    "<div> \n",
    "    <ul style='font-size:20px'> \n",
    "        <li> \n",
    "            Uma vez desmarcadas as opções, crie a sua S3 Bucket Policy indo em \"Bucket Policy\", ainda no menu de Permissions. Clique em \"Edit\", e depois em \"Policy Generator\".\n",
    "        </li>\n",
    "        <li>\n",
    "            Preencha o formulário indicando que você desejar gerar uma S3 Policy. Como desejamos garantir o acesso público ao conteúdo do Bucket, insira um * em \"Principal\" e \"GetObject\" no Dropdown de \"Actions\".\n",
    "            <center style='margin-top:20px'> \n",
    "                <img src='img/08_policy_generator.png'\n",
    "            </center>\n",
    "        </li>\n",
    "        <li>\n",
    "            Copie o JSON gerado e cole-o na declaração da Policy. Uma vez salvas as mudanças, todos os conteúdos do seu bucket poderão ser acessados publicamente!\n",
    "        </li>\n",
    "    </ul>\n",
    "</div>"
   ]
  },
  {
   "cell_type": "markdown",
   "id": "0f93437c-ca04-40a9-95ce-142ca8d04dc1",
   "metadata": {},
   "source": [
    "<h2 style='font-size:30px'> S3 Website Overview</h2>\n",
    "<div> \n",
    "    <ul style='font-size:20px'> \n",
    "        <li>\n",
    "            O S3 também consegue hostear sites estáticos. Para isso, é essencial o bucket que o hospeda ter o acesso público permitido.\n",
    "        </li>\n",
    "    </ul>\n",
    "</div>"
   ]
  },
  {
   "cell_type": "markdown",
   "id": "eee5f41d-f834-4c4b-8ec9-5bea0499780e",
   "metadata": {},
   "source": [
    "<h2 style='font-size:30px'> S3 Website Hands On</h2>\n",
    "<div> \n",
    "    <ul style='font-size:20px'> \n",
    "        <li>\n",
    "            A hospedagem de um site estático pode ser permitida na aba \"Properties\" do seu bucket, em \"Static website hosting\".\n",
    "        </li>\n",
    "        <li> \n",
    "            Ao habilitar o hosteamento, você deve informar o arquivo da página principal da sua aplicação (index.html).\n",
    "        </li>\n",
    "    </ul>\n",
    "</div>"
   ]
  },
  {
   "cell_type": "markdown",
   "id": "8b4b6838-3c08-4c72-a68f-7a1c5718eaad",
   "metadata": {},
   "source": [
    "<h2 style='font-size:30px'> S3 Versioning Overview</h2>\n",
    "<div> \n",
    "    <ul style='font-size:20px'> \n",
    "        <li>\n",
    "            A AWS permite o versionamento dos arquivos do seu Bucket logo em seu criação.\n",
    "        </li>\n",
    "        <li>\n",
    "            Dessa forma, qualquer ação de overwrite dos objetos acarretará na criação de uma nova versão deles. Isso é ótimo, caso precisemos dar rollback.\n",
    "        </li>\n",
    "        <li>\n",
    "            O versionamento também garante a recuperação de arquivos, caso haja deleção não intencional.\n",
    "        </li>\n",
    "    </ul>\n",
    "</div>"
   ]
  },
  {
   "cell_type": "markdown",
   "id": "27dc09dd-b3d5-4194-9f37-f2316ab3ebca",
   "metadata": {},
   "source": [
    "<h3 style='font-size:30px;font-style:italic'>Observações</h3>\n",
    "<div> \n",
    "    <ul style='font-size:20px'> \n",
    "        <li> \n",
    "            Qualquer arquivo não versionado ficará com versão null após a habilitação.\n",
    "        </li>\n",
    "        <li>\n",
    "            A suspenção de versionamento não deletará as versões dos objetos.\n",
    "        </li>\n",
    "    </ul>\n",
    "</div>"
   ]
  },
  {
   "cell_type": "markdown",
   "id": "d473a8e0-c83c-44f4-b917-413b4dfff88d",
   "metadata": {},
   "source": [
    "<h2 style='font-size:30px'> S3 Versioning Hands On</h2>\n",
    "<div> \n",
    "    <ul style='font-size:20px'> \n",
    "        <li>\n",
    "            Habilitando o versionamento de objetos, permitimos um conjunto de ações dentro do bucket, que podem parecer um tanto confusas.\n",
    "        </li>\n",
    "        <li>\n",
    "            Na listagem dos objetos, aparecerá um toggle \"Show Versions\". Quando está desligado, a tela somente mostra os arquivos do bucket; mas ao ligá-lo, a relação de versões dos arquivos aparece \n",
    "        </li>\n",
    "        <li>\n",
    "            Com isso, deletar um objeto com \"Show Versions\" desligado apenas o fará sumir da relação de arquivos, criando uma versão sua recuperável com a marcação \"Delete Marker\". Agora, quando apagamos um item com o \"Show Versions\" ligado, estamos deletando uma versão do objeto, sendo isso irreversível.\n",
    "        </li>\n",
    "    </ul>\n",
    "</div>"
   ]
  },
  {
   "cell_type": "markdown",
   "id": "3d89b8bf-3c80-43d7-89e3-6924c6a4d30e",
   "metadata": {},
   "source": [
    "<h3 style='font-size:30px;font-style:italic'> Recuperação de Arquivos Deletados</h3>\n",
    "<div> \n",
    "    <ul style='font-size:20px'> \n",
    "        <li> \n",
    "            Para recuperar um arquivo deletado, apenas apague a sua versão com \"Delete Marker\".\n",
    "        </li>\n",
    "    </ul>\n",
    "</div>"
   ]
  },
  {
   "cell_type": "markdown",
   "id": "1a7d06e1-b0eb-4315-bb4b-78e78a6ca2ae",
   "metadata": {},
   "source": [
    "<h2 style='font-size:30px'> S3 Replication Overview</h2>\n",
    "<div> \n",
    "    <ul style='font-size:20px'> \n",
    "        <li>\n",
    "            Consiste na replicação do conteúdo de um bucket em outro, podendo isso ser feito em repositórios de regiões distintas (CRR), ou iguais (SRR).\n",
    "        </li>\n",
    "        <li>\n",
    "            Garanta que esses buckets tenham versionamento habilitado e as permissões IAM necessárias.\n",
    "        </li>\n",
    "        <li>\n",
    "            Os buckets podem pertencer a contas diferentes também!\n",
    "        </li>\n",
    "    </ul>\n",
    "</div>"
   ]
  },
  {
   "cell_type": "markdown",
   "id": "88a891b3-567a-4aad-95be-efc6c942787a",
   "metadata": {},
   "source": [
    "<h2 style='font-size:30px'> S3 Replication Hands On</h2>\n",
    "<div> \n",
    "    <ul style='font-size:20px'> \n",
    "        <li>\n",
    "            A habilitação da replicação deve ser feita na aba de Management do seu bucket.\n",
    "        </li>\n",
    "        <li>\n",
    "            Por lá, você pode escolher o escopo da sua regra, assim como o bucket-alvo. Em IAM Role, coloque \"Create new Role\".\n",
    "        </li>\n",
    "        <li>\n",
    "            Uma vez ativada, os objetos depositados no bucket de origem serão colocados automaticamente no de destino.\n",
    "        </li>\n",
    "    </ul>\n",
    "</div>"
   ]
  },
  {
   "cell_type": "markdown",
   "id": "e27206d5-8f86-4546-bee4-f0585240bbf4",
   "metadata": {},
   "source": [
    "<h2 style='font-size:30px'> S3 Storage Classes Overview</h2>\n",
    "<div> \n",
    "    <ul style='font-size:20px'> \n",
    "        <li>\n",
    "            Storage Classes são modalidades de armazenamento de objetos nos S3 Buckets, cada uma com um certo grau de <i>availability</i>.\n",
    "        </li>\n",
    "        <li>\n",
    "            Entenda availability como o quão frequente o objeto está disponível para ser prontamente acessado.\n",
    "        </li>\n",
    "    </ul>\n",
    "</div>"
   ]
  },
  {
   "cell_type": "markdown",
   "id": "0d6cd55c-c2a4-4286-ac2f-2c485b675291",
   "metadata": {},
   "source": [
    "<h3 style='font-size:30px;font-style:italic'> S3 Standard</h3>\n",
    "<div> \n",
    "    <ul style='font-size:20px'> \n",
    "        <li> \n",
    "            É a Storage Class de uso geral do S3. Possui uma availability de 99.99% e apresenta baixa latência e alto throughput.\n",
    "        </li>\n",
    "        <li>\n",
    "            Indicado para Big Data Analytics; aplicações web e de gaming; e distribuição de conteúdo.\n",
    "        </li>\n",
    "    </ul>\n",
    "</div>"
   ]
  },
  {
   "cell_type": "markdown",
   "id": "82eea575-4183-423e-ad74-572bdbda85d9",
   "metadata": {},
   "source": [
    "<h3 style='font-size:30px;font-style:italic'> S3 Standard-Infrequent Access (IA)</h3>\n",
    "<div> \n",
    "    <ul style='font-size:20px'> \n",
    "        <li> \n",
    "            Recomendado para objetos pouco acessados, mas que precisam ser rapidamente carregados quando precisados.\n",
    "        </li>\n",
    "        <li>\n",
    "            Possui custos menores, mas cobra pelo carregamento das informações.\n",
    "        </li>\n",
    "        <li>\n",
    "            Possui duas modalidades:\n",
    "        </li>\n",
    "    </ul>\n",
    "</div>"
   ]
  },
  {
   "cell_type": "markdown",
   "id": "b7e6e279-ad27-459d-8674-e07bd4e29423",
   "metadata": {},
   "source": [
    "<h4 style='font-size:30px;font-style:italic;text-decoration:underline'> S3 Standard-IA</h4>\n",
    "<div> \n",
    "    <ul style='font-size:20px'> \n",
    "        <li> \n",
    "            Tem 99.9% de disponibilidade.\n",
    "        </li>\n",
    "        <li>\n",
    "            Útil para a montagem de backups.\n",
    "        </li>\n",
    "    </ul>\n",
    "</div>"
   ]
  },
  {
   "cell_type": "markdown",
   "id": "d816440a-5fb7-4d9d-974b-90bec42ba858",
   "metadata": {},
   "source": [
    "<h4 style='font-size:30px;font-style:italic;text-decoration:underline'> S3 One Zone-IA</h4>\n",
    "<div> \n",
    "    <ul style='font-size:20px'> \n",
    "        <li> \n",
    "            Mantém os arquivos em uma única AZ. Isso os torna mais vulneráveis a perdas definitivas, em caso de problemas nessa zona.\n",
    "        </li>\n",
    "        <li>\n",
    "            Oferece alta durabilidade (99.999999999%) e disponibilidade de 99.5%.\n",
    "        </li>\n",
    "        <li>\n",
    "            Recomendado para backups secundários.\n",
    "        </li>\n",
    "    </ul>\n",
    "</div>"
   ]
  },
  {
   "cell_type": "markdown",
   "id": "e4a44295-e2ba-44c3-b9d9-3b876ecde26b",
   "metadata": {},
   "source": [
    "<h3 style='font-size:30px;font-style:italic'> Amazon S3 Glacier Storage Class</h3>\n",
    "<div> \n",
    "    <ul style='font-size:20px'> \n",
    "        <li> \n",
    "            Modalidade especializada em backups. Exige que os arquivos fiquem armazenados por um certo período de tempo.\n",
    "        </li>\n",
    "        <li>\n",
    "            Pagamento por armazenamento + coleta dos dados.\n",
    "        </li>\n",
    "    </ul>\n",
    "</div>"
   ]
  },
  {
   "cell_type": "markdown",
   "id": "4f8beb6d-100d-4385-9eeb-69d7ae2cf800",
   "metadata": {},
   "source": [
    "<h4 style='font-size:30px;font-style:italic;text-decoration:underline'> Amazon S3 Glacier Instant Retrieval</h4>\n",
    "<div> \n",
    "    <ul style='font-size:20px'> \n",
    "        <li> \n",
    "            Oferece retorno instantâneo dos dados, mas exige que eles fiquem armazenados por pelo menos 90 dias.\n",
    "        </li>\n",
    "    </ul>\n",
    "</div>"
   ]
  },
  {
   "cell_type": "markdown",
   "id": "9bc311b4-a49e-4d33-b728-e007f3ad05ad",
   "metadata": {},
   "source": [
    "<h4 style='font-size:30px;font-style:italic;text-decoration:underline'> Amazon S3 Glacier Flexible Retrieval</h4>\n",
    "<div> \n",
    "    <ul style='font-size:20px'> \n",
    "        <li> \n",
    "            Possui tempo de retorno customizável:\n",
    "            <ul> \n",
    "                <li>\n",
    "                    Expedited: 1 a 5 minutos.\n",
    "                </li>\n",
    "                <li>\n",
    "                    Standard: 3 a 5 horas.\n",
    "                </li>\n",
    "                <li> \n",
    "                    Bulk: 5 a 12 horas (gratuito)\n",
    "                </li>\n",
    "            </ul>\n",
    "            <li>\n",
    "                Os dados devem ficar armazenados por pelo menos 90 dias.\n",
    "            </li>\n",
    "        </li>\n",
    "    </ul>\n",
    "</div>"
   ]
  },
  {
   "cell_type": "markdown",
   "id": "a37b1006-175a-410b-adbb-3d80581b70e3",
   "metadata": {},
   "source": [
    "<h4 style='font-size:30px;font-style:italic;text-decoration:underline'> Amazon S3 Glacier Deep Archive</h4>\n",
    "<div> \n",
    "    <ul style='font-size:20px'> \n",
    "        <li> \n",
    "            Voltado a dados de uso de longo-prazo.\n",
    "        </li>\n",
    "        <li>\n",
    "            Tem duas modalidades:\n",
    "            <ul> \n",
    "                <li> \n",
    "                    Standard: 12 horas.\n",
    "                </li>\n",
    "                <li> \n",
    "                    Bulk: 48 horas.\n",
    "                </li>\n",
    "            </ul>\n",
    "        </li>\n",
    "        <li>\n",
    "            Os arquivos devem ficar armazenados por no mínimo 180 dias.\n",
    "        </li>\n",
    "    </ul>\n",
    "</div>"
   ]
  },
  {
   "cell_type": "markdown",
   "id": "6a5cc998-beed-445c-8cfd-c2970dd2f32b",
   "metadata": {},
   "source": [
    "<h3 style='font-size:30px;font-style:italic'> S3 Intelligent Tiering</h3>\n",
    "<div> \n",
    "    <ul style='font-size:20px'> \n",
    "        <li> \n",
    "            Automaticamente designa seus objetos a Storage Classes de acordo com seu padrão de uso.\n",
    "        </li>\n",
    "        <li>\n",
    "            Demanda uma taxa mensal para ser usado, mas não cobra Retrieval Charges.\n",
    "        </li>\n",
    "    </ul>\n",
    "</div>"
   ]
  },
  {
   "cell_type": "markdown",
   "id": "3f3e0ad7-f7e3-4bf0-8626-d6b4fa38374f",
   "metadata": {},
   "source": [
    "<h4 style='font-size:30px;font-style:italic;text-decoration:underline'> Frequent Access Tier</h4>\n",
    "<div> \n",
    "    <ul style='font-size:20px'> \n",
    "        <li> \n",
    "            Camada de armazenamento padrão. Armazena objetos frequentemente acessados.\n",
    "        </li>\n",
    "    </ul>\n",
    "</div>"
   ]
  },
  {
   "cell_type": "markdown",
   "id": "b9cd8f57-0653-458e-820a-7c6031874c35",
   "metadata": {},
   "source": [
    "<h4 style='font-size:30px;font-style:italic;text-decoration:underline'> Infrequent Access Tier</h4>\n",
    "<div> \n",
    "    <ul style='font-size:20px'> \n",
    "        <li> \n",
    "            Para objetos não acessados nos últimos 30 dias.\n",
    "        </li>\n",
    "    </ul>\n",
    "</div>"
   ]
  },
  {
   "cell_type": "markdown",
   "id": "0b0db5c3-cd28-4601-b9cb-b5815b44a817",
   "metadata": {},
   "source": [
    "<h4 style='font-size:30px;font-style:italic;text-decoration:underline'> Archive Instant Access Tier</h4>\n",
    "<div> \n",
    "    <ul style='font-size:20px'> \n",
    "        <li> \n",
    "            Para objetos não acessados nos últimos 90 dias.\n",
    "        </li>\n",
    "    </ul>\n",
    "</div>"
   ]
  },
  {
   "cell_type": "markdown",
   "id": "d393a8b6-5b84-484f-a6b1-015b9ace0e12",
   "metadata": {},
   "source": [
    "<h4 style='font-size:30px;font-style:italic;text-decoration:underline'> Archive Access Tier</h4>\n",
    "<div> \n",
    "    <ul style='font-size:20px'> \n",
    "        <li> \n",
    "            Para objetos não acessados nos últimos 90 até 700 ou mais dias.\n",
    "        </li>\n",
    "        <li>\n",
    "            Camada de acesso opcional\n",
    "        </li>\n",
    "    </ul>\n",
    "</div>"
   ]
  },
  {
   "cell_type": "markdown",
   "id": "4cf58f60-0bd8-4e4f-bdef-6ff11c9e428d",
   "metadata": {},
   "source": [
    "<h4 style='font-size:30px;font-style:italic;text-decoration:underline'> Deep Archive Access Tier</h4>\n",
    "<div> \n",
    "    <ul style='font-size:20px'> \n",
    "        <li> \n",
    "            Para objetos não acessados nos últimos 180 até 700 ou mais dias.\n",
    "        </li>\n",
    "        <li>\n",
    "            Camada de acesso opcional.\n",
    "        </li>\n",
    "    </ul>\n",
    "</div>"
   ]
  },
  {
   "cell_type": "markdown",
   "id": "7608ee7a-e951-471e-98cc-d749afad89ba",
   "metadata": {},
   "source": [
    "<h2 style='font-size:30px'> S3 Storage Classes Hands On</h2>\n",
    "<div> \n",
    "    <ul style='font-size:20px'> \n",
    "        <li>\n",
    "            As Storage Classes dos objetos podem ser redefinidas em qualquer instante (tanto na sua criação, quanto no menu do S3 ao clicar no nome do objeto). \n",
    "        </li>\n",
    "        <li>\n",
    "            Você pode criar uma configuração que ajusta a storage class dos objetos de seu bucket automaticamente. Para isso, acesse a tab Management e crie uma Lifecycle Rule.\n",
    "            <center style='margin-top:20px'> \n",
    "                <img src='img/08_lifecycle_rule.png'>\n",
    "            </center>\n",
    "        </li>\n",
    "    </ul>\n",
    "</div>"
   ]
  },
  {
   "cell_type": "markdown",
   "id": "d30c386d-9052-42f3-81d0-80b4d5b25e34",
   "metadata": {},
   "source": [
    "<h2 style='font-size:30px'> S3 Encryption</h2>\n",
    "<div> \n",
    "    <ul style='font-size:20px'> \n",
    "        <li>\n",
    "            Os servidores do S3 têm a capacidade de encriptarem os objetos de diversas formas. Isso é conhecido como <i>Server-side Encryption</i>.\n",
    "        </li>\n",
    "        <li>\n",
    "            No entanto, o próprio usuário pode encaminhar os arquivos já encriptados ao bucket, se desejar.\n",
    "        </li>\n",
    "    </ul>\n",
    "</div>"
   ]
  },
  {
   "cell_type": "markdown",
   "id": "b2676a8a-b4b7-4064-9093-8f88f869b018",
   "metadata": {},
   "source": [
    "<h2 style='font-size:30px'> IAM Access Analyzer for S3</h2>\n",
    "<div> \n",
    "    <ul style='font-size:20px'> \n",
    "        <li>\n",
    "            O IAM Access Analyzer for S3 oferece uma interface unificada onde o usuário poderá enxergar os status de visibilidade de cada um de seus buckets. O serviço analisa as Bucket Policies, ACL's, etc. \n",
    "        </li>\n",
    "        <li>\n",
    "            Nele, você poderá ver quais outros usuários têm acesso ao bucket, assim como verificar se algum desses tem acesso público.\n",
    "        </li>\n",
    "    </ul>\n",
    "</div>"
   ]
  },
  {
   "cell_type": "markdown",
   "id": "e0e89ffe-6520-455b-be42-35ff465e0232",
   "metadata": {},
   "source": [
    "<h2 style='font-size:30px'> Shared Responsibility Model for S3</h2>\n",
    "<center style='margin-top:20px'> \n",
    "                <img src='img/08_shared_responsibility.png'>\n",
    "            </center>"
   ]
  },
  {
   "cell_type": "markdown",
   "id": "dae1c1fc-851d-4052-8065-daab1099ff00",
   "metadata": {},
   "source": [
    "<h2 style='font-size:30px'> AWS Snow Family Overview</h2>\n",
    "<div> \n",
    "    <ul style='font-size:20px'> \n",
    "        <li>\n",
    "            Snow Family é um conjunto de dispositivos físicos capazes de migrar dados entre sua estrutura on-premises e a AWS, ou coletar e processar dados em edge devices.\n",
    "        </li>\n",
    "    </ul>\n",
    "</div>"
   ]
  },
  {
   "cell_type": "markdown",
   "id": "7f2a4d5f-8c72-4834-ab01-3cc2bdbba2bb",
   "metadata": {},
   "source": [
    "<h3 style='font-size:30px;font-style:italic'> Data Migration With Snow Family</h3>\n",
    "<div> \n",
    "    <ul style='font-size:20px'> \n",
    "        <li> \n",
    "            A AWS oferece três tipos de dispositivos para lidarmos com migrações de dados:\n",
    "        </li>\n",
    "    </ul>\n",
    "</div>"
   ]
  },
  {
   "cell_type": "markdown",
   "id": "85c98f3a-90af-4565-b370-a4dcc85ac26d",
   "metadata": {},
   "source": [
    "<center style='margin-top:20px'> \n",
    "                <img src='img/08_snowball.png'>\n",
    "            </center>"
   ]
  },
  {
   "cell_type": "markdown",
   "id": "0bc95a65-9f0f-4b91-95c6-acbfb12c980b",
   "metadata": {},
   "source": [
    "<center style='margin-top:20px'> \n",
    "                <img src='img/08_snowcone.png'>\n",
    "            </center>"
   ]
  },
  {
   "cell_type": "markdown",
   "id": "28099107-e74f-4821-b7c6-a9ef8b32b90e",
   "metadata": {},
   "source": [
    "<center style='margin-top:20px'> \n",
    "                <img src='img/08_snowmobile.png'>\n",
    "            </center>"
   ]
  },
  {
   "cell_type": "markdown",
   "id": "f5506a6f-0404-4b61-b93a-fc05db4eef12",
   "metadata": {},
   "source": [
    "<h3 style='font-size:30px;font-style:italic'> Ciclo de Uso dos Produtos Snow Family</h3>\n",
    "<div> \n",
    "    <ul style='font-size:20px'> \n",
    "        <li> \n",
    "            Uma vez solicitado o componente, instale o Snowball Client ou o AWS OpsHub nos seus servidores.\n",
    "        </li>\n",
    "        <li>\n",
    "            Mova os arquivos para o dispositivo snowball. Quando terminar o procedimento, encaminhe o aparelho de volta à AWS.\n",
    "        </li>\n",
    "        <li>\n",
    "            A Amazon vai transferir todo o conteúdo do snowball para o S3 e limpá-lo, assim que o upload for finalizado.\n",
    "        </li>\n",
    "    </ul>\n",
    "</div>"
   ]
  },
  {
   "cell_type": "markdown",
   "id": "d3e515fb-d1e8-4f18-aacc-da2171cdc8a6",
   "metadata": {},
   "source": [
    "<h3 style='font-size:30px;font-style:italic'>  What is Edge Computing?</h3>\n",
    "<div> \n",
    "    <ul style='font-size:20px'> \n",
    "        <li> \n",
    "            Consiste em processar dados em locais de difícil alcance da internet ou de poder computacional.\n",
    "        </li>\n",
    "        <li>\n",
    "            O Edge Computing pode ser realizado em aplicações de processamento de dados em navios e minas energéticas.\n",
    "        </li>\n",
    "        <li>\n",
    "            A AWS Snow Family fornece hardwares capazes de realizarem Edge Computing. Eles conseguem hostear instâncias EC2, assim como funções Lambda.\n",
    "            <center style='margin-top:20px'> \n",
    "                <img src='img/08_edge_computing.png'>\n",
    "            </center>\n",
    "        </li>\n",
    "    </ul>\n",
    "</div>"
   ]
  },
  {
   "cell_type": "markdown",
   "id": "983c6657-d578-44b5-8a22-6931164fd514",
   "metadata": {},
   "source": [
    "<h3 style='font-size:30px;font-style:italic'>  AWS OpsHub</h3>\n",
    "<div> \n",
    "    <ul style='font-size:20px'> \n",
    "        <li> \n",
    "             É o software de gerenciamento dos seus Snow Family devices. Você o instala em sua máquina local.\n",
    "        </li>\n",
    "        <li>\n",
    "            Nele, você pode tanto configurar, quanto monitorar os seus aparelhos.\n",
    "        </li>\n",
    "    </ul>\n",
    "</div>"
   ]
  },
  {
   "cell_type": "markdown",
   "id": "2610edb2-c8b1-4083-995f-45ce2c8fde91",
   "metadata": {},
   "source": [
    "<h2 style='font-size:30px'> AWS Snowball Edge - Pricing</h2>\n",
    "<div> \n",
    "    <ul style='font-size:20px'> \n",
    "        <li>\n",
    "            Os dispositivos snow são cobrados por tempo de utilização, e pela quantidade de dados que saem da AWS.\n",
    "        </li>\n",
    "        <li>\n",
    "            Qualquer inserção de dados na AWS feita com esses aparelhos é gratuita.\n",
    "        </li>\n",
    "    </ul>\n",
    "</div>"
   ]
  },
  {
   "cell_type": "markdown",
   "id": "9170ff0f-5c9f-4bd2-b84f-04a9c2b7ef87",
   "metadata": {},
   "source": [
    "<h3 style='font-size:30px;font-style:italic'>  Uso On-Demand</h3>\n",
    "<div> \n",
    "    <ul style='font-size:20px'> \n",
    "        <li> \n",
    "             Você recebe uma quantidade de dias de uso grátis do aparelho (sem considerar o tempo de entrega!). Dias adicionais induzem cobranças extras.\n",
    "            <ul>\n",
    "                <li> \n",
    "                    Snowball Edge Storage Optimized 80TB: 10 dias grátis.\n",
    "                </li>\n",
    "                <li> \n",
    "                    Snowball Edge Storage Optimized: 210TB: 15 dias grátis.\n",
    "                </li>\n",
    "            </ul>\n",
    "        </li>\n",
    "    </ul>\n",
    "</div>"
   ]
  },
  {
   "cell_type": "markdown",
   "id": "6b648c27-37cf-4597-8f51-a4122395a6ad",
   "metadata": {},
   "source": [
    "<h3 style='font-size:30px;font-style:italic'>  Committed Upfront</h3>\n",
    "<div> \n",
    "    <ul style='font-size:20px'> \n",
    "        <li> \n",
    "            Modelo parecido com o de Reserved Instances. Você pode alugar o uso do dispositivo por 1 ou 3 anos, fazendo o pagamento adiantado.\n",
    "        </li>\n",
    "    </ul>\n",
    "</div>"
   ]
  },
  {
   "cell_type": "markdown",
   "id": "24d787d9-faca-4f5b-b667-2c5d59012f1d",
   "metadata": {},
   "source": [
    "<h2 style='font-size:30px'> Storage Gateway Overview</h2>\n",
    "<div> \n",
    "    <ul style='font-size:20px'> \n",
    "        <li>\n",
    "            Storage Gateway é o serviço que conecta dados on-premises com os armazenados na AWS.\n",
    "        </li>\n",
    "        <li>\n",
    "            Pode ser útil como backup em ocorrências de desastres.\n",
    "        </li>\n",
    "        <li>\n",
    "            Existem 3 modalidades do serviço:\n",
    "            <ul> \n",
    "                <li> \n",
    "                    File Gateway\n",
    "                </li>\n",
    "                <li> \n",
    "                    Volume Gateway\n",
    "                </li>\n",
    "                <li> \n",
    "                    Tape Gateway\n",
    "                </li>\n",
    "            </ul>\n",
    "        </li>\n",
    "    </ul>\n",
    "</div>"
   ]
  },
  {
   "cell_type": "code",
   "execution_count": 3,
   "id": "9c4c60c7-7988-4817-8c06-139fd70e8581",
   "metadata": {
    "editable": true,
    "slideshow": {
     "slide_type": ""
    },
    "tags": []
   },
   "outputs": [
    {
     "name": "stdout",
     "output_type": "stream",
     "text": [
      "[master 5c48259] Aula 112\n",
      " 2 files changed, 28 insertions(+), 42 deletions(-)\n",
      "Enumerating objects: 7, done.\n",
      "Counting objects: 100% (7/7), done.\n",
      "Delta compression using up to 24 threads\n",
      "Compressing objects: 100% (4/4), done.\n",
      "Writing objects: 100% (4/4), 696 bytes | 696.00 KiB/s, done.\n",
      "Total 4 (delta 3), reused 0 (delta 0), pack-reused 0\n",
      "remote: Resolving deltas: 100% (3/3), completed with 3 local objects.\u001b[K\n",
      "To https://github.com/felipesveiga/aws-developer.git\n",
      "   039e219..5c48259  master -> master\n"
     ]
    }
   ],
   "source": [
    "! git add .\n",
    "! git commit -am 'Iniciar seção 11' \n",
    "! git push"
   ]
  },
  {
   "cell_type": "markdown",
   "id": "327af187-a11d-4174-9d0d-d53c26b69951",
   "metadata": {},
   "source": [
    "<p style='color:red'> Terminei seção 10 (Aula 114); Iniciar seção 11\n",
    "</p>"
   ]
  }
 ],
 "metadata": {
  "kernelspec": {
   "display_name": "Python 3 (ipykernel)",
   "language": "python",
   "name": "python3"
  },
  "language_info": {
   "codemirror_mode": {
    "name": "ipython",
    "version": 3
   },
   "file_extension": ".py",
   "mimetype": "text/x-python",
   "name": "python",
   "nbconvert_exporter": "python",
   "pygments_lexer": "ipython3",
   "version": "3.10.12"
  }
 },
 "nbformat": 4,
 "nbformat_minor": 5
}
