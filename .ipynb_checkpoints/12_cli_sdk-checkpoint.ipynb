{
 "cells": [
  {
   "cell_type": "markdown",
   "id": "51e2d032-ea80-44ea-8ffe-c2ea8da9adca",
   "metadata": {},
   "source": [
    "<h1 style='font-size:40px'> AWS CLI, SDK, IAM Roles & Policies</h1>"
   ]
  },
  {
   "cell_type": "markdown",
   "id": "e96675cc-0e74-4a05-8966-3bd0624df7d2",
   "metadata": {
    "jp-MarkdownHeadingCollapsed": true
   },
   "source": [
    "<h2 style='font-size:30px'> AWS EC2 Instance Metadata</h2>\n",
    "<div> \n",
    "    <ul style='font-size:20px'> \n",
    "        <li> \n",
    "            A AWS fornece uma API com a qual podemos consultar metadados sobre nossas instâncias EC2.\n",
    "        </li>\n",
    "        <li>\n",
    "            Fazendo um `curl` a ela, conseguimos resgatar dados de Security Groups ou endereços de IP da máquina. \n",
    "        </li>\n",
    "        <li>\n",
    "            Quando executamos a CLI de uma instância EC2 com roles, essa consulta a API para obter credenciais temporárias para a ação.\n",
    "        </li>\n",
    "    </ul>\n",
    "</div>"
   ]
  },
  {
   "cell_type": "markdown",
   "id": "282e7071-1c5b-4294-a812-1c85535f063a",
   "metadata": {},
   "source": [
    "<h2 style='font-size:30px'> AWS CLI Profiles</h2>\n",
    "<div> \n",
    "    <ul style='font-size:20px'> \n",
    "        <li> \n",
    "            A CLI da AWS nos permite usar múltiplas contas distintas, além da default. \n",
    "        </li>\n",
    "        <li>\n",
    "            Para cadastrar uma nova conta, invoque `aws configure --profile &lt account-alias&gt`.\n",
    "        </li>\n",
    "    </ul>\n",
    "</div>"
   ]
  },
  {
   "cell_type": "markdown",
   "id": "b924b722-f5ee-4f75-8e48-f22e1edcee5e",
   "metadata": {},
   "source": [
    "<figure>\n",
    "    <center style='font-size:20px;margin-top:20px'> \n",
    "            <img src='img/12_profiles_files.png'>\n",
    "        <figcaption style='font-size:15px'>\n",
    "            Arquivos de configuração AWS, após o cadastro do novo perfil.\n",
    "        </figcaption>\n",
    "    </center>\n",
    "</figure>"
   ]
  },
  {
   "cell_type": "markdown",
   "id": "d4191011-b1ab-4780-8804-cbfb258b3642",
   "metadata": {},
   "source": [
    "<div> \n",
    "    <ul style='font-size:20px'> \n",
    "        <li> \n",
    "            Por fim, caso queira executar um comando com o novo perfil, use a flag `--profile &lt account-alias&gt`.\n",
    "        </li>\n",
    "    </ul>\n",
    "</div>"
   ]
  },
  {
   "cell_type": "markdown",
   "id": "d1aa68bc-bd9e-4551-9459-09ecea9fc582",
   "metadata": {},
   "source": [
    "<h2 style='font-size:30px'> AWS CLI with MFA</h2>\n",
    "<div> \n",
    "    <ul style='font-size:20px'> \n",
    "        <li> \n",
    "            Caso deseje, conseguimos criar sessões efêmeras de nossas contas com credenciais temporárias.\n",
    "        </li>\n",
    "        <li>\n",
    "            Para isso, vamos ter que vincular um dispositivo MFA ao nosso perfil no IAM. Ele receberá uma ARN.\n",
    "        </li>\n",
    "        <li>\n",
    "            Uma vez feito isso, invocamos o comando `aws sts get-session-token --serial-number &lt mfa-device-arn&gt --token &lt token-mfa&gt --duration-seconds n`. Use o código que estiver aparecendo no seu dispositivo MFA para completar a chamada. \n",
    "        </li>\n",
    "    </ul>\n",
    "</div>"
   ]
  },
  {
   "cell_type": "markdown",
   "id": "55279f5f-28a3-46d6-a171-1e42b7622a68",
   "metadata": {},
   "source": [
    "<figure>\n",
    "    <center style='font-size:20px;margin-top:20px'> \n",
    "            <img src='img/12_cli_mfa.png'>\n",
    "        <figcaption style='font-size:15px'>\n",
    "            Output do comando, com as credenciais.\n",
    "        </figcaption>\n",
    "    </center>\n",
    "</figure>"
   ]
  },
  {
   "cell_type": "markdown",
   "id": "886dc337-ef99-4f8f-82e5-d8636a6a5fec",
   "metadata": {},
   "source": [
    "<h2 style='font-size:30px'> AWS SDK Overview</h2>\n",
    "<div> \n",
    "    <ul style='font-size:20px'> \n",
    "        <li> \n",
    "            Apresentação geral da SDK da AWS.\n",
    "        </li>\n",
    "    </ul>\n",
    "</div>"
   ]
  },
  {
   "cell_type": "markdown",
   "id": "b7a0d73b-0ecd-4b00-ac79-738d887c7ff7",
   "metadata": {},
   "source": [
    "<h2 style='font-size:30px'> Exponential Backoff & Service Limit Increase</h2>\n",
    "<div> \n",
    "    <ul style='font-size:20px'> \n",
    "        <li> \n",
    "            A AWS possui uma orientação de usar Exponential Backoff mediante erros de throttling ou do tipo 5xx.\n",
    "        </li>\n",
    "    </ul>\n",
    "</div>"
   ]
  },
  {
   "cell_type": "markdown",
   "id": "05ddb4bb-78bf-4c54-be81-255462fd0dbc",
   "metadata": {},
   "source": [
    "<h2 style='font-size:30px'> AWS Credentials Provider & Chain</h2>\n",
    "<div> \n",
    "    <ul style='font-size:20px'> \n",
    "        <li> \n",
    "            Aula em que é mostrada a ordem de precedência do uso de credenciais.\n",
    "        </li>\n",
    "    </ul>\n",
    "</div>"
   ]
  },
  {
   "cell_type": "markdown",
   "id": "76a8a0be-1421-432f-9a5e-e65b8d58b603",
   "metadata": {},
   "source": [
    "<figure>\n",
    "    <center style='font-size:20px;margin-top:20px'> \n",
    "            <img src='img/12_credentials_hierarchy.png'>\n",
    "    </center>\n",
    "</figure>"
   ]
  },
  {
   "cell_type": "markdown",
   "id": "0760c44a-c363-41e0-8d66-ebaa93b0cf1c",
   "metadata": {},
   "source": [
    "<h2 style='font-size:30px'> AWS Signature v4 Signing (Sigv4)</h2>\n",
    "<div> \n",
    "    <ul style='font-size:20px'> \n",
    "        <li> \n",
    "            Caso esteja fazendo um código customizado que acesse a API da AWS sem a CLI ou SDK, você deverá fazer o sign de suas requisições com o SigV4.\n",
    "        </li>\n",
    "    </ul>\n",
    "</div>"
   ]
  },
  {
   "cell_type": "code",
   "execution_count": 2,
   "id": "94768ecc-6cfc-4c71-b00b-e433eed7a292",
   "metadata": {
    "scrolled": true
   },
   "outputs": [
    {
     "name": "stdout",
     "output_type": "stream",
     "text": [
      "[master 2d2515c] Iniciar seção 13\n",
      " 2 files changed, 60 insertions(+), 30 deletions(-)\n",
      "Enumerating objects: 7, done.\n",
      "Counting objects: 100% (7/7), done.\n",
      "Delta compression using up to 24 threads\n",
      "Compressing objects: 100% (4/4), done.\n",
      "Writing objects: 100% (4/4), 873 bytes | 873.00 KiB/s, done.\n",
      "Total 4 (delta 3), reused 0 (delta 0), pack-reused 0\n",
      "remote: Resolving deltas: 100% (3/3), completed with 3 local objects.\u001b[K\n",
      "To https://github.com/felipesveiga/aws-developer.git\n",
      "   5103f16..2d2515c  master -> master\n"
     ]
    }
   ],
   "source": [
    "! git add .\n",
    "! git commit -am 'Iniciar seção 13'\n",
    "! git push"
   ]
  },
  {
   "cell_type": "markdown",
   "id": "7f2072ae-a44b-48c6-8729-cd91d1dfcc55",
   "metadata": {
    "editable": true,
    "slideshow": {
     "slide_type": ""
    },
    "tags": []
   },
   "source": [
    "<p style='color:red'> Fiz quiz seção 12; Iniciar seção 13</p>"
   ]
  }
 ],
 "metadata": {
  "kernelspec": {
   "display_name": "Python 3 (ipykernel)",
   "language": "python",
   "name": "python3"
  },
  "language_info": {
   "codemirror_mode": {
    "name": "ipython",
    "version": 3
   },
   "file_extension": ".py",
   "mimetype": "text/x-python",
   "name": "python",
   "nbconvert_exporter": "python",
   "pygments_lexer": "ipython3",
   "version": "3.10.12"
  }
 },
 "nbformat": 4,
 "nbformat_minor": 5
}
