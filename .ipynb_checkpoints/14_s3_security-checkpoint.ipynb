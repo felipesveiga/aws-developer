{
 "cells": [
  {
   "cell_type": "markdown",
   "id": "25f632ce-3657-47ed-b2e8-4ce7aaa07ea2",
   "metadata": {},
   "source": [
    "<h1 style='font-size:40px'> S3 Security</h1>"
   ]
  },
  {
   "cell_type": "markdown",
   "id": "1702e70c-259e-4fd6-9919-86e8d18d7437",
   "metadata": {
    "jp-MarkdownHeadingCollapsed": true
   },
   "source": [
    "<h2 style='font-size:30px'> S3 Encryption\n",
    "</h2>\n",
    "<div> \n",
    "    <ul style='font-size:20px'> \n",
    "        <li> \n",
    "            Por questões de segurança, nós podemos encriptar os dados armazenados no S3. Existem diversas técnicas que podemos usar para esse fim.\n",
    "        </li>\n",
    "        <li>\n",
    "            É possível tanto configurar a encriptação para ocorrer do lado do servidor, quanto do cliente.\n",
    "        </li>\n",
    "    </ul>\n",
    "</div>"
   ]
  },
  {
   "cell_type": "markdown",
   "id": "e8a2abad-8ace-4ec9-adf9-46e5a97a8521",
   "metadata": {},
   "source": [
    "<h3 style='font-size:30px;font-style:italic'> Chaves Criptográficas</h3>\n",
    "<div> \n",
    "    <ul style='font-size:20px'> \n",
    "        <li>\n",
    "            Chaves criptográficas são strings usadas por algoritmos de criptografia para a alteração de dados.\n",
    "        </li>\n",
    "        <li>\n",
    "            De forma bem superficial, essa string servirá como um \"de-para\" para a conversão dos dados.\n",
    "        </li>\n",
    "    </ul>\n",
    "</div>"
   ]
  },
  {
   "cell_type": "markdown",
   "id": "031ab59d-495c-4b87-abf7-af3c980f3749",
   "metadata": {},
   "source": [
    "<h3 style='font-size:30px;font-style:italic'> Key Management Service (KMS)</h3>\n",
    "<div> \n",
    "    <ul style='font-size:20px'> \n",
    "        <li>\n",
    "            O KMS é o serviço da AWS especializado na criação, gerenciamento e armazenamento de chaves de criptografia.\n",
    "        </li>\n",
    "        <li>\n",
    "            Ele segue um conjunto de boas práticas do mercado que garantem a criação de chaves altamente seguras, assim como a sua proteção a acessos maléficos.\n",
    "        </li>\n",
    "    </ul>\n",
    "</div>"
   ]
  },
  {
   "cell_type": "markdown",
   "id": "9104efff-3ff7-4ef7-aed8-125572c565db",
   "metadata": {},
   "source": [
    "<h3 style='font-size:30px;font-style:italic'> Server-Side Encryption (SSE)</h3>\n",
    "<div> \n",
    "    <ul style='font-size:20px'> \n",
    "        <li>\n",
    "            Encriptações que ocorrem no servidor de armazenamento.\n",
    "        </li>\n",
    "    </ul>\n",
    "</div>"
   ]
  },
  {
   "cell_type": "markdown",
   "id": "74c6f8d2-5941-4f2d-a139-b17f814794ba",
   "metadata": {
    "tags": []
   },
   "source": [
    "<h4 style='font-size:30px;font-style:italic;text-decoration:underline'> SSE-S3</h4>\n",
    "<div> \n",
    "    <ul style='font-size:20px'>\n",
    "        <li>\n",
    "            Com o SSE-S3, os dados são encriptados com uma chave gerenciada pela AWS. Cada objeto é codificado com uma chave única.\n",
    "        </li>\n",
    "        <li>\n",
    "            Um fato interessante é que a própria chave de encriptação é encriptada por uma outra que é regularmente atualizada.\n",
    "        </li>\n",
    "        <li>\n",
    "            As chaves gerenciadas pela AWS seguem o padrão AES-256.\n",
    "        </li>\n",
    "     </ul>\n",
    "</div>"
   ]
  },
  {
   "cell_type": "markdown",
   "id": "bd898d3f-8287-41e7-8d62-5b0920a773d4",
   "metadata": {
    "tags": []
   },
   "source": [
    "<h4 style='font-size:30px;font-style:italic;text-decoration:underline'> SSE-KMS</h4>\n",
    "<div> \n",
    "    <ul style='font-size:20px'>\n",
    "        <li>\n",
    "            Encriptação usando chaves do AWS KMS. Fornece maior controle do usuário sobre as encriptações dos objetos.\n",
    "        </li>\n",
    "        <li>\n",
    "            Como o KMS possui quotas para utilização das chaves por segundo, pode ser que aplicações de uso intensivo ocasionem erros de throttling.\n",
    "        </li>\n",
    "     </ul>\n",
    "</div>"
   ]
  },
  {
   "cell_type": "markdown",
   "id": "61cff2e7-b46a-4617-9aa9-7e80a883420a",
   "metadata": {
    "tags": []
   },
   "source": [
    "<h4 style='font-size:30px;font-style:italic;text-decoration:underline'> SSE-C</h4>\n",
    "<div> \n",
    "    <ul style='font-size:20px'>\n",
    "        <li>\n",
    "            Encriptação utilizando uma chave não armazenada na AWS.\n",
    "        </li>\n",
    "        <li>\n",
    "            Nessa modalidade, o usuário deverá fornecer a chave tanto no momento de POST, quanto GET. Por questões de segurança, é obrigatório o uso de HTTPS nessas interações.\n",
    "        </li>\n",
    "     </ul>\n",
    "</div>"
   ]
  },
  {
   "cell_type": "markdown",
   "id": "16d8d77b-8e39-432d-8743-3cfe9567d47d",
   "metadata": {},
   "source": [
    "<h3 style='font-size:30px;font-style:italic'> Client-Side Encryption</h3>\n",
    "<div> \n",
    "    <ul style='font-size:20px'> \n",
    "        <li>\n",
    "            Encriptações que são feitas pelo usuário, antes de encaminhar o objeto ao servidor.\n",
    "        </li>\n",
    "        <li>\n",
    "            Nessa situação, ele terá total responsabilidade tanto pela segurança das chaves, quanto pela codificação dos dados.\n",
    "        </li>\n",
    "    </ul>\n",
    "</div>"
   ]
  },
  {
   "cell_type": "markdown",
   "id": "14d00111-1311-49c5-9807-fe50ea86dd56",
   "metadata": {},
   "source": [
    "<h3 style='font-size:30px;font-style:italic'> Encryption in Transit</h3>\n",
    "<div> \n",
    "    <ul style='font-size:20px'> \n",
    "        <li>\n",
    "            Para garantir a transferência segura de dados, o S3 possui endpoints HTTPS. Com isso, você consegue garantir que seus dados estarão encriptados durante seu envio.\n",
    "        </li>\n",
    "    </ul>\n",
    "</div>"
   ]
  },
  {
   "cell_type": "code",
   "execution_count": 5,
   "id": "0843e7e3-5fb3-4a12-b20f-4a301ac7ca46",
   "metadata": {
    "scrolled": true
   },
   "outputs": [
    {
     "name": "stdout",
     "output_type": "stream",
     "text": [
      "[master 5e0e0a8] Continuar artigo HTTPS (How does HTTPS work?)\n",
      " 2 files changed, 14 insertions(+), 14 deletions(-)\n",
      "Enumerating objects: 7, done.\n",
      "Counting objects: 100% (7/7), done.\n",
      "Delta compression using up to 24 threads\n",
      "Compressing objects: 100% (4/4), done.\n",
      "Writing objects: 100% (4/4), 594 bytes | 594.00 KiB/s, done.\n",
      "Total 4 (delta 3), reused 0 (delta 0), pack-reused 0\n",
      "remote: Resolving deltas: 100% (3/3), completed with 3 local objects.\u001b[K\n",
      "To https://github.com/felipesveiga/aws-developer.git\n",
      "   23a8b02..5e0e0a8  master -> master\n"
     ]
    }
   ],
   "source": [
    "! git add .\n",
    "! git commit -am 'Aula 146 (AWS)'\n",
    "! git push"
   ]
  },
  {
   "cell_type": "markdown",
   "id": "bfaf3bac-8e01-40be-aacd-9f5351f1280a",
   "metadata": {
    "editable": true,
    "slideshow": {
     "slide_type": ""
    },
    "tags": []
   },
   "source": [
    "<p style='color:red'> Vi Aula 142 a 145; Aula 146 (AWS)"
   ]
  }
 ],
 "metadata": {
  "kernelspec": {
   "display_name": "Python 3 (ipykernel)",
   "language": "python",
   "name": "python3"
  },
  "language_info": {
   "codemirror_mode": {
    "name": "ipython",
    "version": 3
   },
   "file_extension": ".py",
   "mimetype": "text/x-python",
   "name": "python",
   "nbconvert_exporter": "python",
   "pygments_lexer": "ipython3",
   "version": "3.10.12"
  }
 },
 "nbformat": 4,
 "nbformat_minor": 5
}
