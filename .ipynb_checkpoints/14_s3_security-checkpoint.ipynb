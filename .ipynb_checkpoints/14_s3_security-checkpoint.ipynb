{
 "cells": [
  {
   "cell_type": "markdown",
   "id": "25f632ce-3657-47ed-b2e8-4ce7aaa07ea2",
   "metadata": {},
   "source": [
    "<h1 style='font-size:40px'> S3 Security</h1>"
   ]
  },
  {
   "cell_type": "markdown",
   "id": "1702e70c-259e-4fd6-9919-86e8d18d7437",
   "metadata": {},
   "source": [
    "<h2 style='font-size:30px'> S3 Lifecycle Rules (with S3 Analytics)</h2>\n",
    "<div> \n",
    "    <ul style='font-size:20px'> \n",
    "        <li> \n",
    "        </li>\n",
    "    </ul>\n",
    "</div>"
   ]
  },
  {
   "cell_type": "markdown",
   "id": "5578297b-50bc-454f-a8a9-d0e0485b24ee",
   "metadata": {},
   "source": [
    "<h3 style='font-size:30px;font-style:italic'> Chaves Criptográficas</h3>\n",
    "<div> \n",
    "    <ul style='font-size:20px'> \n",
    "        <li>\n",
    "            Chaves criptográficas são strings usadas por algoritmos de criptografia para a alteração de dados.\n",
    "        </li>\n",
    "        <li>\n",
    "            De forma bem superficial, essa string servirá como um \"de-para\" para a conversão dos dados.\n",
    "        </li>\n",
    "    </ul>\n",
    "</div>"
   ]
  },
  {
   "cell_type": "code",
   "execution_count": 1,
   "id": "0843e7e3-5fb3-4a12-b20f-4a301ac7ca46",
   "metadata": {
    "scrolled": true
   },
   "outputs": [
    {
     "name": "stdout",
     "output_type": "stream",
     "text": [
      "[master 33127e2] Aula 142\n",
      " 5 files changed, 244 insertions(+), 80 deletions(-)\n",
      " create mode 100644 .ipynb_checkpoints/14_s3_security-checkpoint.ipynb\n",
      " create mode 100644 14_s3_security.ipynb\n",
      " create mode 100644 img/13_dyamo_s3.png\n",
      "Enumerating objects: 11, done.\n",
      "Counting objects: 100% (11/11), done.\n",
      "Delta compression using up to 24 threads\n",
      "Compressing objects: 100% (7/7), done.\n",
      "Writing objects: 100% (7/7), 27.51 KiB | 27.51 MiB/s, done.\n",
      "Total 7 (delta 5), reused 0 (delta 0), pack-reused 0\n",
      "remote: Resolving deltas: 100% (5/5), completed with 4 local objects.\u001b[K\n",
      "To https://github.com/felipesveiga/aws-developer.git\n",
      "   477162f..33127e2  master -> master\n"
     ]
    }
   ],
   "source": [
    "! git add .\n",
    "! git commit -am 'Pesquisar sobre o Server-Side Encryption na AWS e as modalidades de chave suportadas'\n",
    "! git push"
   ]
  },
  {
   "cell_type": "markdown",
   "id": "bfaf3bac-8e01-40be-aacd-9f5351f1280a",
   "metadata": {
    "editable": true,
    "slideshow": {
     "slide_type": ""
    },
    "tags": []
   },
   "source": [
    "<p style='color:red'> Defini encyption keys; Pesquisar sobre o Server-Side Encryption na AWS e as modalidades de chave suportadas; Aula 142</p>"
   ]
  }
 ],
 "metadata": {
  "kernelspec": {
   "display_name": "Python 3 (ipykernel)",
   "language": "python",
   "name": "python3"
  },
  "language_info": {
   "codemirror_mode": {
    "name": "ipython",
    "version": 3
   },
   "file_extension": ".py",
   "mimetype": "text/x-python",
   "name": "python",
   "nbconvert_exporter": "python",
   "pygments_lexer": "ipython3",
   "version": "3.10.12"
  }
 },
 "nbformat": 4,
 "nbformat_minor": 5
}
