{
 "cells": [
  {
   "cell_type": "markdown",
   "id": "25f632ce-3657-47ed-b2e8-4ce7aaa07ea2",
   "metadata": {},
   "source": [
    "<h1 style='font-size:40px'> S3 Security</h1>"
   ]
  },
  {
   "cell_type": "markdown",
   "id": "1702e70c-259e-4fd6-9919-86e8d18d7437",
   "metadata": {},
   "source": [
    "<h2 style='font-size:30px'> S3 Lifecycle Rules (with S3 Analytics)</h2>\n",
    "<div> \n",
    "    <ul style='font-size:20px'> \n",
    "        <li> \n",
    "        </li>\n",
    "    </ul>\n",
    "</div>"
   ]
  },
  {
   "cell_type": "code",
   "execution_count": 2,
   "id": "0843e7e3-5fb3-4a12-b20f-4a301ac7ca46",
   "metadata": {
    "scrolled": true
   },
   "outputs": [
    {
     "name": "stdout",
     "output_type": "stream",
     "text": [
      "[master 477162f] Aula 141\n",
      " 4 files changed, 276 insertions(+), 24 deletions(-)\n",
      " create mode 100644 img/13_byte_range.png\n",
      " create mode 100644 img/13_s3_event.png\n",
      "Enumerating objects: 11, done.\n",
      "Counting objects: 100% (11/11), done.\n",
      "Delta compression using up to 24 threads\n",
      "Compressing objects: 100% (7/7), done.\n",
      "Writing objects: 100% (7/7), 88.37 KiB | 29.46 MiB/s, done.\n",
      "Total 7 (delta 3), reused 0 (delta 0), pack-reused 0\n",
      "remote: Resolving deltas: 100% (3/3), completed with 3 local objects.\u001b[K\n",
      "To https://github.com/felipesveiga/aws-developer.git\n",
      "   49afaba..477162f  master -> master\n"
     ]
    }
   ],
   "source": [
    "! git add .\n",
    "! git commit -am 'Aula 142'\n",
    "! git push"
   ]
  },
  {
   "cell_type": "markdown",
   "id": "bfaf3bac-8e01-40be-aacd-9f5351f1280a",
   "metadata": {
    "editable": true,
    "slideshow": {
     "slide_type": ""
    },
    "tags": []
   },
   "source": [
    "<p style='color:red'> Vi Aula 141; Pesquisar sobre chaves de encriptação; Aula 142</p>"
   ]
  }
 ],
 "metadata": {
  "kernelspec": {
   "display_name": "Python 3 (ipykernel)",
   "language": "python",
   "name": "python3"
  },
  "language_info": {
   "codemirror_mode": {
    "name": "ipython",
    "version": 3
   },
   "file_extension": ".py",
   "mimetype": "text/x-python",
   "name": "python",
   "nbconvert_exporter": "python",
   "pygments_lexer": "ipython3",
   "version": "3.10.12"
  }
 },
 "nbformat": 4,
 "nbformat_minor": 5
}
