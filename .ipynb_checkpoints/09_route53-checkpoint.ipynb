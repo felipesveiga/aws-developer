{
 "cells": [
  {
   "cell_type": "markdown",
   "id": "954e8aa5-d405-4c16-b3ea-2730c6637573",
   "metadata": {},
   "source": [
    "<h1 style='font-size:40px'> Route 53</h1>"
   ]
  },
  {
   "cell_type": "markdown",
   "id": "cc35d876-d345-47ba-9ef5-ae481f829831",
   "metadata": {},
   "source": [
    "<h2 style='font-size:30px'> \n",
    "    <a href='https://www.cloudflare.com/learning/dns/what-is-dns/'>What is a DNS?\n",
    "    </a>\n",
    "</h2>\n",
    "<div> \n",
    "    <ul style='font-size:20px'> \n",
    "        <li> \n",
    "            Domain Name System (DNS) é um sistema que traduz um nome de domínio para o endereço de IP do servidor que hospeda um site.   \n",
    "        </li>\n",
    "        <li>\n",
    "            O processo desse mapeamento é chamado de \"DNS Resolution\", que é executado em etapas. Cada elemento da URL é processado individualmente para a obtenção do endereço de IP. \n",
    "        </li>\n",
    "    </ul>\n",
    " </div>"
   ]
  },
  {
   "cell_type": "markdown",
   "id": "b94cce00-07f5-481f-9e05-3828dc8e45c8",
   "metadata": {},
   "source": [
    "<h3 style='font-size:30px;font-style:italic'> DNS Terminologies</h3>\n",
    "<div> \n",
    "    <ul style='font-size:20px'>\n",
    "        <li>\n",
    "            <i> Top Level Domain (TLD)</i>: .com, .br, .org.\n",
    "        </li>\n",
    "        <li>\n",
    "            <i> Second Level Domain (SLD)</i>: google.com, apple.com\n",
    "        </li>\n",
    "     </ul>\n",
    "</div>"
   ]
  },
  {
   "cell_type": "markdown",
   "id": "a98ccb66-403c-427b-8caf-1c13ee133e0f",
   "metadata": {},
   "source": [
    "<h3 style='font-size:30px;font-style:italic'> \n",
    "    <a href='https://www.cloudflare.com/learning/dns/dns-server-types/'>\n",
    "        DNS Servers\n",
    "    </a>\n",
    "</h3>\n",
    "<div> \n",
    "    <ul style='font-size:20px'>\n",
    "        <li>\n",
    "            Existem 4 tipos de servidores DNS que atuam na busca pelo IP correto.\n",
    "        </li>\n",
    "     </ul>\n",
    "</div>"
   ]
  },
  {
   "cell_type": "markdown",
   "id": "bc7f41e9-28fa-43e6-b2f7-10f2d2ed8080",
   "metadata": {
    "tags": []
   },
   "source": [
    "<h4 style='font-size:30px;font-style:italic;text-decoration:underline'> DNS Recursive Resolver</h4>\n",
    "<div> \n",
    "    <ul style='font-size:20px'>\n",
    "        <li>\n",
    "            O DNS Resolver é o servidor que intermedeia a comunicação do cliente com todos os demais servidores DNS.\n",
    "        </li>\n",
    "        <li>\n",
    "            Ele possui um cache, que retorna o IP de Domain Names bastante requisitados.\n",
    "        </li>\n",
    "     </ul>\n",
    "</div>"
   ]
  },
  {
   "cell_type": "markdown",
   "id": "cbf24b39-0274-4615-b473-51244cd70ffe",
   "metadata": {
    "tags": []
   },
   "source": [
    "<h4 style='font-size:30px;font-style:italic;text-decoration:underline'> DNS Root Nameserver</h4>\n",
    "<div> \n",
    "    <ul style='font-size:20px'>\n",
    "        <li>\n",
    "            É o primeiro servidor requisitado pelo Recursive Resolver. Ele encaminha a chamada para um TLD Server com base na extensão da URL (.com, .org).\n",
    "        </li>\n",
    "     </ul>\n",
    "</div>"
   ]
  },
  {
   "cell_type": "markdown",
   "id": "4a95f7aa-142f-4132-a1e4-6a532c1c4ad3",
   "metadata": {
    "tags": []
   },
   "source": [
    "<h4 style='font-size:30px;font-style:italic;text-decoration:underline'> TLD Nameserver</h4>\n",
    "<div> \n",
    "    <ul style='font-size:20px'>\n",
    "        <li>\n",
    "            Um TLD Nameserver é um servidor que contém as informações de todas as URL's de um determinado TLD. \n",
    "        </li>\n",
    "        <li>\n",
    "            Esse servidor encaminhará a requisição para o Authoritative Nameserver.\n",
    "        </li>\n",
    "     </ul>\n",
    "</div>"
   ]
  },
  {
   "cell_type": "markdown",
   "id": "608ff659-a77d-4be4-9579-9417d03ae454",
   "metadata": {
    "tags": []
   },
   "source": [
    "<h4 style='font-size:30px;font-style:italic;text-decoration:underline'> Authoritative Nameserver</h4>\n",
    "<div> \n",
    "    <ul style='font-size:20px'>\n",
    "        <li>\n",
    "            O Authoritative Nameserver é o último a ser consultado em uma query DNS. Ele providencia o IP do Domain Name que ele serve.\n",
    "        </li>\n",
    "     </ul>\n",
    "</div>"
   ]
  },
  {
   "cell_type": "markdown",
   "id": "a37f96e3-476d-4074-af8c-031d390e6dc1",
   "metadata": {},
   "source": [
    "<div> \n",
    "            <center style='font-size:20px;margin-top:20px'> \n",
    "                 <img src='img/09_recursive_resolver.png'>\n",
    "                <figcaption style='font-size:15px'> Ilustração da comunicação entre os DNS Servers.</figcaption>\n",
    "            </center>\n",
    "</div>"
   ]
  },
  {
   "cell_type": "markdown",
   "id": "c7601fa8-c830-44d9-b549-dd0e24791b77",
   "metadata": {},
   "source": [
    "<h3 style='font-size:30px;font-style:italic'> \n",
    "    <a href='https://www.cloudflare.com/learning/dns/glossary/what-is-a-domain-name-registrar/'>\n",
    "        Domain Registration\n",
    "    </a>\n",
    "</h3>\n",
    "<div> \n",
    "    <ul style='font-size:20px'>\n",
    "        <li>\n",
    "            Domain Registration é o processo de reserva de um determinado Domain Name para um site na internet. A reserva é gerenciada por empresas <i> registrars</i>, como SquareSpace e CloudFlare.\n",
    "        </li>\n",
    "        <li>\n",
    "            Os registrars se comunicam com as entidades <i>registries</i> para formalizar o direito ao domínio pelo cliente em questão.\n",
    "        </li>\n",
    "        <li>\n",
    "            Registries, por sua vez, gerenciam o registro de \"posse\" dos domínios para cada TLD existente. Eles são vinculados a um departamento da ICANN.\n",
    "        </li>\n",
    "        <li>\n",
    "            Note que não é possível comprar um domínio em definitivo. Os usuários apenas conseguem alugar o seu direito de uso, sendo possível serem feitas renovações.\n",
    "        </li>\n",
    "     </ul>\n",
    "</div>"
   ]
  },
  {
   "cell_type": "markdown",
   "id": "8de2b8fe-0a9f-4065-bc61-063f55cc66e3",
   "metadata": {},
   "source": [
    "<div> \n",
    "            <center style='font-size:20px;margin-top:20px'> \n",
    "                 <img src='img/09_registrar_flow.png'>\n",
    "            </center>\n",
    "</div>"
   ]
  },
  {
   "cell_type": "markdown",
   "id": "d420914d-0baa-4117-88d6-7cc38fc4e902",
   "metadata": {},
   "source": [
    "<h2 style='font-size:30px'> \n",
    "    Route 53 Overview\n",
    "</h2>\n",
    "<div> \n",
    "    <ul style='font-size:20px'> \n",
    "        <li> \n",
    "            O Route 53 é um serviço de Domain Name Registration e criação de Domain Name Systems.\n",
    "        </li>\n",
    "        <li>\n",
    "            Com ele, criamos <i>registros</i> que definem políticas de roteamento para cada Domain Name cadastrado.\n",
    "        </li>\n",
    "        <li>\n",
    "            Cada registro deverá conter:\n",
    "            <ul>\n",
    "                <li>\n",
    "                    Domain Name\n",
    "                </li>\n",
    "                <li>\n",
    "                    Record Type\n",
    "                </li>\n",
    "                <li>\n",
    "                    Endereço de IP\n",
    "                </li>\n",
    "                <li>\n",
    "                    Política de Roteamento\n",
    "                </li>\n",
    "                <li>\n",
    "                    TTL (Time to Live): Tempo máximo que o record ficará no cache dos <i> DNS Resolvers</i>\n",
    "                </li>\n",
    "            </ul>\n",
    "        </li>\n",
    "    </ul>\n",
    " </div>"
   ]
  },
  {
   "cell_type": "markdown",
   "id": "331bff50-bb78-4ead-b6d8-2443b74e0ef6",
   "metadata": {},
   "source": [
    "<h3 style='font-size:30px;font-style:italic'> Record Types</h3>\n",
    "<div> \n",
    "    <ul style='font-size:20px'>\n",
    "        <li>\n",
    "            <i> A </i>: Mapeia um hostname para um IPv4\n",
    "        </li>\n",
    "        <li>\n",
    "            <i> AAAA </i>: Mapeia um hostname para um IPv6.\n",
    "        </li>\n",
    "        <li>\n",
    "            <i> CNAME </i>: Mapeia um hostname para outro hostname.\n",
    "        </li>\n",
    "     </ul>\n",
    "</div>"
   ]
  },
  {
   "cell_type": "markdown",
   "id": "57d4d5cd-afc6-4db7-9354-9af066b5fb13",
   "metadata": {},
   "source": [
    "<h3 style='font-size:30px;font-style:italic'> \n",
    "    <a href='https://www.hava.io/blog/what-is-amazon-route-53'>Hosted Zones</a>\n",
    "</h3>\n",
    "<div> \n",
    "    <ul style='font-size:20px'>\n",
    "        <li>\n",
    "            Uma Hosted Zone é uma coleção de informações DNS que orientam como as requisições para os seus Domain Names devem ser geridas. \n",
    "        </li>\n",
    "        <li>\n",
    "            Conseguimos criar tanto Hosted Zones públicas, voltadas para DNS abertos, quanto privados, utilizados por aplicações em uma VPC\n",
    "        </li>\n",
    "     </ul>\n",
    "</div>"
   ]
  },
  {
   "cell_type": "markdown",
   "id": "3c504c4e-c555-4d10-8677-e479a1fa876a",
   "metadata": {},
   "source": [
    "<h2 style='font-size:30px'> \n",
    "    Route 53 - TTL\n",
    "</h2>\n",
    "<div> \n",
    "    <ul style='font-size:20px'> \n",
    "        <li> \n",
    "            O Rouge 53 possui um sistema que permite fazer cache de URL's, garantindo respostas mais velozes para queries bastante requisitadas. \n",
    "        </li>\n",
    "    </ul>\n",
    " </div>"
   ]
  },
  {
   "cell_type": "markdown",
   "id": "df7de5cc-4145-4d14-b941-e91f2d5b9bc1",
   "metadata": {},
   "source": [
    "<h2 style='font-size:30px'> \n",
    "    Route 53 CNAME vs Alias\n",
    "</h2>\n",
    "<div> \n",
    "    <ul style='font-size:20px'> \n",
    "        <li> \n",
    "        </li>\n",
    "    </ul>\n",
    " </div>"
   ]
  },
  {
   "cell_type": "code",
   "execution_count": 1,
   "id": "accef056-1d4c-41e0-99be-b32187c165d5",
   "metadata": {},
   "outputs": [
    {
     "name": "stdout",
     "output_type": "stream",
     "text": [
      "[master 439b99e] Aula 94\n",
      " 2 files changed, 4 insertions(+), 4 deletions(-)\n",
      "Enumerating objects: 7, done.\n",
      "Counting objects: 100% (7/7), done.\n",
      "Delta compression using up to 24 threads\n",
      "Compressing objects: 100% (4/4), done.\n",
      "Writing objects: 100% (4/4), 393 bytes | 393.00 KiB/s, done.\n",
      "Total 4 (delta 3), reused 0 (delta 0), pack-reused 0\n",
      "remote: Resolving deltas: 100% (3/3), completed with 3 local objects.\u001b[K\n",
      "To https://github.com/felipesveiga/aws-developer.git\n",
      "   4da0b61..439b99e  master -> master\n"
     ]
    }
   ],
   "source": [
    "! git add .\n",
    "! git commit -am 'Pesquisar sobre CNAME' \n",
    "! git push"
   ]
  },
  {
   "cell_type": "markdown",
   "id": "6920f29b-772a-481b-b7f2-2a09cf2096a9",
   "metadata": {},
   "source": [
    "<p style='color:red'> Vi Aula 94; Iniciei Aula 95, mas não entendi a restrição sobre o uso do CNAME; Pesquisar sobre CNAME</p>"
   ]
  }
 ],
 "metadata": {
  "kernelspec": {
   "display_name": "Python 3 (ipykernel)",
   "language": "python",
   "name": "python3"
  },
  "language_info": {
   "codemirror_mode": {
    "name": "ipython",
    "version": 3
   },
   "file_extension": ".py",
   "mimetype": "text/x-python",
   "name": "python",
   "nbconvert_exporter": "python",
   "pygments_lexer": "ipython3",
   "version": "3.10.12"
  }
 },
 "nbformat": 4,
 "nbformat_minor": 5
}
