{
 "cells": [
  {
   "cell_type": "markdown",
   "id": "954e8aa5-d405-4c16-b3ea-2730c6637573",
   "metadata": {},
   "source": [
    "<h1 style='font-size:40px'> Route 53</h1>"
   ]
  },
  {
   "cell_type": "markdown",
   "id": "cc35d876-d345-47ba-9ef5-ae481f829831",
   "metadata": {},
   "source": [
    "<h2 style='font-size:30px'> \n",
    "    <a href='https://www.cloudflare.com/learning/dns/what-is-dns/'>What is a DNS?\n",
    "    </a>\n",
    "</h2>\n",
    "<div> \n",
    "    <ul style='font-size:20px'> \n",
    "        <li> \n",
    "            Domain Name System (DNS) é um sistema que traduz um nome de domínio para o endereço de IP do servidor que hospeda um site.   \n",
    "        </li>\n",
    "        <li>\n",
    "            O processo desse mapeamento é chamado de \"DNS Resolution\", que é executado em etapas. Cada elemento da URL é processado individualmente para a obtenção do endereço de IP. \n",
    "        </li>\n",
    "    </ul>\n",
    " </div>"
   ]
  },
  {
   "cell_type": "markdown",
   "id": "b94cce00-07f5-481f-9e05-3828dc8e45c8",
   "metadata": {},
   "source": [
    "<h3 style='font-size:30px;font-style:italic'> DNS Terminologies</h3>\n",
    "<div> \n",
    "    <ul style='font-size:20px'>\n",
    "        <li>\n",
    "            <i> Top Level Domain (TLD)</i>: .com, .br, .org.\n",
    "        </li>\n",
    "        <li>\n",
    "            <i> Second Level Domain (SLD)</i>: google.com, apple.com\n",
    "        </li>\n",
    "     </ul>\n",
    "</div>"
   ]
  },
  {
   "cell_type": "markdown",
   "id": "a98ccb66-403c-427b-8caf-1c13ee133e0f",
   "metadata": {},
   "source": [
    "<h3 style='font-size:30px;font-style:italic'> \n",
    "    <a href='https://www.cloudflare.com/learning/dns/dns-server-types/'>\n",
    "        DNS Servers\n",
    "    </a>\n",
    "</h3>\n",
    "<div> \n",
    "    <ul style='font-size:20px'>\n",
    "        <li>\n",
    "            Existem 4 tipos de servidores DNS que atuam na busca pelo IP correto.\n",
    "        </li>\n",
    "     </ul>\n",
    "</div>"
   ]
  },
  {
   "cell_type": "markdown",
   "id": "bc7f41e9-28fa-43e6-b2f7-10f2d2ed8080",
   "metadata": {
    "tags": []
   },
   "source": [
    "<h4 style='font-size:30px;font-style:italic;text-decoration:underline'> DNS Recursive Resolver</h4>\n",
    "<div> \n",
    "    <ul style='font-size:20px'>\n",
    "        <li>\n",
    "            O DNS Resolver é o servidor que intermedeia a comunicação do cliente com todos os demais servidores DNS.\n",
    "        </li>\n",
    "        <li>\n",
    "            Ele possui um cache, que retorna o IP de Domain Names bastante requisitados.\n",
    "        </li>\n",
    "     </ul>\n",
    "</div>"
   ]
  },
  {
   "cell_type": "markdown",
   "id": "cbf24b39-0274-4615-b473-51244cd70ffe",
   "metadata": {
    "tags": []
   },
   "source": [
    "<h4 style='font-size:30px;font-style:italic;text-decoration:underline'> DNS Root Nameserver</h4>\n",
    "<div> \n",
    "    <ul style='font-size:20px'>\n",
    "        <li>\n",
    "            É o primeiro servidor requisitado pelo Recursive Resolver. Ele encaminha a chamada para um TLD Server com base na extensão da URL (.com, .org).\n",
    "        </li>\n",
    "     </ul>\n",
    "</div>"
   ]
  },
  {
   "cell_type": "markdown",
   "id": "4a95f7aa-142f-4132-a1e4-6a532c1c4ad3",
   "metadata": {
    "tags": []
   },
   "source": [
    "<h4 style='font-size:30px;font-style:italic;text-decoration:underline'> TLD Nameserver</h4>\n",
    "<div> \n",
    "    <ul style='font-size:20px'>\n",
    "        <li>\n",
    "            Um TLD Nameserver é um servidor que contém as informações de todas as URL's de um determinado TLD. \n",
    "        </li>\n",
    "        <li>\n",
    "            Esse servidor encaminhará a requisição para o Authoritative Nameserver.\n",
    "        </li>\n",
    "     </ul>\n",
    "</div>"
   ]
  },
  {
   "cell_type": "markdown",
   "id": "608ff659-a77d-4be4-9579-9417d03ae454",
   "metadata": {
    "tags": []
   },
   "source": [
    "<h4 style='font-size:30px;font-style:italic;text-decoration:underline'> Authoritative Nameserver Nameserver</h4>\n",
    "<div> \n",
    "    <ul style='font-size:20px'>\n",
    "        <li>\n",
    "            Um TLD Nameserver é um servidor que contém as informações de todas as URL's de um determinado TLD. \n",
    "        </li>\n",
    "        <li>\n",
    "            Esse servidor encaminhará a requisição para o Authoritative Nameserver.\n",
    "        </li>\n",
    "     </ul>\n",
    "</div>"
   ]
  },
  {
   "cell_type": "markdown",
   "id": "d420914d-0baa-4117-88d6-7cc38fc4e902",
   "metadata": {},
   "source": [
    "<h2 style='font-size:30px'> \n",
    "    Route 53 Overview\n",
    "</h2>\n",
    "<div> \n",
    "    <ul style='font-size:20px'> \n",
    "        <li> \n",
    "            O Route 53 é um serviço de Domain Name Registration e criação de Domain Name Systems.\n",
    "        </li>\n",
    "        <li>\n",
    "            Com ele, criamos <i>registros</i> que definem políticas de roteamento para cada Domain Name cadastrado.\n",
    "        </li>\n",
    "        <li>\n",
    "            Cada registro deverá conter:\n",
    "            <ul>\n",
    "                <li>\n",
    "                    Domain Name\n",
    "                </li>\n",
    "                <li>\n",
    "                    Record Type\n",
    "                </li>\n",
    "                <li>\n",
    "                    Endereço de IP\n",
    "                </li>\n",
    "                <li>\n",
    "                    Política de Roteamento\n",
    "                </li>\n",
    "                <li>\n",
    "                    TTL (Time to Live): Tempo máximo que o record ficará no cache dos <i> DNS Resolvers</i>\n",
    "                </li>\n",
    "            </ul>\n",
    "        </li>\n",
    "    </ul>\n",
    " </div>"
   ]
  },
  {
   "cell_type": "markdown",
   "id": "331bff50-bb78-4ead-b6d8-2443b74e0ef6",
   "metadata": {},
   "source": [
    "<h3 style='font-size:30px;font-style:italic'> Record Types</h3>\n",
    "<div> \n",
    "    <ul style='font-size:20px'>\n",
    "        <li>\n",
    "            <i> A </i>: Mapeia um hostname para um IPv4\n",
    "        </li>\n",
    "        <li>\n",
    "            <i> AAAA </i>: Mapeia um hostname para um IPv6.\n",
    "        </li>\n",
    "        <li>\n",
    "            <i> CNAME </i>: Mapeia um hostname para outro hostname.\n",
    "        </li>\n",
    "     </ul>\n",
    "</div>"
   ]
  },
  {
   "cell_type": "code",
   "execution_count": 5,
   "id": "accef056-1d4c-41e0-99be-b32187c165d5",
   "metadata": {},
   "outputs": [
    {
     "name": "stdout",
     "output_type": "stream",
     "text": [
      "[master a9dafff] Explicar Root Nameserver\n",
      " 2 files changed, 128 insertions(+), 18 deletions(-)\n",
      "Enumerating objects: 7, done.\n",
      "Counting objects: 100% (7/7), done.\n",
      "Delta compression using up to 24 threads\n",
      "Compressing objects: 100% (4/4), done.\n",
      "Writing objects: 100% (4/4), 1.04 KiB | 1.04 MiB/s, done.\n",
      "Total 4 (delta 3), reused 0 (delta 0), pack-reused 0\n",
      "remote: Resolving deltas: 100% (3/3), completed with 3 local objects.\u001b[K\n",
      "To https://github.com/felipesveiga/aws-developer.git\n",
      "   73b80a5..a9dafff  master -> master\n"
     ]
    }
   ],
   "source": [
    "! git add .\n",
    "! git commit -am 'Explicar Authoritative Nameserver Nameserver' \n",
    "! git push"
   ]
  },
  {
   "cell_type": "markdown",
   "id": "6920f29b-772a-481b-b7f2-2a09cf2096a9",
   "metadata": {},
   "source": [
    "<p style='color:red'> Expliquei Root Nameserver e TLD Nameserver; Explicar Authoritative Nameserver Nameserver</p>"
   ]
  }
 ],
 "metadata": {
  "kernelspec": {
   "display_name": "Python 3 (ipykernel)",
   "language": "python",
   "name": "python3"
  },
  "language_info": {
   "codemirror_mode": {
    "name": "ipython",
    "version": 3
   },
   "file_extension": ".py",
   "mimetype": "text/x-python",
   "name": "python",
   "nbconvert_exporter": "python",
   "pygments_lexer": "ipython3",
   "version": "3.10.12"
  }
 },
 "nbformat": 4,
 "nbformat_minor": 5
}
