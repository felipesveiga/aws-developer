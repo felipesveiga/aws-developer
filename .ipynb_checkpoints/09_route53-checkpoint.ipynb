{
 "cells": [
  {
   "cell_type": "markdown",
   "id": "954e8aa5-d405-4c16-b3ea-2730c6637573",
   "metadata": {},
   "source": [
    "<h1 style='font-size:40px'> Route 53</h1>"
   ]
  },
  {
   "cell_type": "markdown",
   "id": "cc35d876-d345-47ba-9ef5-ae481f829831",
   "metadata": {},
   "source": [
    "<h2 style='font-size:30px'> \n",
    "    <a href='https://www.cloudflare.com/learning/dns/what-is-dns/'>What is a DNS?\n",
    "    </a>\n",
    "</h2>\n",
    "<div> \n",
    "    <ul style='font-size:20px'> \n",
    "        <li> \n",
    "            Domain Name System (DNS) é um sistema que traduz um nome de domínio para o endereço de IP do servidor que hospeda um site.   \n",
    "        </li>\n",
    "        <li>\n",
    "            O processo desse mapeamento é chamado de \"DNS Resolution\", que é executado em etapas. Cada elemento da URL é processado individualmente para a obtenção do endereço de IP. \n",
    "        </li>\n",
    "    </ul>\n",
    " </div>"
   ]
  },
  {
   "cell_type": "markdown",
   "id": "b94cce00-07f5-481f-9e05-3828dc8e45c8",
   "metadata": {},
   "source": [
    "<h3 style='font-size:30px;font-style:italic'> DNS Terminologies</h3>\n",
    "<div> \n",
    "    <ul style='font-size:20px'>\n",
    "        <li>\n",
    "            <i> Top Level Domain (TLD)</i>: .com, .br, .org.\n",
    "        </li>\n",
    "        <li>\n",
    "            <i> Second Level Domain (SLD)</i>: google.com, apple.com\n",
    "        </li>\n",
    "     </ul>\n",
    "</div>"
   ]
  },
  {
   "cell_type": "code",
   "execution_count": 1,
   "id": "accef056-1d4c-41e0-99be-b32187c165d5",
   "metadata": {},
   "outputs": [
    {
     "name": "stdout",
     "output_type": "stream",
     "text": [
      "[master 6908666] Fazer as anotações da Aula 89 com o artigo do CloudFlare\n",
      " 4 files changed, 184 insertions(+), 82 deletions(-)\n",
      " create mode 100644 .ipynb_checkpoints/09_route53-checkpoint.ipynb\n",
      " create mode 100644 09_route53.ipynb\n",
      "Enumerating objects: 8, done.\n",
      "Counting objects: 100% (8/8), done.\n",
      "Delta compression using up to 24 threads\n",
      "Compressing objects: 100% (5/5), done.\n",
      "Writing objects: 100% (5/5), 1.20 KiB | 1.20 MiB/s, done.\n",
      "Total 5 (delta 4), reused 0 (delta 0), pack-reused 0\n",
      "remote: Resolving deltas: 100% (4/4), completed with 3 local objects.\u001b[K\n",
      "To https://github.com/felipesveiga/aws-developer.git\n",
      "   fd4ce2e..6908666  master -> master\n"
     ]
    }
   ],
   "source": [
    "! git add .\n",
    "! git commit -am 'Aula 90' \n",
    "! git push"
   ]
  },
  {
   "cell_type": "markdown",
   "id": "6920f29b-772a-481b-b7f2-2a09cf2096a9",
   "metadata": {},
   "source": [
    "<p style='color:red'>Vi Aula 89; Aula 90 </p>"
   ]
  }
 ],
 "metadata": {
  "kernelspec": {
   "display_name": "Python 3 (ipykernel)",
   "language": "python",
   "name": "python3"
  },
  "language_info": {
   "codemirror_mode": {
    "name": "ipython",
    "version": 3
   },
   "file_extension": ".py",
   "mimetype": "text/x-python",
   "name": "python",
   "nbconvert_exporter": "python",
   "pygments_lexer": "ipython3",
   "version": "3.10.12"
  }
 },
 "nbformat": 4,
 "nbformat_minor": 5
}
