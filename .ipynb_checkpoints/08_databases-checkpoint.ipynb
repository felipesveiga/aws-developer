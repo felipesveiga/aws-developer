{
 "cells": [
  {
   "cell_type": "markdown",
   "id": "6185c73c-d283-4cec-9198-f92b2b5ef38e",
   "metadata": {},
   "source": [
    "<h1 style='font-size:40px'> Databases</h1>"
   ]
  },
  {
   "cell_type": "markdown",
   "id": "8db9e861-b755-444d-a9b7-51037ef32e95",
   "metadata": {},
   "source": [
    "<h2 style='font-size:30px'> Amazon RDS Overview</h2>\n",
    "<div> \n",
    "    <ul style='font-size:20px'> \n",
    "        <li> \n",
    "            O RDS é um serviço gerenciado para construção de bases de dados. Ele oferece todos os principais softwares de DB's do mercado, mais uma solução própria da Amazon, o Aurora. Não conseguimos acessar as suas instâncias diretamente (SSH). \n",
    "        </li>\n",
    "        <li>\n",
    "            O serviço fornece uma série de facilidades, como escalabilidade, dashboards de monitoração e réplicas de leitura.\n",
    "        </li>\n",
    "        <li>\n",
    "            Além disso, a AWS gerencia atualizações de OS por conta própria e possibilita setups multi-AZ's, para DR.\n",
    "        </li>\n",
    "    </ul>\n",
    " </div>"
   ]
  },
  {
   "cell_type": "markdown",
   "id": "e158e470-1546-47b8-9634-9876ff2627dc",
   "metadata": {},
   "source": [
    "<h2 style='font-size:30px'> RDS Read Replicas vs Multi AZ</h2>\n",
    "<div> \n",
    "    <ul style='font-size:20px'> \n",
    "        <li> \n",
    "            É possível que um cliente tenha que fazer múltiplas requisições para a nossa base de dados. Isso pode onerá-la e torná-la lenta.\n",
    "        </li>\n",
    "        <li>\n",
    "            Para evitar isso, conseguimos criar réplicas das tabelas. Elas serão um reflexo dos dados oficiais da DB, podendo ser consultadas pelo cliente. É importante ressaltar que suas atualizações são assíncronas, significando que elas podem levar um certo tempo para receberem os novos dados. \n",
    "        </li>\n",
    "        <li>\n",
    "            Podemos criar réplicas em diferentes AZ's, sem ter custo de transporte de dados. As cobranças surgem apenas na migração entre regiões.\n",
    "        </li>\n",
    "    </ul>\n",
    " </div>"
   ]
  },
  {
   "cell_type": "markdown",
   "id": "27bcf91e-f0ac-488a-9d24-de35c83af028",
   "metadata": {},
   "source": [
    "<h3 style='font-size:30px;font-style:italic'> RDS Multi AZ</h3>\n",
    "<div> \n",
    "    <ul style='font-size:20px'> \n",
    "        <li> \n",
    "            O RDS possibilita a criação de DB's de backup, em caso de falhas na oficial. Suas atualizações ocorrerão de maneira síncrona.\n",
    "        </li>\n",
    "        <li>\n",
    "            Se utilizado, não é necessário que nosso cliente atualize a sua connection string para acessar as diferentes DB's.\n",
    "        </li>\n",
    "    </ul>\n",
    "</div>"
   ]
  },
  {
   "cell_type": "markdown",
   "id": "fbd869a0-2a31-4d10-94f7-b0a92168610d",
   "metadata": {},
   "source": [
    "<h2 style='font-size:30px'> Amazon RDS Hands On</h2>\n",
    "<div> \n",
    "    <ul style='font-size:20px'> \n",
    "        <li> \n",
    "            Aula em que criamos uma base de dados RDS via console.\n",
    "        </li>\n",
    "        <li>\n",
    "            O menu permite configurarmos boa parte da infra por trás da DB, como tamanhos das instâncias, tipos de discos e provisionamento de espaço.\n",
    "        </li>\n",
    "        <li>\n",
    "            Além disso, podemos expor nossa base de dados para conseguirmos interagir com ela em softwares como o DBeaver.\n",
    "        </li>\n",
    "    </ul>\n",
    " </div>"
   ]
  },
  {
   "cell_type": "markdown",
   "id": "deefd665-79d1-4240-83f9-5c97e1897cbe",
   "metadata": {},
   "source": [
    "<h2 style='font-size:30px'> Amazon Aurora</h2>\n",
    "<div> \n",
    "    <ul style='font-size:20px'> \n",
    "        <li> \n",
    "            O Aurora é um software de bases de dados proprietário da AWS. Sua tecnologia permite que a acessemos por drivers MySQL ou Postgres.\n",
    "        </li>\n",
    "        <li>\n",
    "            Possui otimizações, tendo performance superior a diversso concorrentes.  \n",
    "        </li>\n",
    "        <li>\n",
    "            Tem custo 20% superior às demais soluções.\n",
    "        </li>\n",
    "    </ul>\n",
    " </div>"
   ]
  },
  {
   "cell_type": "markdown",
   "id": "0b8e1e70-350a-4873-bb97-d33306706c27",
   "metadata": {},
   "source": [
    "<h3 style='font-size:30px;font-style:italic'> Benefícios</h3>\n",
    "<div> \n",
    "    <ul style='font-size:20px'> \n",
    "        <li> \n",
    "            Elasticidade automática (de 10GB a 128TB).\n",
    "        </li>\n",
    "        <li>\n",
    "            Failover automático.\n",
    "        </li>\n",
    "        <li>\n",
    "            Processo de replicação mais veloz.\n",
    "        </li>\n",
    "    </ul>\n",
    "</div>"
   ]
  },
  {
   "cell_type": "markdown",
   "id": "fafec208-3496-4bde-bf9a-d7aa3dff1f16",
   "metadata": {},
   "source": [
    "<h3 style='font-size:30px;font-style:italic'> Endpoints de Interação</h3>\n",
    "<div> \n",
    "    <ul style='font-size:20px'> \n",
    "        <li> \n",
    "            O Aurora oferece um endpoints de read e write com os quais o cliente pode interagir.\n",
    "        </li>\n",
    "        <li>\n",
    "            Isso serve para que os consumidores não tenham que reconfigurar suas conexões, caso aconteça failovers ou escalonamentos.\n",
    "        </li>\n",
    "    </ul>\n",
    "</div>"
   ]
  },
  {
   "cell_type": "markdown",
   "id": "e722a4f2-d54e-4ed4-87e9-0dd55172ca99",
   "metadata": {},
   "source": [
    "<h2 style='font-size:30px'> RDS & Aurora Security</h2>\n",
    "<div> \n",
    "    <ul style='font-size:20px'> \n",
    "        <li> \n",
    "            O RDS oferece uma série de recursos para a proteção das suas bases de dados.\n",
    "        </li>\n",
    "        <li>\n",
    "            Podemos habilitar encriptação tanto at-rest, quanto in-flight. O acesso às DB's pode ser controlado com o uso de IAM Roles e Security Groups.\n",
    "        </li>\n",
    "    </ul>\n",
    " </div>"
   ]
  },
  {
   "cell_type": "markdown",
   "id": "a00bdfc3-c9bf-4773-a2f5-42638d784e42",
   "metadata": {},
   "source": [
    "<h2 style='font-size:30px'> RDS Proxy</h2>\n",
    "<div> \n",
    "    <ul style='font-size:20px'> \n",
    "        <li> \n",
    "            O RDS possibilita a criação de um servidor de proxy que intermedeie as interações entre usuários e DB's.\n",
    "        </li>\n",
    "        <li>\n",
    "            Uma vantagem disso é que o servidor de proxy pode fazer um pool de várias requisições, levando menos requisições à DB em si.\n",
    "        </li>\n",
    "    </ul>\n",
    " </div>"
   ]
  },
  {
   "cell_type": "markdown",
   "id": "dafb22b7-92e0-4876-b9b8-6d2fdf11064e",
   "metadata": {},
   "source": [
    "<h2 style='font-size:30px'> ElastiCache</h2>\n",
    "<div> \n",
    "    <ul style='font-size:20px'> \n",
    "        <li> \n",
    "            O ElastiCache é um serviço de base de dados em memória. Ele busca deixar queries recorrentes em um cache, tornando o resgate dos dados mais rápido.\n",
    "        </li>\n",
    "        <li>\n",
    "            Pode ser usado como uma forma de aliviar o servidor da DB de muitas consultas.\n",
    "        </li>\n",
    "        <li>\n",
    "            Tem suporte para o Redis e Memcached.\n",
    "        </li>\n",
    "    </ul>\n",
    " </div>"
   ]
  },
  {
   "cell_type": "markdown",
   "id": "b9f7e720-0f83-471e-9c82-8386915804f0",
   "metadata": {},
   "source": [
    "<h2 style='font-size:30px'> ElastiCache Strategies</h2>\n",
    "<div> \n",
    "    <ul style='font-size:20px'> \n",
    "        <li> \n",
    "            Aula em que aprendemos alguns design-patterns de uso de Memory-DB's.\n",
    "        </li>\n",
    "    </ul>\n",
    " </div>"
   ]
  },
  {
   "cell_type": "markdown",
   "id": "f6524bc3-1ae0-416e-95a1-45645f0754da",
   "metadata": {},
   "source": [
    "<h3 style='font-size:30px;font-style:italic'> Design Patterns MemDB's</h3>"
   ]
  },
  {
   "cell_type": "markdown",
   "id": "8a3c3b6a-4441-456e-8860-96a56b5a39ac",
   "metadata": {},
   "source": [
    "<h4 style='font-size:30px;font-style:italic;text-decoration:underline'>Lazy Loading</h4>\n",
    "<div> \n",
    "    <ul style='font-size:20px'> \n",
    "        <li> \n",
    "            Implantação simples em que o cliente faz uma primeira requisição ao cache, que retorna o dado caso já esteja presente. Caso o contrário, o cliente fará uma nova requisição para a DB original cujo resultado será retornado e aplicado ao cache.\n",
    "        </li>\n",
    "        <li>\n",
    "            Esse design-pattern garante que apenas dados com demanda sejam guardados. No entanto, o cache fica sujeito a ficar desatualizado com o passar do tempo. Além disso, o design-pattern não oferece o melhor UX.\n",
    "        </li>\n",
    "    </ul>\n",
    "</div>"
   ]
  },
  {
   "cell_type": "markdown",
   "id": "34b82c06-90b6-4593-8226-32d71ce4e189",
   "metadata": {},
   "source": [
    "<figure>\n",
    "    <center style='font-size:20px;margin-top:20px'> \n",
    "        <img src='img/08-lazy-loading.png'>\n",
    "        <figcaption style='font-size:15px'>\n",
    "            Representação de um Lazy-Loading.\n",
    "        </figcaption>\n",
    "    </center>\n",
    "</figure>"
   ]
  },
  {
   "cell_type": "markdown",
   "id": "562c8689-db26-4565-90fa-1716313789bd",
   "metadata": {},
   "source": [
    "<h4 style='font-size:30px;font-style:italic;text-decoration:underline'> Write Through</h4>\n",
    "<div> \n",
    "    <ul style='font-size:20px'> \n",
    "        <li> \n",
    "            Nesse design-pattern, todo write feito na DB é replicado no cache. Com isso, o usuário precisa apenas apontar para a Memory-DB.\n",
    "        </li>\n",
    "        <li>\n",
    "            Essa abordagem garante que o cache nunca passe por data-drifts, mas poderá disponibilizar muitos dados que não serão utilizados.\n",
    "        </li>\n",
    "    </ul>\n",
    "</div>"
   ]
  },
  {
   "cell_type": "markdown",
   "id": "8f4f3575-c942-4a27-bd2c-a25b08f1661b",
   "metadata": {},
   "source": [
    "<figure>\n",
    "    <center style='font-size:20px;margin-top:20px'> \n",
    "        <img src='img/08_write_through.png'>\n",
    "        <figcaption style='font-size:15px'>\n",
    "            Representação de um Write Through.\n",
    "        </figcaption>\n",
    "    </center>\n",
    "</figure>"
   ]
  },
  {
   "cell_type": "markdown",
   "id": "ef7ea9fa-8f72-4ccb-bbe5-1ea3c279487b",
   "metadata": {},
   "source": [
    "<h4 style='font-size:30px;font-style:italic;text-decoration:underline'> Store Session Data</h4>\n",
    "<div> \n",
    "    <ul style='font-size:20px'> \n",
    "        <li> \n",
    "            Em aplicações hospedadas em múltiplas instâncias, um usuário pode ser requerido para fazer login múltiplas vezes, caso seja direcionado para uma VM distinta a cada requisição.\n",
    "        </li>\n",
    "        <li>\n",
    "            Para evitar essa situação, você pode armazenar os dados da sessão do usuário em uma MemDB, garantindo que eles sejam recuperados num próximo acesso.\n",
    "        </li>\n",
    "    </ul>\n",
    "</div>"
   ]
  },
  {
   "cell_type": "markdown",
   "id": "051df54a-301a-41c2-999b-4d1b504bedbd",
   "metadata": {},
   "source": [
    "<h3 style='font-size:30px;font-style:italic'> Cache Eviction</h3>\n",
    "<div> \n",
    "    <ul style='font-size:20px'> \n",
    "        <li> \n",
    "            Cache eviction consiste na liberação de espaço do cache para que novas informações possam ser adicionadas.\n",
    "        </li>\n",
    "        <li>\n",
    "            A remoção de dados pode se dar por diversos critérios, como o tempo que o item está na memória ou a quantidade de vezes que ele foi requisitado.\n",
    "        </li>\n",
    "    </ul>\n",
    "</div>"
   ]
  }
 ],
 "metadata": {
  "kernelspec": {
   "display_name": "Python 3 (ipykernel)",
   "language": "python",
   "name": "python3"
  },
  "language_info": {
   "codemirror_mode": {
    "name": "ipython",
    "version": 3
   },
   "file_extension": ".py",
   "mimetype": "text/x-python",
   "name": "python",
   "nbconvert_exporter": "python",
   "pygments_lexer": "ipython3",
   "version": "3.10.12"
  }
 },
 "nbformat": 4,
 "nbformat_minor": 5
}
