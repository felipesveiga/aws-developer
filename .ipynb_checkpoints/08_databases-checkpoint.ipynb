{
 "cells": [
  {
   "cell_type": "markdown",
   "id": "6185c73c-d283-4cec-9198-f92b2b5ef38e",
   "metadata": {},
   "source": [
    "<h1 style='font-size:40px'> Databases</h1>"
   ]
  },
  {
   "cell_type": "markdown",
   "id": "8db9e861-b755-444d-a9b7-51037ef32e95",
   "metadata": {},
   "source": [
    "<h2 style='font-size:30px'> Amazon RDS Overview</h2>\n",
    "<div> \n",
    "    <ul style='font-size:20px'> \n",
    "        <li> \n",
    "            O RDS é um serviço gerenciado para construção de bases de dados. Ele oferece todos os principais softwares de DB's do mercado, mais uma solução própria da Amazon, o Aurora. Não conseguimos acessar as suas instâncias diretamente (SSH). \n",
    "        </li>\n",
    "        <li>\n",
    "            O serviço fornece uma série de facilidades, como escalabilidade, dashboards de monitoração e réplicas de leitura.\n",
    "        </li>\n",
    "        <li>\n",
    "            Além disso, a AWS gerencia atualizações de OS por conta própria e possibilita setups multi-AZ's, para DR.\n",
    "        </li>\n",
    "    </ul>\n",
    " </div>"
   ]
  },
  {
   "cell_type": "markdown",
   "id": "e158e470-1546-47b8-9634-9876ff2627dc",
   "metadata": {},
   "source": [
    "<h2 style='font-size:30px'> RDS Read Replicas vs Multi AZ</h2>\n",
    "<div> \n",
    "    <ul style='font-size:20px'> \n",
    "        <li> \n",
    "            É possível que um cliente tenha que fazer múltiplas requisições para a nossa base de dados. Isso pode onerá-la e torná-la lenta.\n",
    "        </li>\n",
    "        <li>\n",
    "            Para evitar isso, conseguimos criar réplicas das tabelas. Elas serão um reflexo dos dados oficiais da DB, podendo ser consultadas pelo cliente.\n",
    "        </li>\n",
    "        <li>\n",
    "            Podemos criar réplicas em diferentes AZ's, sem ter custo de transporte de dados. As cobranças surgem apenas na migração entre regiões.\n",
    "        </li>\n",
    "    </ul>\n",
    " </div>"
   ]
  },
  {
   "cell_type": "markdown",
   "id": "27bcf91e-f0ac-488a-9d24-de35c83af028",
   "metadata": {},
   "source": [
    "<h3 style='font-size:30px;font-style:italic'> RDS Multi AZ</h3>\n",
    "<div> \n",
    "    <ul style='font-size:20px'> \n",
    "        <li> \n",
    "            O RDS possibilita a criação de DB's de backup, em caso de falhas na oficial.\n",
    "        </li>\n",
    "    </ul>\n",
    "</div>"
   ]
  },
  {
   "cell_type": "markdown",
   "id": "deefd665-79d1-4240-83f9-5c97e1897cbe",
   "metadata": {},
   "source": [
    "<h2 style='font-size:30px'> Amazon Aurora</h2>\n",
    "<div> \n",
    "    <ul style='font-size:20px'> \n",
    "        <li> \n",
    "            O Aurora é um software de bases de dados proprietário da AWS. Sua tecnologia permite que a acessemos por drivers MySQL ou Postgres.\n",
    "        </li>\n",
    "        <li>\n",
    "            Possui otimizações, tendo performance superior a diversso concorrentes.  \n",
    "        </li>\n",
    "        <li>\n",
    "            Tem custo 20% superior às demais soluções.\n",
    "        </li>\n",
    "    </ul>\n",
    " </div>"
   ]
  },
  {
   "cell_type": "markdown",
   "id": "0b8e1e70-350a-4873-bb97-d33306706c27",
   "metadata": {},
   "source": [
    "<h3 style='font-size:30px;font-style:italic'> Benefícios</h3>\n",
    "<div> \n",
    "    <ul style='font-size:20px'> \n",
    "        <li> \n",
    "            Elasticidade automática (de 10GB a 128TB).\n",
    "        </li>\n",
    "        <li>\n",
    "            Failover automático.\n",
    "        </li>\n",
    "        <li>\n",
    "            Processo de replicação mais veloz.\n",
    "        </li>\n",
    "    </ul>\n",
    "</div>"
   ]
  },
  {
   "cell_type": "code",
   "execution_count": 5,
   "id": "0cae67c8-dea0-4204-b192-e9abc97b6151",
   "metadata": {
    "scrolled": true
   },
   "outputs": [
    {
     "name": "stdout",
     "output_type": "stream",
     "text": [
      "[master ab05c0a] Aula 80 (6:30)\n",
      " 2 files changed, 14 insertions(+), 14 deletions(-)\n",
      "Enumerating objects: 7, done.\n",
      "Counting objects: 100% (7/7), done.\n",
      "Delta compression using up to 24 threads\n",
      "Compressing objects: 100% (4/4), done.\n",
      "Writing objects: 100% (4/4), 550 bytes | 550.00 KiB/s, done.\n",
      "Total 4 (delta 3), reused 0 (delta 0), pack-reused 0\n",
      "remote: Resolving deltas: 100% (3/3), completed with 3 local objects.\u001b[K\n",
      "To https://github.com/felipesveiga/aws-developer.git\n",
      "   f2b4cee..ab05c0a  master -> master\n"
     ]
    }
   ],
   "source": [
    "! git add .\n",
    "! git commit -am 'Aula 81 (1:45)' \n",
    "! git push"
   ]
  },
  {
   "cell_type": "markdown",
   "id": "0fb73fb0-cfa2-4918-a1a8-9ebdf0a694e4",
   "metadata": {},
   "source": [
    "<p style='color:red'> Vi Aula 80 (6:30); Iniciei Aula 81; Aula 81 (1:45); <strong> DESLIGAR VM's</strong> ao final das aulas</p>"
   ]
  }
 ],
 "metadata": {
  "kernelspec": {
   "display_name": "Python 3 (ipykernel)",
   "language": "python",
   "name": "python3"
  },
  "language_info": {
   "codemirror_mode": {
    "name": "ipython",
    "version": 3
   },
   "file_extension": ".py",
   "mimetype": "text/x-python",
   "name": "python",
   "nbconvert_exporter": "python",
   "pygments_lexer": "ipython3",
   "version": "3.10.12"
  }
 },
 "nbformat": 4,
 "nbformat_minor": 5
}
