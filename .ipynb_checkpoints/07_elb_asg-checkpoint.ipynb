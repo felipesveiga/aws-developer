{
 "cells": [
  {
   "cell_type": "markdown",
   "id": "2a29e53a-f219-4670-aa6c-d69eb53c9274",
   "metadata": {},
   "source": [
    "<h1 style='font-size:40px'> ELB & ASG - Elastic Load Balancing & Auto Scaling Groups</h1>"
   ]
  },
  {
   "cell_type": "markdown",
   "id": "3aafa501-b510-402b-a2dd-5c13416a9c0d",
   "metadata": {
    "tags": []
   },
   "source": [
    "<h2 style='font-size:30px'> High Availability, Scalability, Elasticity</h2>\n",
    "<div> \n",
    "    <ul style='font-size:20px'> \n",
    "        <li> \n",
    "            Aprenderemos aqui o significado de alguns dos jargões de Cloud Computing. \n",
    "        </li>\n",
    "    </ul>\n",
    "</div>"
   ]
  },
  {
   "cell_type": "markdown",
   "id": "df665ef7-5632-4640-a4b3-453aba1470c9",
   "metadata": {},
   "source": [
    "<h3 style='font-size:30px;font-style:italic'> Escalabilidade</h3>\n",
    "<div> \n",
    "    <ul style='font-size:20px'> \n",
    "        <li> \n",
    "            Consiste na capacidade de um sistema de se adaptar a maiores volumes de trabalho.\n",
    "        </li>\n",
    "    </ul>\n",
    "</div>"
   ]
  },
  {
   "cell_type": "markdown",
   "id": "3d5866f3-1124-4df0-a97c-0c7c75807795",
   "metadata": {},
   "source": [
    "<h4 style='font-size:30px;font-style:italic;text-decoration:underline'> Escalabilidade Vertical</h4>\n",
    "<div> \n",
    "    <ul style='font-size:20px'> \n",
    "        <li> \n",
    "            Aumento da capacidade de processamento com a expansão da própria instância.\n",
    "        </li>\n",
    "        <li> \n",
    "            Ideal para sistemas não distribuídos, como bases de dados.\n",
    "        </li>\n",
    "    </ul>\n",
    "</div>"
   ]
  },
  {
   "cell_type": "markdown",
   "id": "05eff110-18cf-4ee7-8a30-833abff2f245",
   "metadata": {},
   "source": [
    "<h4 style='font-size:30px;font-style:italic;text-decoration:underline'> Escalabilidade Horizontal</h4>\n",
    "<div> \n",
    "    <ul style='font-size:20px'> \n",
    "        <li> \n",
    "            Aumento da capacidade de processamento com o provisionamento de novas instâncias.\n",
    "        </li>\n",
    "        <li> \n",
    "            Recomendado quando usamos sistemas distribuídos, como aplicações web e ML.\n",
    "        </li>\n",
    "    </ul>\n",
    "</div>"
   ]
  },
  {
   "cell_type": "markdown",
   "id": "d0dae0fa-ecbd-4930-b8c1-18a109fadd07",
   "metadata": {},
   "source": [
    "<h3 style='font-size:30px;font-style:italic'> High Availability</h3>\n",
    "<div> \n",
    "    <ul style='font-size:20px'> \n",
    "        <li> \n",
    "            Criar uma aplicação altamente disponível significa disponibilizá-la em vários locais concomitantemente.\n",
    "        </li>\n",
    "        <li> \n",
    "            Dessa maneira, havendo um problema em uma das zonas, o sistema ainda estará disponível nos servidores da outra.\n",
    "        </li>\n",
    "    </ul>\n",
    "</div>"
   ]
  },
  {
   "cell_type": "markdown",
   "id": "86bef508-2703-49ed-b886-2ca843079079",
   "metadata": {},
   "source": [
    "<h3 style='font-size:30px;font-style:italic'> Scalability x Elasticity x Agility</h3>\n",
    "<div> \n",
    "    <ul style='font-size:20px'> \n",
    "        <li> \n",
    "            O exame espera que o candidato saiba distinguir os conceitos de Escalabilidade, Elasticidade e Agilidade em Cloud Computing\n",
    "            <ul> \n",
    "                <li>\n",
    "                    <i> Escalabilidade:</i> Capacidade do sistema de se adaptar a maiores cargas de processamento, seja fortalecendo o hardware (scale up), ou acrescentando nós (scale out).\n",
    "                </li>\n",
    "                <li>\n",
    "                    <i> Elasticidade:</i> Um sistema elástico é aquele que gerencia a sua escalabilidade automaticamente.\n",
    "                </li>\n",
    "                <li>\n",
    "                    <i> Agilidade:</i> Habilidade de tornar recursos de TI facilmente acessíveis. Por exemplo, o EC2 pode ser considerado um serviço ágil, porque consegue providenciar VM's de qualquer sorte em um curto período de tempo.\n",
    "                </li>\n",
    "            </ul>\n",
    "        </li>\n",
    "    </ul>\n",
    "</div>"
   ]
  },
  {
   "cell_type": "markdown",
   "id": "aaff789d-bb68-4ea2-9cf3-da578d3ed9ba",
   "metadata": {},
   "source": [
    "<h2 style='font-size:30px'> Elastic Load Balancing (ELB) Overview</h2>\n",
    "<div> \n",
    "    <ul style='font-size:20px'> \n",
    "        <li> \n",
    "            Os Elastic Load Balancers são servidores que gerenciam o direcionamento de carga às instâncias da sua aplicação. \n",
    "        </li>\n",
    "        <li> \n",
    "            Eles conseguem manter a nossa aplicação disponível aos usuários finais, mesmo quando desejarmos interromper alguma VM para manutenção.\n",
    "        </li>\n",
    "        <li> \n",
    "            Oferecem terminação SSL para os seus websites.\n",
    "        </li>\n",
    "    </ul>\n",
    "</div>"
   ]
  },
  {
   "cell_type": "markdown",
   "id": "2a4f6956-ebfb-4d13-b3e9-6b186b720283",
   "metadata": {},
   "source": [
    "<h3 style='font-size:30px;font-style:italic'> Vantagens</h3>\n",
    "<div> \n",
    "    <ul style='font-size:20px'> \n",
    "        <li> \n",
    "            Apesar de você poder criar um Load Balancer com uma VM, a manutenção dos ELB's é de inteira responsabilidade da AWS. \n",
    "        </li>\n",
    "        <li> \n",
    "            Os ELB's são bastante fáceis de serem configurados.\n",
    "        </li>\n",
    "    </ul>\n",
    "</div>"
   ]
  },
  {
   "cell_type": "markdown",
   "id": "bf499fa1-e736-49e7-b1b9-141bff6d8c04",
   "metadata": {},
   "source": [
    "<h3 style='font-size:30px;font-style:italic'> Tipos de ELB's</h3>\n",
    "<div> \n",
    "    <ul style='font-size:20px'> \n",
    "        <li> \n",
    "            <i> Application Load Balancer:</i> Voltado a protocolos de camada 7 (HTTP, HTTPS, gRPC). Providencia uma URL estática.\n",
    "        </li>\n",
    "        <li> \n",
    "            <i> Network Load Balancer:</i> Voltado a protocolos de camada 4 (TCP, UDP). Providencia um IP estático. Consegue lidar com milhões de requisições por segundo.\n",
    "        </li>\n",
    "        <li> \n",
    "            <i> Gateway Load Balancer:</i> Direciona o tráfego a instâncias que rodam softwares de monitoramento e firewalls. Com ele, conseguimos inspecionar packets ou impedir acessos suspeitos às nossas VM's. Suporte a protocolos de camada 3 (GENEVE).\n",
    "        </li>\n",
    "    </ul>\n",
    "</div>"
   ]
  },
  {
   "cell_type": "markdown",
   "id": "ad4858c8-4a79-42fd-8cff-a06857d5bb19",
   "metadata": {},
   "source": [
    "<h3 style='font-size:30px;font-style:italic'> Load Balancer Security Groups</h3>\n",
    "<div> \n",
    "    <ul style='font-size:20px'> \n",
    "        <li> \n",
    "            A arquitetura de aplicações com Load Balancers envolverá o uso de 2 Security Groups distintos.\n",
    "        </li>\n",
    "        <li> \n",
    "            O primeiro, vinculado ao balanceador, definirá os protocolos permitidos pela aplicação. Já o segundo, das instâncias por trás, permitirá apenas o acesso de dados vindos do Load Balancer.\n",
    "        </li>\n",
    "        <li>\n",
    "            Com isso, criamos uma camada de segurança à nossa aplicação.\n",
    "        </li>\n",
    "    </ul>\n",
    "</div>"
   ]
  },
  {
   "cell_type": "markdown",
   "id": "1457913b-610d-4fd6-bc0b-19ac01b05dd7",
   "metadata": {},
   "source": [
    "<center style='margin-top:20px'> \n",
    "                <img src='img/07_elb_sg.png'>\n",
    "            </center>"
   ]
  },
  {
   "cell_type": "markdown",
   "id": "a95eee9c-dc1b-4849-ad4e-74f1d024cebc",
   "metadata": {},
   "source": [
    "<h2 style='font-size:30px'> Application Load Balancer (ALB)</h2>\n",
    "<div> \n",
    "    <ul style='font-size:20px'> \n",
    "        <li>\n",
    "            Como já dito, os ALB's suportam protocolos camada 7 (HTTP/HTTPS). Eles são capazes de automaticamente converterem requisições HTTP em HTTPS, quando possível.\n",
    "        </li>\n",
    "        <li>\n",
    "            Podem encaminhar requisições para target groups distintos com base em padrões de URL, por exemplo.\n",
    "        </li>\n",
    "        <li>\n",
    "            Todos os ALB's possuem um hostname fixo. Além disso, os servidores da aplicação não conseguem enxergar diretamente os endereços de IP dos clientes.\n",
    "        </li>\n",
    "    </ul>\n",
    "</div>"
   ]
  },
  {
   "cell_type": "markdown",
   "id": "4f8b425a-828e-441b-ba13-4feb75710eec",
   "metadata": {},
   "source": [
    "<h3 style='font-size:30px;font-style:italic'> Target Groups</h3>\n",
    "<div> \n",
    "    <ul style='font-size:20px'> \n",
    "        <li> \n",
    "            Target Groups consistem nos destinos de qualquer requsição feita a um balanceador. Na AWS, eles podem ser instâncias EC2, endereços de IP ou até mesmo Lambdas.\n",
    "        </li>\n",
    "    </ul>\n",
    "</div>"
   ]
  },
  {
   "cell_type": "markdown",
   "id": "65749862-b2ff-40af-8a2a-90bcee494eb4",
   "metadata": {},
   "source": [
    "<h2 style='font-size:30px'> Application Load Balancer (ALB) Hands On</h2>\n",
    "<div> \n",
    "    <ul style='font-size:20px'> \n",
    "        <li> \n",
    "            As instâncias que quisermos utilizar como alvos de nosso Load Balancer deverão ser alocadas a um Target Group. É com ele que nosso servidor saberá a quais VM's ele deverá direcionar o tráfego. \n",
    "        </li>\n",
    "        <li> \n",
    "            O ALB é capaz de saber quais VM's estão incapazes de receber sinais (por estarem desligadas, por exemplo). Com isso, ele apenas encaminha requisições a instâncias consideradas \"saudáveis\".\n",
    "        </li>\n",
    "    </ul>\n",
    "</div>"
   ]
  },
  {
   "cell_type": "markdown",
   "id": "e5caa6a4-895b-4ac7-bc0e-c57051711988",
   "metadata": {},
   "source": [
    "<h2 style='font-size:30px'> Auto Scaling Groups (ASG) Overview</h2>\n",
    "<div> \n",
    "    <ul style='font-size:20px'> \n",
    "        <li> \n",
    "            Serviço de elasticidade do EC2. Capaz de provisionar (scale out), ou remover (scale in) instâncias de nosso fluxo de trabalho conforme a demanda. \n",
    "        </li>\n",
    "        <li> \n",
    "            Além disso, é capaz de substituir uma máquina quando essa está defeituosa.\n",
    "        </li>\n",
    "        <li> \n",
    "            O Auto Scaling Group conversa harmonicamente com o ELB. O serviço consegue cadastrar as VM's no Load Balancer  a fim de fazê-lo poder direcionar o tráfego a elas.\n",
    "        </li>\n",
    "    </ul>\n",
    "</div>"
   ]
  },
  {
   "cell_type": "markdown",
   "id": "5d657712-9d72-406c-8ef9-4fb13bfb6d2f",
   "metadata": {},
   "source": [
    "<h2 style='font-size:30px'> Auto Scaling Groups (ASG) Hands On</h2>\n",
    "<div> \n",
    "    <ul style='font-size:20px'> \n",
    "        <li> \n",
    "            Quando queremos inicializar um ASG, temos que garantir que ele conheça o tipo de instância a ser inicializada, caso haja necessidade de escalabilidade. Para isso, devemos entrar no menu de Launch Template e especificar todas as configurações cabíveis.\n",
    "            <center style='margin-top:20px'> \n",
    "                <img src='img/07_create_template.png'>\n",
    "            </center>\n",
    "        </li>\n",
    "    </ul>\n",
    "</div>"
   ]
  },
  {
   "cell_type": "markdown",
   "id": "eb0de356-332e-4ee8-8ad4-8e291d6dd352",
   "metadata": {},
   "source": [
    "<h3 style='font-size:30px;font-style:italic'> Lançando um ASG</h3>\n",
    "<div> \n",
    "    <ul style='font-size:20px'> \n",
    "        <li> \n",
    "            No menu do ASG, podemos criar nosso gerenciador com um alto nível de customização. Podemos já associá-lo a um ELB específico e definir a quais AZ's vamos alocar as instâncias.\n",
    "        </li>\n",
    "        <li> \n",
    "            O ASG é capaz de automaticamente gerar novas VM's, assim que detectar máquinas em mau funcionamento. A fim de controlar custos, você pode definir um número máximo de instâncias que podem estar ligadas no Target Group. \n",
    "        </li>\n",
    "    </ul>\n",
    "</div>"
   ]
  },
  {
   "cell_type": "markdown",
   "id": "b3000580-c0cb-4976-93ea-8118774a68db",
   "metadata": {},
   "source": [
    "<h2 style='font-size:30px'> Auto Scaling Groups (ASG) Strategies</h2>\n",
    "<div> \n",
    "    <ul style='font-size:20px'> \n",
    "        <li> \n",
    "            O usuário AWS pode tanto provisionar instâncias manualmente, quanto por meio de automações. \n",
    "        </li>\n",
    "    </ul>\n",
    "</div>"
   ]
  },
  {
   "cell_type": "markdown",
   "id": "cc8f9a9f-85be-422e-b999-6816ce3681fe",
   "metadata": {},
   "source": [
    "<h3 style='font-size:30px;font-style:italic'> Modalidades de Provisionamento Automático</h3>\n",
    "<div> \n",
    "    <ul style='font-size:20px'> \n",
    "        <li> \n",
    "            <i> Dynamic Scaling</i>: Quando um threshold é alcançado, provisionar ou desligar um número x de instâncias. \n",
    "        </li>\n",
    "        <li> \n",
    "            <i> Target Tracking</i>: Manter o nível de consumo sempre em torno de uma %. \n",
    "        </li>\n",
    "        <li> \n",
    "            <i> Agendamento</i>: Agendar um provisionamento/desligamento de VM's em uma data específica. \n",
    "        </li>\n",
    "        <li> \n",
    "            <i> Preditiva</i>: Usa Machine Learning, a fim de prever níveis de consumo futuros com base em dados anteriores. \n",
    "        </li>\n",
    "    </ul>\n",
    "</div>"
   ]
  },
  {
   "cell_type": "code",
   "execution_count": 2,
   "id": "e94c4099-f32e-41cf-b1ce-e89fac1c285b",
   "metadata": {
    "scrolled": true
   },
   "outputs": [
    {
     "name": "stdout",
     "output_type": "stream",
     "text": [
      "[master bdfca25] Revisar meu Budget criado\n",
      " 2 files changed, 28 insertions(+), 30 deletions(-)\n",
      "Enumerating objects: 7, done.\n",
      "Counting objects: 100% (7/7), done.\n",
      "Delta compression using up to 24 threads\n",
      "Compressing objects: 100% (4/4), done.\n",
      "Writing objects: 100% (4/4), 695 bytes | 695.00 KiB/s, done.\n",
      "Total 4 (delta 3), reused 0 (delta 0), pack-reused 0\n",
      "remote: Resolving deltas: 100% (3/3), completed with 3 local objects.\u001b[K\n",
      "To https://github.com/felipesveiga/aws-developer.git\n",
      "   1996e1b..bdfca25  master -> master\n"
     ]
    }
   ],
   "source": [
    "! git add .\n",
    "! git commit -am 'Criar uma nova VPC e Subnet onde eu possa inicializar as minhas instâncias EC2' \n",
    "! git push"
   ]
  },
  {
   "cell_type": "markdown",
   "id": "e079df3a-2f43-4c6a-8922-867f1d15c26f",
   "metadata": {},
   "source": [
    "<p style='color:red'> Criar uma nova VPC e Subnet onde eu possa inicializar as minhas instâncias EC2; Aula 63 <strong> DESLIGAR VM'S</strong> ao final das aulas</p>"
   ]
  }
 ],
 "metadata": {
  "kernelspec": {
   "display_name": "Python 3 (ipykernel)",
   "language": "python",
   "name": "python3"
  },
  "language_info": {
   "codemirror_mode": {
    "name": "ipython",
    "version": 3
   },
   "file_extension": ".py",
   "mimetype": "text/x-python",
   "name": "python",
   "nbconvert_exporter": "python",
   "pygments_lexer": "ipython3",
   "version": "3.10.12"
  }
 },
 "nbformat": 4,
 "nbformat_minor": 5
}
