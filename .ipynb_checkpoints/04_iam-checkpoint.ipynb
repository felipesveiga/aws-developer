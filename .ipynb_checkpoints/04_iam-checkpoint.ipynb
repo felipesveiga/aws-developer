{
 "cells": [
  {
   "cell_type": "markdown",
   "id": "07c8b965-1c0a-448f-9f9f-ec6c94a2d570",
   "metadata": {},
   "source": [
    "<h1 style='font-size:40px'> IAM - Identity and Access Management</h1>"
   ]
  },
  {
   "cell_type": "markdown",
   "id": "8c0bec11-80af-42c6-970d-cee22dd0b29b",
   "metadata": {},
   "source": [
    "<h2 style='font-size:30px'> IAM Introduction: Users, Groups, Policies</h2>\n",
    "<div> \n",
    "    <ul style='font-size:20px'> \n",
    "        <li> \n",
    "            Aprenderemos neste módulo a lidar com a IAM, sistema de gerenciamento de acessos e identificação da AWS.\n",
    "        </li>\n",
    "        <li> \n",
    "            Existem dois tipos de usuários na AWS: os root - equivlente a um administrador -  e IAM - cujas permissões são gerenciadas pelo root. Cada indivíduo deve ter o seu próprio usuário no serviço.\n",
    "        </li>\n",
    "        <li> \n",
    "            Esses usuários podem ser alocados a grupos condizentes a os seus papéis na organização. Observe que a AWS não permite que existam sub-grupos (Desenvolvedores -> Desenvolvedores front-end).\n",
    "            <center style='margin-top:20px'> \n",
    "                <img src='img/04_groups.png'>\n",
    "            </center>\n",
    "        </li>\n",
    "    </ul>\n",
    "</div>"
   ]
  },
  {
   "cell_type": "markdown",
   "id": "83ee85ab-5042-47b0-ab5a-d663710fff17",
   "metadata": {},
   "source": [
    "<h3 style='font-size:30px;font-style:italic'> IAM: Permissions</h3>\n",
    "<div> \n",
    "    <ul style='font-size:20px'> \n",
    "        <li> \n",
    "            As permissões detidas por um grupo ou usuário são definidas em um JSON.\n",
    "        </li>\n",
    "        <li>\n",
    "            Busque conceder apenas as permissões das quais um usuário precisa (least priviledge principle): não exponha sua empresa a riscos desnecessários!\n",
    "            <center style='margin-top:20px'> \n",
    "                <img src='img/04_json.png'>\n",
    "            </center>\n",
    "        </li>\n",
    "    </ul>\n",
    "</div>"
   ]
  },
  {
   "cell_type": "markdown",
   "id": "93690c1d-9923-4f2f-abfe-d08305140da0",
   "metadata": {},
   "source": [
    "<h2 style='font-size:30px'> IAM Users & Groups Hands On</h2>\n",
    "<div> \n",
    "    <ul style='font-size:20px'> \n",
    "        <li> \n",
    "            Quando for interagir com a AWS, evite utilizar a root account. Crie uma conta IAM com apenas as permissões necessárias.\n",
    "        </li>\n",
    "        <li> \n",
    "            Entre em IAM, clique na aba Users e depois em Add Users.\n",
    "        </li>\n",
    "        <li> \n",
    "            Evite conceder permissões exclusivas ao usuário. Ao invés disso, crie primeiro um grupo com as policies precisadas e aloque-o nele, como na imagem abaixo:\n",
    "            <center style='margin-top:20px'>\n",
    "                <img src='img/04_policies.png'>\n",
    "            </center>\n",
    "        </li>\n",
    "    </ul>\n",
    "</div>"
   ]
  },
  {
   "cell_type": "markdown",
   "id": "3fd61bd1-e827-4b7f-980c-7af2445a32cd",
   "metadata": {},
   "source": [
    "<h3 style='font-size:30px;font-style:italic'> Tags</h3>\n",
    "<div> \n",
    "    <ul style='font-size:20px'> \n",
    "        <li> \n",
    "            Nós podemos ainda customizar o nosso usuário inserindo tags chave:valor. Esses dados vão, provavelmente, ser inseridos no JSON de permissões ao final da criação.\n",
    "             <center style='margin-top:20px'>\n",
    "                <img src='img/04_tags.png'>\n",
    "            </center>\n",
    "        </li>\n",
    "    </ul>\n",
    "</div>"
   ]
  },
  {
   "cell_type": "markdown",
   "id": "da92ef0e-8cfe-4951-9391-e111e27942f4",
   "metadata": {},
   "source": [
    "<h3 style='font-size:30px;font-style:italic'> Aliases</h3>\n",
    "<div> \n",
    "    <ul style='font-size:20px'> \n",
    "        <li> \n",
    "            Logins em usuários IAM requerem que a pessoa insira um identificador da conta AWS. Esse, por padrão, é um código numérico, mas é possível definir um alias cuja memorização seja mais fácil.\n",
    "        </li>\n",
    "        <li>\n",
    "            A criação do Alias estará disponível no canto direito do menu \"Dashboard\".\n",
    "             <center style='margin-top:20px'>\n",
    "                <img src='img/04_login_iam.png'>\n",
    "            </center>\n",
    "        </li>\n",
    "        <li style='margin-top:20px'> \n",
    "            Ao logar na sua IAM, o canto superior da tela mostrará a informação &lt userIAM@aliasconta &gt.\n",
    "        </li>\n",
    "    </ul>\n",
    "</div>"
   ]
  },
  {
   "cell_type": "markdown",
   "id": "054a5a70-3a4d-405a-bf3d-cb60e9d6647c",
   "metadata": {},
   "source": [
    "<h2 style='font-size:30px'> IAM: Policies</h2>\n",
    "<div> \n",
    "    <ul style='font-size:20px'> \n",
    "        <li> \n",
    "            Policies são um conjunto de permissões ou restrições conferidas a um grupo ou usuário. Elas são definidas dentro de um JSON com uma estrutura particular.\n",
    "            <center style='margin-top:20px'>\n",
    "                <img src='img/04_policy.png'>\n",
    "            </center>\n",
    "        </li>\n",
    "        <li style='margin-top:20px'> \n",
    "            Seus principais elementos são:\n",
    "            <ul> \n",
    "                <li> \n",
    "                    <i>Version: </i>A versão de linguagem de policy.\n",
    "                </li>\n",
    "                <li> \n",
    "                    <i>Id: </i> Um identificador opcional da policy.\n",
    "                </li>\n",
    "                <li> \n",
    "                    <i>Statement: </i> Declaração de permissões ou restrições.\n",
    "                </li>\n",
    "            </ul>\n",
    "        </li>\n",
    "        <li> \n",
    "            Um Statement é constituído por:\n",
    "            <ul> \n",
    "                <li> \n",
    "                    <i>Sid: </i> Identificador opcional do Statement.\n",
    "                </li>\n",
    "                <li> \n",
    "                    <i>Effect: </i> Se o Statement garantirá permissões ou restrições às ações a serem declaradas (Allow, Deny).\n",
    "                </li>\n",
    "                <li> \n",
    "                    <i>Principal: </i> Conta/usuário/papel à qual a policy é aplicada.\n",
    "                </li>\n",
    "                <li> \n",
    "                    <i>Action: </i> Ações a serem permitidas/proibidas. \n",
    "                </li>\n",
    "                <li> \n",
    "                    <i>Resource: </i> Lista de recursos em que as ações são aplicadas.\n",
    "                </li>\n",
    "                <li> \n",
    "                    <i>Condition: </i> Informação opcional que sinaliza quando a policy está em vigor.\n",
    "                </li>\n",
    "            </ul>\n",
    "        </li>\n",
    "    </ul>\n",
    "</div>"
   ]
  },
  {
   "cell_type": "markdown",
   "id": "faf8a22b-a78c-4e65-9dc1-3420280b2260",
   "metadata": {},
   "source": [
    "<h2 style='font-size:30px'>  IAM Policies Hands On</h2>\n",
    "<div> \n",
    "    <ul style='font-size:20px'> \n",
    "        <li> \n",
    "            Aula prática voltada ao gerenciamento de policies ao nosso IAM User.\n",
    "        </li>\n",
    "        <li> \n",
    "            Nela, podemos observar o rígido comportamento da AWS quanto às permissões de ações.\n",
    "        </li>\n",
    "        <li>\n",
    "            Importante observar a organização das permissões concedidas. Evite criar grupos desnecessários e conceder policies individualmente, isso torna a gestão das ações confusa, como na imagem abaixo.\n",
    "            <center style='margin-top:20px'> \n",
    "                <img src='img/04_policies_handson.png'>\n",
    "            </center>\n",
    "        </li>\n",
    "    </ul>\n",
    "</div>"
   ]
  },
  {
   "cell_type": "markdown",
   "id": "e7ae9b4d-7d05-4855-ac1c-05bca7b6ef3d",
   "metadata": {},
   "source": [
    "<h3 style='font-size:30px;font-style:italic'> Criação de Policies</h3>\n",
    "<div> \n",
    "    <ul style='font-size:20px'> \n",
    "        <li> \n",
    "            O administrador é capaz de criar policies customizadas a seus usuários no menu \"Policies\".\n",
    "        </li>\n",
    "        <li>\n",
    "            Nele, o usuário pode escrever o próprio JSON ou definir as permissões por interface gráfica.\n",
    "            <center style='margin-top:20px'> \n",
    "                <img src='img/04_create_policy.png'>\n",
    "            </center>\n",
    "        </li>\n",
    "    </ul>\n",
    "</div>"
   ]
  },
  {
   "cell_type": "markdown",
   "id": "8dabe326-4100-45b7-ba1b-34f7cb309f44",
   "metadata": {},
   "source": [
    "<h2 style='font-size:30px'>  IAM MFA Overview</h2>\n",
    "<div> \n",
    "    <ul style='font-size:20px'> \n",
    "        <li> \n",
    "            A Amazon oferece uma grande quantidade de possibilidades de proteção aos seus usuários. \n",
    "        </li>\n",
    "        <li> \n",
    "            A maneira mais tradicional é impor constraints à senha da conta (maiúsculas, números). O administrador pode também definir a troca da senha a cada certo período de tempo e impedir que um mesmo código seja usado mais de uma vez.\n",
    "        </li>\n",
    "        <li> \n",
    "            Mas ainda é possível recorrer a MFA, capaz de ser feita em uma série de dispositivos.\n",
    "        </li>\n",
    "    </ul>\n",
    "</div>"
   ]
  },
  {
   "cell_type": "markdown",
   "id": "c94e7fe7-252f-4f3d-b97e-eb9662959240",
   "metadata": {},
   "source": [
    "<h3 style='font-size:30px;font-style:italic'> Opções de Dispositivos para MFA</h3>"
   ]
  },
  {
   "cell_type": "markdown",
   "id": "344d8133-7c14-4697-9d5a-bc4e895fee21",
   "metadata": {},
   "source": [
    "<h4 style='font-size:30px;font-style:italic;text-decoration:underline'> Dispositivo Virtual de MFA</h4>\n",
    "<div> \n",
    "    <ul style='font-size:20px'> \n",
    "        <li> \n",
    "            Existem aplicativos de autenticação para celulares (Google Authenticator, Authy) que podem ser configurados para uso na AWS.\n",
    "            <center style='margin-top:20px'>\n",
    "                <img src='img/04_virtual_authenticator.png'>\n",
    "            </center>\n",
    "        </li>\n",
    "    </ul>\n",
    "</div>"
   ]
  },
  {
   "cell_type": "markdown",
   "id": "644e3e81-5ae4-4836-9b57-1bf4c3a6af9c",
   "metadata": {},
   "source": [
    "<h4 style='font-size:30px;font-style:italic;text-decoration:underline'> Universal 2nd Factor (U2F) Security Key</h4>\n",
    "<div> \n",
    "    <ul style='font-size:20px'> \n",
    "        <li> \n",
    "            Chave que deve ser plugada no computador após a inserção da senha para que o login seja efetuado.\n",
    "            <center style='margin-top:20px'> \n",
    "                <img src='img/04_u2f.png'>\n",
    "            </center>\n",
    "        </li>\n",
    "    </ul>\n",
    "</div>"
   ]
  },
  {
   "cell_type": "markdown",
   "id": "003c1fda-a3ef-41c8-a655-b25134092396",
   "metadata": {},
   "source": [
    "<h4 style='font-size:30px;font-style:italic;text-decoration:underline'> Hardware Key Fob MFA Device</h4>\n",
    "<div> \n",
    "    <ul style='font-size:20px'> \n",
    "        <li> \n",
    "            Gerador de tokens físico.\n",
    "        </li>\n",
    "        <li>\n",
    "            Método de MFA usado pelo Governo dos EUA (aparelho fornecido pela SurePass).\n",
    "            <center style='margin-top:20px'> \n",
    "                <img src='img/04_keyfob.png'>\n",
    "            </center>\n",
    "        </li>\n",
    "    </ul>\n",
    "</div>"
   ]
  },
  {
   "cell_type": "markdown",
   "id": "a5dfef0e-6e0f-4ace-aa3f-d146584bae61",
   "metadata": {},
   "source": [
    "<h2 style='font-size:30px'> IAM MFA Hands On</h2>\n",
    "<div> \n",
    "    <ul style='font-size:20px'> \n",
    "        <li> \n",
    "            A política de senhas pode ser gerenciada no menu Account Settings de IAM. \n",
    "        </li>\n",
    "        <li> \n",
    "            Já a inserção de uma técnica de MFA deve ser feita em Security Credentials, que aparece ao clicarmos em nosso username no canto superior direito da tela. Caso escolha utilizar um aplicativo de autenticação, deverá escanear um QR Code.\n",
    "        </li>\n",
    "        <li>\n",
    "            Você pode cadastrar até 8 técnicas de MFA. Após inserir a sua senha, a tela a seguir deverá aparecer no login:\n",
    "            <center style='margin-top:20px'>\n",
    "                <img src='img/04_mfa_login.png'>\n",
    "            </center>\n",
    "        </li>\n",
    "    </ul>\n",
    "</div>"
   ]
  },
  {
   "cell_type": "markdown",
   "id": "85a84032-97c0-4028-a346-9b4f99793c54",
   "metadata": {
    "tags": []
   },
   "source": [
    "<h2 style='font-size:30px'> AWS Access Keys, CLI and SDK</h2>\n",
    "<h3 style='font-size:30px;font-style:italic'> CLI</h3>\n",
    "<div> \n",
    "    <ul style='font-size:20px'> \n",
    "        <li> \n",
    "            Command Line Interfaces são programas de computador que executam tarefas com base em comandos textuais. É a maneira mais primitiva de o usuário se comunicar com a máquina, sendo sucedida pela GUI's com os seus comandos point-and-click.\n",
    "        </li>\n",
    "    </ul>\n",
    "</div>"
   ]
  },
  {
   "cell_type": "markdown",
   "id": "55ee4f99-e03e-440b-9eb1-fca9454585b7",
   "metadata": {},
   "source": [
    "<h3 style='font-size:30px;font-style:italic'> SDK</h3>\n",
    "<div> \n",
    "    <ul style='font-size:20px'> \n",
    "        <li> \n",
    "            Software Development Kits (SDK's) são um conjunto de recursos criados com o intuito de integrar facilmente uma aplicação com um certo serviço ou ambiente. Entre as ferramentas, podemos mencionar API's e bibliotecas de código.\n",
    "        </li>\n",
    "    </ul>\n",
    "</div>"
   ]
  },
  {
   "cell_type": "markdown",
   "id": "350ec15c-0a0f-4cc9-9028-89571460cd3a",
   "metadata": {},
   "source": [
    "<h3 style='font-size:30px;font-style:italic'> Acesso à AWS por CLI e SDK's</h3>\n",
    "<div> \n",
    "    <ul style='font-size:20px'> \n",
    "        <li> \n",
    "            Além do Management Console, a AWS oferece uma CLI e SDK's a fim de interagirmos com o serviço a partir de nosso terminal ou IDE.\n",
    "        </li>\n",
    "        <li>\n",
    "            Para usar esses dois últimos recursos, você terá que criar chaves de acesso. A Access Key ID é equivalente ao seu username e a Secret Access Key, à sua senha.\n",
    "        </li>\n",
    "        <li> \n",
    "            Curiosidade: A CLI da AWS é feita sobre a SDK da AWS para Python.\n",
    "        </li>\n",
    "    </ul>\n",
    "</div>"
   ]
  },
  {
   "cell_type": "markdown",
   "id": "ddf5a52d-9674-4a03-8abe-e5c09b0399b6",
   "metadata": {
    "tags": []
   },
   "source": [
    "<h2 style='font-size:30px'> AWS CLI Hands On</h2>\n",
    "<div> \n",
    "    <ul style='font-size:20px'> \n",
    "        <li> \n",
    "            Para gerar uma chave de acesso, entre em Users do serviço IAM. Ao selecionar o usuário, clique em \"Security Credentials\" e escolha criar uma chave de acesso.\n",
    "        </li>\n",
    "        <li>\n",
    "            Escolha o propósito da sua chave e efetive a sua geração.\n",
    "        </li>\n",
    "    </ul>\n",
    "</div>"
   ]
  },
  {
   "cell_type": "markdown",
   "id": "ec89630d-9af5-44b4-b12b-c86fad432088",
   "metadata": {},
   "source": [
    "<h3 style='font-size:30px;font-style:italic'> Configurando CLI</h3>\n",
    "<div> \n",
    "    <ul style='font-size:20px'> \n",
    "        <li> \n",
    "            Uma vez geradas as chaves, podemos assim configurar o nosso CLI. Esse processo é equivalente a um login em nossa conta, só que pelo terminal.\n",
    "            <center style='margin-top:20px'> \n",
    "                <img src='img/04_aws_configure.png'>\n",
    "            </center>\n",
    "        </li>\n",
    "    </ul>\n",
    "</div>"
   ]
  },
  {
   "cell_type": "code",
   "execution_count": 1,
   "id": "2e3a88c6-a1ed-44a8-afda-bdfbad36f8ec",
   "metadata": {},
   "outputs": [],
   "source": [
    "# Agora, somos capazes de interagirmos com nossa conta por comandos no terminal!\n",
    "#! aws iam list-users"
   ]
  },
  {
   "cell_type": "code",
   "execution_count": 4,
   "id": "2b514652-f089-49df-bde1-33134dabd3c0",
   "metadata": {},
   "outputs": [
    {
     "name": "stdout",
     "output_type": "stream",
     "text": [
      "\n",
      "An error occurred (AccessDenied) when calling the ListUsers operation: User: arn:aws:iam::672506880418:user/IAMfelipesveiga is not authorized to perform: iam:ListUsers on resource: arn:aws:iam::672506880418:user/ because no identity-based policy allows the iam:ListUsers action\n"
     ]
    }
   ],
   "source": [
    "# Mas lembre-se de que você deve ter a permissão para executar o comando. Observe o output do mesmo comando quando removemos o usuário\n",
    "# do grupo de administradores.\n",
    "! aws iam list-users"
   ]
  },
  {
   "cell_type": "markdown",
   "id": "b08e32ed-63d0-495a-b82c-e3c5a0b32fb7",
   "metadata": {},
   "source": [
    "<h4 style='font-size:30px;font-style:italic;text-decoration:underline'> Observação</h4>\n",
    "<div> \n",
    "    <ul style='font-size:20px'> \n",
    "        <li> \n",
    "            Note que nós criamos a chave de acesso para a nossa conta IAM. Para gerá-las ao seu root user, vá em \"Security Credentials\" ao clicar no nome do usuário.\n",
    "        </li>\n",
    "    </ul>\n",
    "</div>"
   ]
  },
  {
   "cell_type": "markdown",
   "id": "93d105b4-0e20-48cf-96f9-303311cf7436",
   "metadata": {
    "tags": []
   },
   "source": [
    "<h2 style='font-size:30px'> AWS CloudShell</h2>\n",
    "<div> \n",
    "    <ul style='font-size:20px'> \n",
    "        <li> \n",
    "            Minha conta está com problemas para abrir o CloudShell, mas, basicamente, você consegue abrir diretórios e fazer uploads e downloads de arquivos a partir desse terminal.\n",
    "        </li>\n",
    "    </ul>\n",
    "</div>"
   ]
  },
  {
   "cell_type": "markdown",
   "id": "82034466-fe37-44e6-ad3f-6ca703fc51a6",
   "metadata": {
    "tags": []
   },
   "source": [
    "<h2 style='font-size:30px'> IAM Roles for AWS Services</h2>\n",
    "<div> \n",
    "    <ul style='font-size:20px'> \n",
    "        <li> \n",
    "            Os serviços da AWS possuem a capacidade de desempenharem tarefas em nosso nome, quando necessário.\n",
    "        </li>\n",
    "        <li> \n",
    "            No entanto, para que esses recursos possam realizá-las, é necessário conferirmos a eles as chamadas IAM Roles. Elas são equivalentes a uma policy, mas voltadas a serviços.\n",
    "        </li>\n",
    "    </ul>\n",
    "</div>"
   ]
  },
  {
   "cell_type": "markdown",
   "id": "498eae65-6bb8-4c15-9d2e-b638eb5c9691",
   "metadata": {
    "tags": []
   },
   "source": [
    "<h2 style='font-size:30px'> IAM Roles Hands On</h2>\n",
    "<div> \n",
    "    <ul style='font-size:20px'> \n",
    "        <li> \n",
    "            Acesse \"Roles\" no canto esquerdo do menu IAM e clique em \"Create Role\".\n",
    "        </li>\n",
    "        <li> \n",
    "            A tela permite que criemos Roles para uma série de entidades. Para a CLF-CO1, é de interesse apenas Roles a serviços AWS.\n",
    "            <center style='margin-top:20px'>\n",
    "                <img src='img/04_roles.png'>\n",
    "            </center>\n",
    "        </li>\n",
    "    </ul>\n",
    "</div>"
   ]
  },
  {
   "cell_type": "markdown",
   "id": "376a99d1-581f-4e2e-b3c2-49c069013891",
   "metadata": {
    "tags": []
   },
   "source": [
    "<h2 style='font-size:30px'> IAM Security Tools</h2>\n",
    "<div> \n",
    "    <ul style='font-size:20px'> \n",
    "        <li> \n",
    "            A AWS providencia dois relatórios a respeito da sua conta:\n",
    "            <ul>\n",
    "                <li> \n",
    "                    <i> Credential Report</i>: Generalista. Arquivo .csv que menciona cada usuário da conta e a situação de suas credenciais.\n",
    "                </li>\n",
    "                <li> \n",
    "                    <i> Access Advisor</i>: Enfoque no usuário. Lista cada serviço que pode ser acessado pelo indivíduo junto com a policy que habilita essa ação e a última vez que esse foi usado. É interessante analisar esse relatório a fim de ver quais recursos são de fato consumidos e aplicar o Least-Priviledge Principle.\n",
    "                </li>\n",
    "            </ul>\n",
    "        </li>\n",
    "    </ul>\n",
    "</div>"
   ]
  },
  {
   "cell_type": "markdown",
   "id": "75e2f515-d217-4db3-9e2d-36e29d13222b",
   "metadata": {},
   "source": [
    "<h3 style='font-size:30px;font-style:italic'> Credential Report</h3>\n",
    "<div> \n",
    "    <ul style='font-size:20px'> \n",
    "        <li> \n",
    "            Em IAM, acesse \"Credential Report\" no canto esquerdo da tela. O menu apresentará um botão para baixarmos o .csv.\n",
    "        </li>\n",
    "    </ul>\n",
    "</div>\n",
    "<center> \n",
    "    <img src='img/04_credential_report.png'>\n",
    "</center>"
   ]
  },
  {
   "cell_type": "markdown",
   "id": "32dc0ece-2dac-4113-8219-60e525be8a08",
   "metadata": {},
   "source": [
    "<h3 style='font-size:30px;font-style:italic;margin-top:20px'> Access Advisor</h3>\n",
    "<div> \n",
    "    <ul style='font-size:20px'> \n",
    "        <li> \n",
    "            Quando, em \"Users\", você acessar as informações de um usuário, entre na tab Access Advisor. \n",
    "        </li>\n",
    "        <li>\n",
    "            Nela, você encontrará a tabela com as informações de serviço, policy e última vez que o recurso foi acessado.\n",
    "        </li>\n",
    "    </ul>\n",
    "</div>\n",
    "<center> \n",
    "    <img src='img/04_advisor.png'>\n",
    "</center>"
   ]
  },
  {
   "cell_type": "markdown",
   "id": "1bebd3fc-61cf-4ca4-8283-9f845bbbcbbf",
   "metadata": {
    "tags": []
   },
   "source": [
    "<h2 style='font-size:30px'> Shared Responsibility Model for IAM</h2>\n",
    "<div> \n",
    "    <ul style='font-size:20px'> \n",
    "        <li> \n",
    "            A AWS detém uma política que alinha quais seriam as responsabilidades dela e dos seus clientes.\n",
    "        </li>\n",
    "    </ul>\n",
    "</div>"
   ]
  },
  {
   "cell_type": "markdown",
   "id": "ea04d700-fd27-414e-a20d-9c0d1cfceb39",
   "metadata": {
    "tags": []
   },
   "source": [
    "<h3 style='font-size:30px;font-style:italic;margin-top:20px'> Obrigações da AWS</h3>\n",
    "<div> \n",
    "    <ul style='font-size:20px'> \n",
    "        <li> \n",
    "            Gerir a infraestrutura de suas zonas de disponibilidade e regiões.\n",
    "        </li>\n",
    "        <li> \n",
    "            Configuração da rede e análise de vulnerabilidades.\n",
    "        </li>\n",
    "        <li> \n",
    "            Análise de Compliance.\n",
    "        </li>\n",
    "    </ul>\n",
    "</div>"
   ]
  },
  {
   "cell_type": "markdown",
   "id": "b15ac740-997d-403a-b3b0-16b1d66897dd",
   "metadata": {
    "tags": []
   },
   "source": [
    "<h3 style='font-size:30px;font-style:italic;margin-top:20px'> Obrigações do Cliente</h3>\n",
    "<div> \n",
    "    <ul style='font-size:20px'> \n",
    "        <li> \n",
    "            Gerenciar usuários, grupos, roles e policies e aplicar as permissões apropriadas.\n",
    "        </li>\n",
    "        <li> \n",
    "            Ativar MFA em todos os usuários.\n",
    "        </li>\n",
    "        <li> \n",
    "            Rotacionar as chaves de acesso frequentemente.\n",
    "        </li>\n",
    "    </ul>\n",
    "</div>"
   ]
  },
  {
   "cell_type": "code",
   "execution_count": 2,
   "id": "e4c6c6da-4644-46d0-8705-d3730fba0a6b",
   "metadata": {},
   "outputs": [
    {
     "name": "stdout",
     "output_type": "stream",
     "text": [
      "error: pathspec 'Aula 16' did not match any file(s) known to git\n",
      "Everything up-to-date\n"
     ]
    }
   ],
   "source": [
    "! git add .\n",
    "! git commit -am 'Aula 16' \n",
    "! git push"
   ]
  },
  {
   "cell_type": "markdown",
   "id": "fc4abf6b-2156-4912-bce7-47680d5fcb0a",
   "metadata": {},
   "source": [
    "<p style='color:red'> Vi Aula 9 a 15; Aula 16</p>"
   ]
  }
 ],
 "metadata": {
  "kernelspec": {
   "display_name": "Python 3 (ipykernel)",
   "language": "python",
   "name": "python3"
  },
  "language_info": {
   "codemirror_mode": {
    "name": "ipython",
    "version": 3
   },
   "file_extension": ".py",
   "mimetype": "text/x-python",
   "name": "python",
   "nbconvert_exporter": "python",
   "pygments_lexer": "ipython3",
   "version": "3.10.12"
  }
 },
 "nbformat": 4,
 "nbformat_minor": 5
}
