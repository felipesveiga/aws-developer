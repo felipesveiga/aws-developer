{
 "cells": [
  {
   "cell_type": "markdown",
   "id": "bf0167d2-ec8f-45c8-99e9-ec23f6371101",
   "metadata": {},
   "source": [
    "<h1 style='font-size:40px'> Advanced S3</h1>"
   ]
  },
  {
   "cell_type": "markdown",
   "id": "6fc47e6a-73f7-423c-9bce-08b62741858a",
   "metadata": {},
   "source": [
    "<h2 style='font-size:30px'> S3 Lifecycle Rules (with S3 Analytics)</h2>\n",
    "<div> \n",
    "    <ul style='font-size:20px'> \n",
    "        <li> \n",
    "            Os usuários podem definir políticas para alterar a classe de armazenamento de objetos no S3.\n",
    "        </li>\n",
    "        <li>\n",
    "            Isso pode ajudar sua empresa na <i> redução de custos</i> com a AWS para dados de menor relevância.\n",
    "        </li>\n",
    "        <li>\n",
    "            O S3 Analytics é um produto que visa sugerir mudanças nas classes de armazenamento dos seus arquivos.\n",
    "        </li>\n",
    "    </ul>\n",
    "</div>"
   ]
  },
  {
   "cell_type": "markdown",
   "id": "e4de614f-ecad-4976-b0f0-cf3ffbe62ea6",
   "metadata": {},
   "source": [
    "<figure>\n",
    "    <center style='font-size:20px;margin-top:20px'> \n",
    "            <img src='img/13_lifecycle_rules.png'>\n",
    "        <figcaption style='font-size:15px'>\n",
    "        </figcaption>\n",
    "    </center>\n",
    "</figure>"
   ]
  },
  {
   "cell_type": "markdown",
   "id": "e4c8471e-3e9a-4bfc-a489-6ed21372c503",
   "metadata": {},
   "source": [
    "<h2 style='font-size:30px'> S3 Event Notifications</h2>\n",
    "<div> \n",
    "    <ul style='font-size:20px'> \n",
    "        <li> \n",
    "            O S3 é capaz de criar notificações de eventos que aconteçam em um de seus buckets.\n",
    "        </li>\n",
    "        <li>\n",
    "            Elas, por sua vez, podem ser usadas como inputs em serviços como Lambda e SQS. Para que isso aconteça, lembre-se de associar ao S3 a policy necessária para o envio.\n",
    "        </li>\n",
    "        <li>\n",
    "            Essa funcionalidade recebeu recentemente uma integração com o EventBridge. Você consegue enviar seus eventos para ele, a partir do qual, os encaminhará para os serviços que você desejar.\n",
    "        </li>\n",
    "    </ul>\n",
    "</div>"
   ]
  },
  {
   "cell_type": "markdown",
   "id": "3f2b3cd0-068d-4cfb-8ebd-828d57eac181",
   "metadata": {},
   "source": [
    "<figure>\n",
    "    <center style='font-size:20px;margin-top:20px'> \n",
    "            <img src='img/13_s3_event.png'>\n",
    "        <figcaption style='font-size:15px'>\n",
    "            Esquematização de envio de eventos do S3.\n",
    "        </figcaption>\n",
    "    </center>\n",
    "</figure>"
   ]
  },
  {
   "cell_type": "markdown",
   "id": "d3757350-28d1-49a9-8ed7-52ad2e98c2d1",
   "metadata": {},
   "source": [
    "<h2 style='font-size:30px'> S3 Performance</h2>\n",
    "<div> \n",
    "    <ul style='font-size:20px'> \n",
    "        <li> \n",
    "            Aula em que aprendemos técnicas de otimização do uso do S3.\n",
    "        </li>\n",
    "    </ul>\n",
    "</div>"
   ]
  },
  {
   "cell_type": "markdown",
   "id": "e756a5ca-4dc4-4f57-a8fb-0877f1b25858",
   "metadata": {
    "tags": []
   },
   "source": [
    "<h4 style='font-size:30px;font-style:italic;text-decoration:underline'> Multi-Part Upload</h4>\n",
    "<div> \n",
    "    <ul style='font-size:20px'>\n",
    "        <li>\n",
    "            Consiste em dividir um arquivo grande em partes, encaminhando-as seeparadamente ao bucket de destino.\n",
    "        </li>\n",
    "        <li>\n",
    "            Recomendado para arquivos maiores do que 100MB. Obrigatório para arquivos com mais de 5GB.\n",
    "        </li>\n",
    "     </ul>\n",
    "</div>"
   ]
  },
  {
   "cell_type": "markdown",
   "id": "a1fa44aa-49ab-4501-8ba1-5557ad9d4f6d",
   "metadata": {
    "tags": []
   },
   "source": [
    "<h4 style='font-size:30px;font-style:italic;text-decoration:underline'> S3 Transfer Acceleration</h4>\n",
    "<div> \n",
    "    <ul style='font-size:20px'>\n",
    "        <li>\n",
    "            Envolve encaminhar o arquivo a uma Edge Location próxima, a partir da qual ele será enviado ao bucket de destino pela rede privada da AWS.\n",
    "        </li>\n",
    "     </ul>\n",
    "</div>"
   ]
  },
  {
   "cell_type": "markdown",
   "id": "8a275016-3bdc-4244-bed7-8de303ab25b4",
   "metadata": {
    "tags": []
   },
   "source": [
    "<h4 style='font-size:30px;font-style:italic;text-decoration:underline'> S3 Byte-Range Fetches</h4>\n",
    "<div> \n",
    "    <ul style='font-size:20px'>\n",
    "        <li>\n",
    "           Consiste em selecionarmos porções de bytes dos arquivos.\n",
    "        </li>\n",
    "        <li>\n",
    "            Podemos usar isso para baixar um arquivo grande em paralelo: baixando intervalos de bytes em diferentes processos. Outra abordagem que conseguimos fazer seria ignorar os primeiros/últimos $x$ bytes do arquivo.\n",
    "        </li>\n",
    "     </ul>\n",
    "</div>"
   ]
  },
  {
   "cell_type": "markdown",
   "id": "8a1b1914-3db5-4ebf-89cd-1a0108e92c98",
   "metadata": {},
   "source": [
    "<figure>\n",
    "    <center style='font-size:20px;margin-top:20px'> \n",
    "            <img src='img/13_byte_range.png'>\n",
    "        <figcaption style='font-size:15px'>\n",
    "            Ilustração das estratégias de byte-range.\n",
    "        </figcaption>\n",
    "    </center>\n",
    "</figure>"
   ]
  },
  {
   "cell_type": "code",
   "execution_count": 1,
   "id": "d5a05eda-a721-4619-b22f-adcc7d6dcf31",
   "metadata": {
    "scrolled": true
   },
   "outputs": [
    {
     "name": "stdout",
     "output_type": "stream",
     "text": [
      "[master 49afaba] Aula 138\n",
      " 5 files changed, 248 insertions(+), 22 deletions(-)\n",
      " create mode 100644 .ipynb_checkpoints/13_s3_advanced-checkpoint.ipynb\n",
      " create mode 100644 13_s3_advanced.ipynb\n",
      " create mode 100644 img/13_lifecycle_rules.png\n",
      "Enumerating objects: 11, done.\n",
      "Counting objects: 100% (11/11), done.\n",
      "Delta compression using up to 24 threads\n",
      "Compressing objects: 100% (7/7), done.\n",
      "Writing objects: 100% (7/7), 78.45 KiB | 39.22 MiB/s, done.\n",
      "Total 7 (delta 5), reused 0 (delta 0), pack-reused 0\n",
      "remote: Resolving deltas: 100% (5/5), completed with 4 local objects.\u001b[K\n",
      "To https://github.com/felipesveiga/aws-developer.git\n",
      "   2d2515c..49afaba  master -> master\n"
     ]
    }
   ],
   "source": [
    "! git add .\n",
    "! git commit -am 'Aula 141'\n",
    "! git push"
   ]
  },
  {
   "cell_type": "markdown",
   "id": "dfe81995-8dd3-4f7d-bbfd-8da4ab41452b",
   "metadata": {
    "editable": true,
    "slideshow": {
     "slide_type": ""
    },
    "tags": []
   },
   "source": [
    "<p style='color:red'> Vi Aula 138 a 140; Aula 141</p>"
   ]
  }
 ],
 "metadata": {
  "kernelspec": {
   "display_name": "Python 3 (ipykernel)",
   "language": "python",
   "name": "python3"
  },
  "language_info": {
   "codemirror_mode": {
    "name": "ipython",
    "version": 3
   },
   "file_extension": ".py",
   "mimetype": "text/x-python",
   "name": "python",
   "nbconvert_exporter": "python",
   "pygments_lexer": "ipython3",
   "version": "3.10.12"
  }
 },
 "nbformat": 4,
 "nbformat_minor": 5
}
