{
 "cells": [
  {
   "cell_type": "markdown",
   "id": "885d7218-c895-4340-8d3f-b93c39dde39c",
   "metadata": {},
   "source": [
    "<h1 style='font-size:40px'> CloudFront</h1>"
   ]
  },
  {
   "cell_type": "markdown",
   "id": "49b8cbbd-947a-44a3-866d-ea3efe0e423a",
   "metadata": {
    "jp-MarkdownHeadingCollapsed": true
   },
   "source": [
    "<h2 style='font-size:30px'> CloudFront - Overview\n",
    "</h2>\n",
    "<div> \n",
    "    <ul style='font-size:20px'> \n",
    "        <li> \n",
    "            O CloudFront é um serviço que busca armazenar em cache por diversas partes do mundo dados frequentemente requisitados.\n",
    "        </li>\n",
    "        <li>\n",
    "            Seu propóstio é garantir que sua aplicação retorne seu conteúdo o mais rápido possível independentemente de onde seu cliente estiver.\n",
    "        </li>\n",
    "        <li>\n",
    "            Os dados ficam armazenados em Edge Locations da AWS.\n",
    "        </li>\n",
    "    </ul>\n",
    "</div>"
   ]
  },
  {
   "cell_type": "markdown",
   "id": "272f12ed-c060-4edf-bbc4-2827ffe82b9e",
   "metadata": {},
   "source": [
    "<figure>\n",
    "    <center style='font-size:20px;margin-top:20px'> \n",
    "            <img src='img/15_edge_locations.png'>\n",
    "        <figcaption style='font-size:15px'>\n",
    "            Mapa das Edge Locations pelo globo.\n",
    "        </figcaption>\n",
    "    </center>\n",
    "</figure>"
   ]
  },
  {
   "cell_type": "code",
   "execution_count": 9,
   "id": "67ff5f2b-4db6-4ad6-bc72-73d2ec91a363",
   "metadata": {
    "scrolled": true
   },
   "outputs": [
    {
     "name": "stdout",
     "output_type": "stream",
     "text": [
      "[master 73ef991] Fazer anotações da Aula 154\n",
      " 2 files changed, 14 insertions(+), 14 deletions(-)\n",
      "Enumerating objects: 7, done.\n",
      "Counting objects: 100% (7/7), done.\n",
      "Delta compression using up to 24 threads\n",
      "Compressing objects: 100% (4/4), done.\n",
      "Writing objects: 100% (4/4), 530 bytes | 530.00 KiB/s, done.\n",
      "Total 4 (delta 3), reused 0 (delta 0), pack-reused 0\n",
      "remote: Resolving deltas: 100% (3/3), completed with 3 local objects.\u001b[K\n",
      "To https://github.com/felipesveiga/aws-developer.git\n",
      "   4092a30..73ef991  master -> master\n"
     ]
    }
   ],
   "source": [
    "! git add .\n",
    "! git commit -am 'Aula 156 (1:50)'\n",
    "! git push"
   ]
  },
  {
   "cell_type": "markdown",
   "id": "1b87ee1a-6698-47f7-b708-2da98d1a83c4",
   "metadata": {
    "editable": true,
    "slideshow": {
     "slide_type": ""
    },
    "tags": []
   },
   "source": [
    "<p style='color:red'> Terminei a seção 14; Iniciei seção 15; Aula 156 (1:50)"
   ]
  }
 ],
 "metadata": {
  "kernelspec": {
   "display_name": "Python 3 (ipykernel)",
   "language": "python",
   "name": "python3"
  },
  "language_info": {
   "codemirror_mode": {
    "name": "ipython",
    "version": 3
   },
   "file_extension": ".py",
   "mimetype": "text/x-python",
   "name": "python",
   "nbconvert_exporter": "python",
   "pygments_lexer": "ipython3",
   "version": "3.10.12"
  }
 },
 "nbformat": 4,
 "nbformat_minor": 5
}
