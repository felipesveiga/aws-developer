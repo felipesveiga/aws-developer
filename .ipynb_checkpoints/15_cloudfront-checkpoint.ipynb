{
 "cells": [
  {
   "cell_type": "markdown",
   "id": "885d7218-c895-4340-8d3f-b93c39dde39c",
   "metadata": {},
   "source": [
    "<h1 style='font-size:40px'> CloudFront</h1>"
   ]
  },
  {
   "cell_type": "markdown",
   "id": "49b8cbbd-947a-44a3-866d-ea3efe0e423a",
   "metadata": {
    "jp-MarkdownHeadingCollapsed": true
   },
   "source": [
    "<h2 style='font-size:30px'> CloudFront - Overview\n",
    "</h2>\n",
    "<div> \n",
    "    <ul style='font-size:20px'> \n",
    "        <li> \n",
    "            O CloudFront é um serviço que busca armazenar em cache por diversas partes do mundo dados frequentemente requisitados.\n",
    "        </li>\n",
    "        <li>\n",
    "            Seu propóstio é garantir que sua aplicação retorne seu conteúdo o mais rápido possível independentemente de onde seu cliente estiver.\n",
    "        </li>\n",
    "        <li>\n",
    "            Os dados ficam armazenados em Edge Locations da AWS.\n",
    "        </li>\n",
    "    </ul>\n",
    "</div>"
   ]
  },
  {
   "cell_type": "markdown",
   "id": "272f12ed-c060-4edf-bbc4-2827ffe82b9e",
   "metadata": {},
   "source": [
    "<figure>\n",
    "    <center style='font-size:20px;margin-top:20px'> \n",
    "            <img src='img/15_edge_locations.png'>\n",
    "        <figcaption style='font-size:15px'>\n",
    "            Mapa das Edge Locations pelo globo.\n",
    "        </figcaption>\n",
    "    </center>\n",
    "</figure>"
   ]
  },
  {
   "cell_type": "markdown",
   "id": "99bce630-cffd-48c0-9b62-c702cafe6ebb",
   "metadata": {},
   "source": [
    "<h3 style='font-size:30px;font-style:italic'> Origins</h3>\n",
    "<div> \n",
    "    <ul style='font-size:20px'> \n",
    "        <li>\n",
    "            Definimos como origem o lugar de onde o recurso a ser cacheado virá. No caso do CloudFront, essa pode ser um bucket S3, uma VPC ou qualquer backend HTTP.\n",
    "        </li>\n",
    "    </ul>\n",
    "</div>"
   ]
  },
  {
   "cell_type": "markdown",
   "id": "b14260f1-75ff-42f8-8720-ca59ded29e6b",
   "metadata": {},
   "source": [
    "<figure>\n",
    "    <center style='font-size:20px;margin-top:20px'> \n",
    "            <img src='img/15_cloudfront_diagram.png'>\n",
    "        <figcaption style='font-size:15px'>\n",
    "            Funcionamento do CloudFront.\n",
    "        </figcaption>\n",
    "    </center>\n",
    "</figure>"
   ]
  },
  {
   "cell_type": "markdown",
   "id": "8d1875e3-e99e-4845-84f5-e1625e206d71",
   "metadata": {},
   "source": [
    "<h3 style='font-size:30px;font-style:italic'> CloudFront vs S3 Cross Region Replication</h3>\n",
    "<div> \n",
    "    <ul style='font-size:20px'> \n",
    "        <li>\n",
    "            O CloudFront é um serviço de disponibilização global de seus conteúdos. Nele, os arquivos são armazenados em cache, respeitando um TTL.\n",
    "        </li>\n",
    "        <li>\n",
    "            Já o S3 Cross Region Replication é um serviço de escopo regional, em que os arquivos são atulizados near real-time.\n",
    "        </li>\n",
    "    </ul>\n",
    "</div>"
   ]
  },
  {
   "cell_type": "markdown",
   "id": "3c381275-2a9f-4410-9935-bc9121e866f2",
   "metadata": {
    "jp-MarkdownHeadingCollapsed": true
   },
   "source": [
    "<h2 style='font-size:30px'> \n",
    "    CloudFront - Caching & Caching Policies\n",
    "</h2>\n",
    "<div> \n",
    "    <ul style='font-size:20px'> \n",
    "        <li> \n",
    "            Todo o objeto armazenado no cache do CloudFront receberá um identificador.\n",
    "        </li>\n",
    "    </ul>\n",
    "</div>"
   ]
  },
  {
   "cell_type": "code",
   "execution_count": 2,
   "id": "67ff5f2b-4db6-4ad6-bc72-73d2ec91a363",
   "metadata": {
    "scrolled": true
   },
   "outputs": [
    {
     "name": "stdout",
     "output_type": "stream",
     "text": [
      "[master 76307e1] Aula 158\n",
      " 3 files changed, 130 insertions(+), 24 deletions(-)\n",
      " create mode 100644 img/15_cloudfront_diagram.png\n",
      "Enumerating objects: 10, done.\n",
      "Counting objects: 100% (10/10), done.\n",
      "Delta compression using up to 24 threads\n",
      "Compressing objects: 100% (6/6), done.\n",
      "Writing objects: 100% (6/6), 76.89 KiB | 38.44 MiB/s, done.\n",
      "Total 6 (delta 4), reused 0 (delta 0), pack-reused 0\n",
      "remote: Resolving deltas: 100% (4/4), completed with 4 local objects.\u001b[K\n",
      "To https://github.com/felipesveiga/aws-developer.git\n",
      "   2976005..76307e1  master -> master\n"
     ]
    }
   ],
   "source": [
    "! git add .\n",
    "! git commit -am 'Aula 159'\n",
    "! git push"
   ]
  },
  {
   "cell_type": "markdown",
   "id": "1b87ee1a-6698-47f7-b708-2da98d1a83c4",
   "metadata": {
    "editable": true,
    "slideshow": {
     "slide_type": ""
    },
    "tags": []
   },
   "source": [
    "<p style='color:red'> Vi Aula 158; Aula 159"
   ]
  }
 ],
 "metadata": {
  "kernelspec": {
   "display_name": "Python 3 (ipykernel)",
   "language": "python",
   "name": "python3"
  },
  "language_info": {
   "codemirror_mode": {
    "name": "ipython",
    "version": 3
   },
   "file_extension": ".py",
   "mimetype": "text/x-python",
   "name": "python",
   "nbconvert_exporter": "python",
   "pygments_lexer": "ipython3",
   "version": "3.10.12"
  }
 },
 "nbformat": 4,
 "nbformat_minor": 5
}
