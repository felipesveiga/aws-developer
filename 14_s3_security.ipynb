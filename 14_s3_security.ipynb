{
 "cells": [
  {
   "cell_type": "markdown",
   "id": "25f632ce-3657-47ed-b2e8-4ce7aaa07ea2",
   "metadata": {},
   "source": [
    "<h1 style='font-size:40px'> S3 Security</h1>"
   ]
  },
  {
   "cell_type": "markdown",
   "id": "1702e70c-259e-4fd6-9919-86e8d18d7437",
   "metadata": {
    "jp-MarkdownHeadingCollapsed": true
   },
   "source": [
    "<h2 style='font-size:30px'> S3 Encryption\n",
    "</h2>\n",
    "<div> \n",
    "    <ul style='font-size:20px'> \n",
    "        <li> \n",
    "            Por questões de segurança, nós podemos encriptar os dados armazenados no S3. Existem diversas técnicas que podemos usar para esse fim.\n",
    "        </li>\n",
    "        <li>\n",
    "            É possível tanto configurar a encriptação para ocorrer do lado do servidor, quanto do cliente.\n",
    "        </li>\n",
    "    </ul>\n",
    "</div>"
   ]
  },
  {
   "cell_type": "markdown",
   "id": "e8a2abad-8ace-4ec9-adf9-46e5a97a8521",
   "metadata": {},
   "source": [
    "<h3 style='font-size:30px;font-style:italic'> Chaves Criptográficas</h3>\n",
    "<div> \n",
    "    <ul style='font-size:20px'> \n",
    "        <li>\n",
    "            Chaves criptográficas são strings usadas por algoritmos de criptografia para a alteração de dados.\n",
    "        </li>\n",
    "        <li>\n",
    "            De forma bem superficial, essa string servirá como um \"de-para\" para a conversão dos dados.\n",
    "        </li>\n",
    "    </ul>\n",
    "</div>"
   ]
  },
  {
   "cell_type": "markdown",
   "id": "031ab59d-495c-4b87-abf7-af3c980f3749",
   "metadata": {},
   "source": [
    "<h3 style='font-size:30px;font-style:italic'> Key Management Service (KMS)</h3>\n",
    "<div> \n",
    "    <ul style='font-size:20px'> \n",
    "        <li>\n",
    "            O KMS é o serviço da AWS especializado na criação, gerenciamento e armazenamento de chaves de criptografia.\n",
    "        </li>\n",
    "        <li>\n",
    "            Ele segue um conjunto de boas práticas do mercado que garantem a criação de chaves altamente seguras, assim como a sua proteção a acessos maléficos.\n",
    "        </li>\n",
    "    </ul>\n",
    "</div>"
   ]
  },
  {
   "cell_type": "markdown",
   "id": "9104efff-3ff7-4ef7-aed8-125572c565db",
   "metadata": {},
   "source": [
    "<h3 style='font-size:30px;font-style:italic'> Server-Side Encryption (SSE)</h3>\n",
    "<div> \n",
    "    <ul style='font-size:20px'> \n",
    "        <li>\n",
    "            Encriptações que ocorrem no servidor de armazenamento.\n",
    "        </li>\n",
    "    </ul>\n",
    "</div>"
   ]
  },
  {
   "cell_type": "markdown",
   "id": "74c6f8d2-5941-4f2d-a139-b17f814794ba",
   "metadata": {
    "tags": []
   },
   "source": [
    "<h4 style='font-size:30px;font-style:italic;text-decoration:underline'> SSE-S3</h4>\n",
    "<div> \n",
    "    <ul style='font-size:20px'>\n",
    "        <li>\n",
    "            Com o SSE-S3, os dados são encriptados com uma chave gerenciada pela AWS. Cada objeto é codificado com uma chave única.\n",
    "        </li>\n",
    "        <li>\n",
    "            Um fato interessante é que a própria chave de encriptação é encriptada por uma outra que é regularmente atualizada.\n",
    "        </li>\n",
    "        <li>\n",
    "            As chaves gerenciadas pela AWS seguem o padrão AES-256.\n",
    "        </li>\n",
    "     </ul>\n",
    "</div>"
   ]
  },
  {
   "cell_type": "markdown",
   "id": "bd898d3f-8287-41e7-8d62-5b0920a773d4",
   "metadata": {
    "tags": []
   },
   "source": [
    "<h4 style='font-size:30px;font-style:italic;text-decoration:underline'> SSE-KMS</h4>\n",
    "<div> \n",
    "    <ul style='font-size:20px'>\n",
    "        <li>\n",
    "            Encriptação usando chaves do AWS KMS. Fornece maior controle do usuário sobre as encriptações dos objetos.\n",
    "        </li>\n",
    "        <li>\n",
    "            Como o KMS possui quotas para utilização das chaves por segundo, pode ser que aplicações de uso intensivo ocasionem erros de throttling.\n",
    "        </li>\n",
    "     </ul>\n",
    "</div>"
   ]
  },
  {
   "cell_type": "markdown",
   "id": "61cff2e7-b46a-4617-9aa9-7e80a883420a",
   "metadata": {
    "tags": []
   },
   "source": [
    "<h4 style='font-size:30px;font-style:italic;text-decoration:underline'> SSE-C</h4>\n",
    "<div> \n",
    "    <ul style='font-size:20px'>\n",
    "        <li>\n",
    "            Encriptação utilizando uma chave não armazenada na AWS.\n",
    "        </li>\n",
    "        <li>\n",
    "            Nessa modalidade, o usuário deverá fornecer a chave tanto no momento de POST, quanto GET. Por questões de segurança, é obrigatório o uso de HTTPS nessas interações.\n",
    "        </li>\n",
    "     </ul>\n",
    "</div>"
   ]
  },
  {
   "cell_type": "markdown",
   "id": "16d8d77b-8e39-432d-8743-3cfe9567d47d",
   "metadata": {},
   "source": [
    "<h3 style='font-size:30px;font-style:italic'> Client-Side Encryption</h3>\n",
    "<div> \n",
    "    <ul style='font-size:20px'> \n",
    "        <li>\n",
    "            Encriptações que são feitas pelo usuário, antes de encaminhar o objeto ao servidor.\n",
    "        </li>\n",
    "        <li>\n",
    "            Nessa situação, ele terá total responsabilidade tanto pela segurança das chaves, quanto pela codificação dos dados.\n",
    "        </li>\n",
    "    </ul>\n",
    "</div>"
   ]
  },
  {
   "cell_type": "markdown",
   "id": "14d00111-1311-49c5-9807-fe50ea86dd56",
   "metadata": {},
   "source": [
    "<h3 style='font-size:30px;font-style:italic'> Encryption in Transit</h3>\n",
    "<div> \n",
    "    <ul style='font-size:20px'> \n",
    "        <li>\n",
    "            Para garantir a transferência segura de dados, o S3 possui endpoints HTTPS. Com isso, você consegue garantir que seus dados estarão encriptados durante seu envio.\n",
    "        </li>\n",
    "    </ul>\n",
    "</div>"
   ]
  },
  {
   "cell_type": "markdown",
   "id": "01b5a4af-2b00-4c70-8163-eecdd31fd38d",
   "metadata": {},
   "source": [
    "<h2 style='font-size:30px'> S3 CORS\n",
    "</h2>\n",
    "<div> \n",
    "    <ul style='font-size:20px'> \n",
    "        <li> \n",
    "            Ao desenvolvermos sites, podemos querer preencher suas páginas com recursos (imagens) provenientes de outras URL's. Esse procedimento é conhecido como Cross-Origin Resource Sharing (CORS).\n",
    "        </li>\n",
    "        <li>\n",
    "            No contexto do S3, você consegue habilitar os seus buckets para funcionarem como fonte de arquivos que podem ser usados por sites externos.\n",
    "        </li>\n",
    "    </ul>\n",
    "</div>"
   ]
  },
  {
   "cell_type": "markdown",
   "id": "8ab306b0-6cc6-4853-acf5-17f84904040e",
   "metadata": {},
   "source": [
    "<h2 style='font-size:30px'> S3 MFA Delete\n",
    "</h2>\n",
    "<div> \n",
    "    <ul style='font-size:20px'> \n",
    "        <li> \n",
    "            Podemos configurar um MFA para ações destrutivas em nossos buckets (deleção, desabilitação de versionamento).\n",
    "        </li>\n",
    "    </ul>\n",
    "</div>"
   ]
  },
  {
   "cell_type": "markdown",
   "id": "f4f7e287-3f03-475b-9f92-d2f207ade018",
   "metadata": {},
   "source": [
    "<h2 style='font-size:30px'> S3 Access Logs\n",
    "</h2>\n",
    "<div> \n",
    "    <ul style='font-size:20px'> \n",
    "        <li> \n",
    "            Você pode configurar logs para serem gerados em qualquer interação realizada no seu bucket S3. Todos os registros serão armazenados num outro bucket.    \n",
    "        </li>\n",
    "    </ul>\n",
    "</div>"
   ]
  },
  {
   "cell_type": "markdown",
   "id": "dba486e0-0e19-40b4-bd12-7ce463b67947",
   "metadata": {},
   "source": [
    "<h2 style='font-size:30px'> S3 Pre-signed URLs\n",
    "</h2>\n",
    "<div> \n",
    "    <ul style='font-size:20px'> \n",
    "        <li> \n",
    "            Pre-signed URL's são URL's que dão acesso temporário a um recurso S3 com as suas credenciais. \n",
    "        </li>\n",
    "        <li>\n",
    "            Elas servem a um edge-case no qual você quer conceder acesso ao recurso para um usuário externo, sem que precisar alterar as permissões dele.\n",
    "        </li>\n",
    "    </ul>\n",
    "</div>"
   ]
  },
  {
   "cell_type": "markdown",
   "id": "61cce63b-0fc3-4bed-85c8-ee494ffdf842",
   "metadata": {},
   "source": [
    "<h2 style='font-size:30px'> S3 Access Points\n",
    "</h2>\n",
    "<div> \n",
    "    <ul style='font-size:20px'> \n",
    "        <li> \n",
    "            Access Points seriam como recortes de buckets no S3. Com eles, conseguimos controlar a quais objetos os usuários terão acesso.\n",
    "        </li>\n",
    "        <li>\n",
    "            Cada Access Point terá o seu próprio endereço de DNS. Também podemos criar policies exclusivas a eles.\n",
    "        </li>\n",
    "    </ul>\n",
    "</div>"
   ]
  },
  {
   "cell_type": "markdown",
   "id": "387def90-c1b4-4910-97f5-e856a068f2fe",
   "metadata": {},
   "source": [
    "<figure>\n",
    "    <center style='font-size:20px;margin-top:20px'> \n",
    "            <img src='img/14_access_points.png'>\n",
    "        <figcaption style='font-size:15px'>\n",
    "            Esquematização de Access Points.\n",
    "        </figcaption>\n",
    "    </center>\n",
    "</figure>"
   ]
  },
  {
   "cell_type": "markdown",
   "id": "4b5b2355-faf2-4851-8880-cbf87b759698",
   "metadata": {},
   "source": [
    "<h2 style='font-size:30px'> S3 Object Lambda \n",
    "</h2>\n",
    "<div> \n",
    "    <ul style='font-size:20px'> \n",
    "        <li> \n",
    "            A AWS permite que retornemos uma versão alterada de um objeto, no momento em que um GET ocorra nele. A transformação ocorreria por meio de uma Lambda que atuaria como um micro-ETL.\n",
    "        </li>\n",
    "        <li>\n",
    "            Esse recurso é interessante, pensando em garantir a ocultação de informações sensíveis, ou o enriquecimeto da base a depender do cliente fazendo a requisição.\n",
    "        </li>\n",
    "        <li>\n",
    "            Para que isso aconteça, teremos que criar um Access Point para o Bucket, e o outro para a Lambda\n",
    "        </li>\n",
    "    </ul>\n",
    "</div>"
   ]
  },
  {
   "cell_type": "markdown",
   "id": "3eecbba0-6f85-4fe1-aada-d5f31b6f262b",
   "metadata": {},
   "source": [
    "<figure>\n",
    "    <center style='font-size:20px;margin-top:20px'> \n",
    "            <img src='img/14_lambda_s3.png'>\n",
    "        <figcaption style='font-size:15px'>\n",
    "            Esquematização do uso de Lambdas em operações GET.\n",
    "        </figcaption>\n",
    "    </center>\n",
    "</figure>"
   ]
  }
 ],
 "metadata": {
  "kernelspec": {
   "display_name": "Python 3 (ipykernel)",
   "language": "python",
   "name": "python3"
  },
  "language_info": {
   "codemirror_mode": {
    "name": "ipython",
    "version": 3
   },
   "file_extension": ".py",
   "mimetype": "text/x-python",
   "name": "python",
   "nbconvert_exporter": "python",
   "pygments_lexer": "ipython3",
   "version": "3.10.12"
  }
 },
 "nbformat": 4,
 "nbformat_minor": 5
}
