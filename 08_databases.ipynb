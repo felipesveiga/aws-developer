{
 "cells": [
  {
   "cell_type": "markdown",
   "id": "6185c73c-d283-4cec-9198-f92b2b5ef38e",
   "metadata": {},
   "source": [
    "<h1 style='font-size:40px'> Databases</h1>"
   ]
  },
  {
   "cell_type": "markdown",
   "id": "8db9e861-b755-444d-a9b7-51037ef32e95",
   "metadata": {},
   "source": [
    "<h2 style='font-size:30px'> Amazon RDS Overview</h2>\n",
    "<div> \n",
    "    <ul style='font-size:20px'> \n",
    "        <li> \n",
    "            O RDS é um serviço gerenciado para construção de bases de dados. Ele oferece todos os principais softwares de DB's do mercado, mais uma solução própria da Amazon, o Aurora. Não conseguimos acessar as suas instâncias diretamente (SSH). \n",
    "        </li>\n",
    "        <li>\n",
    "            O serviço fornece uma série de facilidades, como escalabilidade, dashboards de monitoração e réplicas de leitura.\n",
    "        </li>\n",
    "        <li>\n",
    "            Além disso, a AWS gerencia atualizações de OS por conta própria e possibilita setups multi-AZ's, para DR.\n",
    "        </li>\n",
    "    </ul>\n",
    " </div>"
   ]
  },
  {
   "cell_type": "markdown",
   "id": "e158e470-1546-47b8-9634-9876ff2627dc",
   "metadata": {},
   "source": [
    "<h2 style='font-size:30px'> RDS Read Replicas vs Multi AZ</h2>\n",
    "<div> \n",
    "    <ul style='font-size:20px'> \n",
    "        <li> \n",
    "            É possível que um cliente tenha que fazer múltiplas requisições para a nossa base de dados. Isso pode onerá-la e torná-la lenta.\n",
    "        </li>\n",
    "        <li>\n",
    "            Para evitar isso, conseguimos criar réplicas das tabelas. Elas serão um reflexo dos dados oficiais da DB, podendo ser consultadas pelo cliente.\n",
    "        </li>\n",
    "        <li>\n",
    "            Podemos criar réplicas em diferentes AZ's, sem ter custo de transporte de dados. As cobranças surgem apenas na migração entre regiões.\n",
    "        </li>\n",
    "    </ul>\n",
    " </div>"
   ]
  },
  {
   "cell_type": "markdown",
   "id": "27bcf91e-f0ac-488a-9d24-de35c83af028",
   "metadata": {},
   "source": [
    "<h3 style='font-size:30px;font-style:italic'> RDS Multi AZ</h3>\n",
    "<div> \n",
    "    <ul style='font-size:20px'> \n",
    "        <li> \n",
    "            O RDS possibilita a criação de DB's de backup, em caso de falhas na oficial.\n",
    "        </li>\n",
    "    </ul>\n",
    "</div>"
   ]
  },
  {
   "cell_type": "code",
   "execution_count": 3,
   "id": "0cae67c8-dea0-4204-b192-e9abc97b6151",
   "metadata": {
    "scrolled": true
   },
   "outputs": [
    {
     "name": "stdout",
     "output_type": "stream",
     "text": [
      "[master f2b4cee] O SQLElectron não funcionou na minha máquina; Tentar por DBeaver\n",
      " 2 files changed, 24 insertions(+), 28 deletions(-)\n",
      "Enumerating objects: 7, done.\n",
      "Counting objects: 100% (7/7), done.\n",
      "Delta compression using up to 24 threads\n",
      "Compressing objects: 100% (4/4), done.\n",
      "Writing objects: 100% (4/4), 662 bytes | 662.00 KiB/s, done.\n",
      "Total 4 (delta 3), reused 0 (delta 0), pack-reused 0\n",
      "remote: Resolving deltas: 100% (3/3), completed with 3 local objects.\u001b[K\n",
      "To https://github.com/felipesveiga/aws-developer.git\n",
      "   61e162f..f2b4cee  master -> master\n"
     ]
    }
   ],
   "source": [
    "! git add .\n",
    "! git commit -am 'Aula 80 (6:30)' \n",
    "! git push"
   ]
  },
  {
   "cell_type": "markdown",
   "id": "0fb73fb0-cfa2-4918-a1a8-9ebdf0a694e4",
   "metadata": {},
   "source": [
    "<p style='color:red'> Baixei o DBeaver e criei a base de dados; Aula 80 (6:30); Se conectar na DB via DBeaver</strong> ao final das aulas</p>"
   ]
  }
 ],
 "metadata": {
  "kernelspec": {
   "display_name": "Python 3 (ipykernel)",
   "language": "python",
   "name": "python3"
  },
  "language_info": {
   "codemirror_mode": {
    "name": "ipython",
    "version": 3
   },
   "file_extension": ".py",
   "mimetype": "text/x-python",
   "name": "python",
   "nbconvert_exporter": "python",
   "pygments_lexer": "ipython3",
   "version": "3.10.12"
  }
 },
 "nbformat": 4,
 "nbformat_minor": 5
}
