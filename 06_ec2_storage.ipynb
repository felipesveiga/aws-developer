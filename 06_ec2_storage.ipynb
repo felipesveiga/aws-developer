{
 "cells": [
  {
   "cell_type": "markdown",
   "id": "071d9e61-28ef-4418-8abc-4b19c7cbc575",
   "metadata": {},
   "source": [
    "<h1 style='font-size:40px'>EC2 Instance Storage</h1>"
   ]
  },
  {
   "cell_type": "markdown",
   "id": "f51de84a-a45a-4a4c-a55c-10afb19160f6",
   "metadata": {
    "tags": []
   },
   "source": [
    "<h2 style='font-size:30px'> EBS Overview</h2>\n",
    "<div> \n",
    "    <ul style='font-size:20px'> \n",
    "        <li> \n",
    "            Os Elastic Block Store volumes são drives de rede que armazenam dados das suas instâncias durante seu funcionamento. O cliente é responsável por definir o tamanho do volume e sua IOPS. \n",
    "        </li>\n",
    "        <li> \n",
    "            Eles persistem os dados das VM's mesmo após a sua terminação. \n",
    "        </li>\n",
    "        <li> \n",
    "            Cada EBS volume pode ser vinculado a uma única instância por vez; eles também são restritos a uma única AZ, a não ser que você tire um snapshot antes de movê-lo.\n",
    "        </li>\n",
    "    </ul>\n",
    "</div>"
   ]
  },
  {
   "cell_type": "markdown",
   "id": "18633ee7-a503-4dd9-8cbd-1e1db0714115",
   "metadata": {},
   "source": [
    "<h3 style='font-size:30px;font-style:italic'> EBS Volume - Example</h3>\n",
    "<div> \n",
    "    <ul style='font-size:20px'>\n",
    "        <li> \n",
    "            Uma VM pode ser associada a dois EBS Volumes distintos simultaneamente.\n",
    "        </li>\n",
    "        <li> \n",
    "            Também conseguimos manter um Volume desvinculado de qualquer instância para usos futuros.\n",
    "            <center style='margin-top:20px'>\n",
    "                <img src='img/06_ebs_diagram.png'>\n",
    "            </center>\n",
    "        </li>\n",
    "     </ul>\n",
    "</div>"
   ]
  },
  {
   "cell_type": "markdown",
   "id": "e9b3a5ea-99d7-44d9-995e-03ef211bf974",
   "metadata": {},
   "source": [
    "<h3 style='font-size:30px;font-style:italic'> EBS Volume - Delete on Termination Attribute</h3>\n",
    "<div> \n",
    "    <ul style='font-size:20px'>\n",
    "        <li> \n",
    "            Por padrão, o primeiro EBS Volume da VM (o \"root\") será configurado para ser apagado quando a terminamos. Os demais Volumes que desejarmos criar serão mantidos.\n",
    "        </li>\n",
    "        <li> \n",
    "            No entanto, essas preferências podem ser ajustadas no menu de criação da Instância.\n",
    "            <center style='margin-top:20px'> \n",
    "                <img src='img/06_ebs_delete.png'>\n",
    "            </center>\n",
    "        </li>\n",
    "     </ul>\n",
    "</div>"
   ]
  },
  {
   "cell_type": "markdown",
   "id": "b618e41e-00a6-4ded-9057-4f4fd48e6ffa",
   "metadata": {
    "tags": []
   },
   "source": [
    "<h2 style='font-size:30px'> EBS Hands On</h2>\n",
    "<div> \n",
    "    <ul style='font-size:20px'> \n",
    "        <li> \n",
    "            No canto esquerdo do menu EC2, clique em Volumes e será apresentada uma relação dos EBS Volumes disponíveis. Na tela, conseguimos criar novos drives.\n",
    "        </li>\n",
    "        <li> \n",
    "            Uma vez gerado, associe o volume à VM clicando em Actions. Lembre-se de que ele devem sempre ser associado à mesma AZ de sua instância.\n",
    "            <center style='margin-top:20px'> \n",
    "                <img src='img/06_attach_volume.png'>\n",
    "            </center>\n",
    "        </li>\n",
    "    </ul>\n",
    "</div>"
   ]
  },
  {
   "cell_type": "markdown",
   "id": "602b52ff-7e64-4b64-bbd7-b54285186f32",
   "metadata": {
    "tags": []
   },
   "source": [
    "<h2 style='font-size:30px'> EBS Snapshots Overview</h2>\n",
    "<div> \n",
    "    <ul style='font-size:20px'> \n",
    "        <li> \n",
    "            Snapshots são backups dos EBS Volumes. É graças a eles que podemos transferir os dados de uma AZ para outra.\n",
    "        </li>\n",
    "        <li> \n",
    "            É indicado que nós desvinculemos o drive da instância antes de tirarmos o snapshot. \n",
    "        </li>\n",
    "    </ul>\n",
    "</div>"
   ]
  },
  {
   "cell_type": "markdown",
   "id": "5cd46ff2-ac43-4793-93a1-0cf102fc4f24",
   "metadata": {},
   "source": [
    "<h3 style='font-size:30px;font-style:italic'> EBS Snapshot Archive</h3>\n",
    "<div> \n",
    "    <ul style='font-size:20px'>\n",
    "        <li> \n",
    "            Por padrão, snapshots são armazenados no Amazon S3. No entanto, esse serviço pode gerar custos demais em backups para uso de longo prazo. \n",
    "        </li>\n",
    "        <li> \n",
    "            Nessa situação, o EBS Snapshot Archive aparece como a melhor solução. Esse sistema de armazenamento oferece uma redução de 75% nos gastos; a recuperação do backup leva até 72 horas para ser completo.\n",
    "        </li>\n",
    "     </ul>\n",
    "</div>"
   ]
  },
  {
   "cell_type": "markdown",
   "id": "75b8587d-ea65-4e1a-a896-4f2139493996",
   "metadata": {},
   "source": [
    "<h3 style='font-size:30px;font-style:italic'> Recycle Bin for Snapshots</h3>\n",
    "<div> \n",
    "    <ul style='font-size:20px'>\n",
    "        <li> \n",
    "            Podemos criar uma cesta de reciclagem que guardará snapshots deletados. Isso evitará a perda de dados apagados por engano.\n",
    "        </li>\n",
    "        <li> \n",
    "            O usuário é responsável por escolher o tempo de retenção dos backups apagados.\n",
    "        </li>\n",
    "     </ul>\n",
    "</div>"
   ]
  },
  {
   "cell_type": "markdown",
   "id": "3d031add-d89b-4b32-90fe-b837be410106",
   "metadata": {
    "tags": []
   },
   "source": [
    "<h2 style='font-size:30px'> EBS Snapshots Hands On</h2>\n",
    "<div> \n",
    "    <ul style='font-size:20px'> \n",
    "        <li> \n",
    "            O menu do EC2, na seção de Snapshots, oferece todas as utilidades mencionadas. Por lá, conseguimos criar snapshots, assim como gerar Volumes a partir de backups.\n",
    "        </li>\n",
    "    </ul>\n",
    "</div>"
   ]
  },
  {
   "cell_type": "markdown",
   "id": "a2885048-ebbc-44d4-81fd-284c5d62ef9c",
   "metadata": {},
   "source": [
    "<h3 style='font-size:30px;font-style:italic'> Cópia de Snapshots</h3>\n",
    "<div> \n",
    "    <ul style='font-size:20px'>\n",
    "        <li> \n",
    "            Quando criamos uma cópia de nosso backup, podemos escolher a qual região queremos alocá-la. É dessa forma que conseguimos transferir dados de um Volume para outras localidades.\n",
    "            <center style='margin-top:20px'>\n",
    "                <img src='img/06_copy_snapshot.png'>\n",
    "            </center>\n",
    "        </li>\n",
    "     </ul>\n",
    "</div>"
   ]
  },
  {
   "cell_type": "markdown",
   "id": "fbeeb9eb-852d-4f57-9963-3e67ec280370",
   "metadata": {},
   "source": [
    "<h3 style='font-size:30px;font-style:italic'> Recycle Bin</h3>\n",
    "<div> \n",
    "    <ul style='font-size:20px'>\n",
    "        <li> \n",
    "            Na própria interface de Snapshots, há um botão que nos direciona à página de criação dos Recycle Bins. Por lá, você consegue criar as suas lixeiras com seu respectivo tempo de duração.\n",
    "        </li>\n",
    "        <li>\n",
    "            Quando deletarmos o snapshot, ele será direcionado à lixeira que criamos.\n",
    "            <center style='margin-top:20px'> \n",
    "                <img src='img/06_recycle.png'>\n",
    "            </center>\n",
    "        </li>\n",
    "     </ul>\n",
    "</div>"
   ]
  },
  {
   "cell_type": "markdown",
   "id": "0201826a-5fb6-4f9c-ae8d-f1719135ff75",
   "metadata": {},
   "source": [
    "<h2 style='font-size:30px'> AMI Overview</h2>\n",
    "<h3 style='font-size:30px;font-style:italic'> O que é uma Imagem?</h3>\n",
    "<div> \n",
    "    <ul style='font-size:20px'> \n",
    "        <li> \n",
    "            A imagem de sistema consiste em um arquivo que possui todo o conteúdo do disco rígido da máquina.\n",
    "        </li>\n",
    "        <li> \n",
    "            Eles são de bastante importância quando vamos fazer alguma modificação no PC. Vão servir de backup em caso de falhas.\n",
    "        </li>\n",
    "    </ul>\n",
    "</div>"
   ]
  },
  {
   "cell_type": "markdown",
   "id": "7235e0dd-70f1-4e79-858b-2e722949e5cc",
   "metadata": {},
   "source": [
    "<h3 style='font-size:30px;font-style:italic'> AWS Overview<h3>\n",
    "<div> \n",
    "    <ul style='font-size:20px'> \n",
    "        <li> \n",
    "            As imagens de instâncicas EC2 são chamadas de AMI's. Você pode adquirir imagens próprias da AWS ou de terceiros.  \n",
    "        </li>\n",
    "        <li> \n",
    "            Usá-las proporciona um tempo de boot e configuração mais rápido.\n",
    "        </li>\n",
    "        <li> \n",
    "            As AMI's são vinculadas a uma única região.\n",
    "        </li>\n",
    "    </ul>\n",
    "</div>"
   ]
  },
  {
   "cell_type": "markdown",
   "id": "319e5ae9-1216-4e62-a398-4e9f689e3fed",
   "metadata": {},
   "source": [
    "<h3 style='font-size:30px;font-style:italic'>AMI Process (from an EC2 Instance)</h3>\n",
    "<div>\n",
    "    <ul style='font-size:20px'>\n",
    "        <li> \n",
    "            O ciclo de criação de uma AMI consiste em:\n",
    "            <ul> \n",
    "                <li> \n",
    "                    Iniciar uma VM e customizá-la.\n",
    "                </li>\n",
    "                <li> \n",
    "                    Interrompê-la e montar a AMI (esse processo envolverá a criação de EBS Snapshots). \n",
    "                </li>\n",
    "                <li> \n",
    "                    Lançar uma nova instância a partir da AMI criada.\n",
    "                </li>\n",
    "            </ul>\n",
    "        </li>\n",
    "    </ul>\n",
    "</div>"
   ]
  },
  {
   "cell_type": "markdown",
   "id": "c28939c2-58e4-4368-ba6b-419ed8405fa0",
   "metadata": {
    "tags": []
   },
   "source": [
    "<h2 style='font-size:30px'> AMI Hands On</h2>\n",
    "<div> \n",
    "    <ul style='font-size:20px'> \n",
    "        <li> \n",
    "            Você pode facilmente gerar uma AMI a partir do menu de Instâncias clicando em \"Actions\". \n",
    "            <center style='margin-top:20px'>\n",
    "                <img src='img/06_create_image.png'>\n",
    "            </center>\n",
    "        </li>\n",
    "    </ul>\n",
    "</div>"
   ]
  },
  {
   "cell_type": "markdown",
   "id": "3104bc9f-f51a-4fe0-b7dd-6ed0ce88f340",
   "metadata": {},
   "source": [
    "<h3 style='font-size:30px;font-style:italic'> Lançando uma VM com nossa AMI</h3>\n",
    "<div>\n",
    "    <ul style='font-size:20px'>\n",
    "        <li> \n",
    "            No próprio menu de criação de uma instâncias, há uma tab com todas as AMI's criadas por nós. Escolha a que preferir. \n",
    "        </li>\n",
    "        <li> \n",
    "            Como a AMI do curso já continha a httpd, não precisamos instalá-los no bootstrap da VM.\n",
    "            <center style='margin-top:20px'>\n",
    "                <img src='img/06_user_data.png'>\n",
    "            </center>\n",
    "        </li>\n",
    "    </ul>\n",
    "</div>"
   ]
  },
  {
   "cell_type": "markdown",
   "id": "dd822a71-ac67-4af4-9bdf-2f1c63253ae5",
   "metadata": {
    "tags": []
   },
   "source": [
    "<h2 style='font-size:30px'> EC2 Image Builder Overview</h2>\n",
    "<div> \n",
    "    <ul style='font-size:20px'> \n",
    "        <li> \n",
    "            O EC2 Image Builder é um serviço cujo propósito é automatizar a criação, validação e manutenção de VM's ou imagens de contêineres.\n",
    "        </li>\n",
    "        <li> \n",
    "            Ele cria uma instância, instalando todas as configurações necessárias, e monta uma AMI a partir dela. Logo em seguida, uma nova instância é criada a partir dessa imagem. Ela realiza testes funcionais que verificam a integridade da imagem.\n",
    "        </li>\n",
    "        <li> \n",
    "            Você pode agendar o Image Builder para rodar com a periodicidade que preferir. As imagens criadas podem ser depositadas em múltiplas regiões. Se paga apenas pelas instâncias criadas pelo serviço e o armazenamento das AMI's.\n",
    "        </li>\n",
    "    </ul>\n",
    "</div>"
   ]
  },
  {
   "cell_type": "markdown",
   "id": "a631b05a-0834-4ecd-a9c2-b6d813f5c629",
   "metadata": {
    "tags": []
   },
   "source": [
    "<h2 style='font-size:30px'> EC2 Instance Store</h2>\n",
    "<div> \n",
    "    <ul style='font-size:20px'> \n",
    "        <li> \n",
    "            Os EC2 Instance Stores são drives físicos de armazenamento que estão conectados às nossas instâncias. A sua vantagem é que oferecem uma performance muito superior quando comparada com a dos EBS Volumes. \n",
    "        </li>\n",
    "        <li> \n",
    "            No entanto, eles perdem os seus dados assim que você desligar a VM. Por isso, considere utilizá-los apenas em aplicações como buffer, cache, etc.\n",
    "        </li>\n",
    "    </ul>\n",
    "</div>"
   ]
  },
  {
   "cell_type": "markdown",
   "id": "badd1d33-3efd-4958-9cf9-21947309f413",
   "metadata": {
    "tags": []
   },
   "source": [
    "<h2 style='font-size:30px'> EFS Overview</h2>\n",
    "<div> \n",
    "    <ul style='font-size:20px'> \n",
    "        <li> \n",
    "            O Elastic File System é um sistema de rede de arquivos que habilita o compartilhamento de arquivos entre múltiplas VM's em AZ's distintas.\n",
    "        </li>\n",
    "        <li>\n",
    "            Ele funciona apenas com instâncias Linux e o usuário paga por somente o que utilizar.\n",
    "        </li>\n",
    "    </ul>\n",
    "</div>"
   ]
  },
  {
   "cell_type": "markdown",
   "id": "39236f19-f0c0-4b3d-9910-afd13f5b374d",
   "metadata": {},
   "source": [
    "<h3 style='font-size:30px;font-style:italic'> EFS Infrequent Access (EFS-IA)</h3>\n",
    "<div>\n",
    "    <ul style='font-size:20px'>\n",
    "        <li> \n",
    "            Modalidade do EFS para arquivos acessados esporadicamente. Fornece uma redução de custos de até 92% quando comparado com o EFS comum.\n",
    "        </li>\n",
    "        <li> \n",
    "            O cliente deve definir um período depois do qual o documento será encaminhado ao EFS-IA. O processo de migração do arquivo é bastante sutil, sendo que o usuário final nem terá que acessar outro diretório para encontrá-lo.\n",
    "        </li>\n",
    "    </ul>\n",
    "</div>"
   ]
  },
  {
   "cell_type": "markdown",
   "id": "b414ee33-6652-42a2-b80a-64c495c5af9e",
   "metadata": {},
   "source": [
    "<h2 style='font-size:30px'> Shared Responsibility Model for EC2 Storage</h2>\n",
    "<div> \n",
    "    <ul style='font-size:20px'> \n",
    "        <li> \n",
    "            Vamos discernir as responsabilidades da AWS e usuário com relação às instâncias EC2.\n",
    "        </li>\n",
    "    </ul>\n",
    "</div>"
   ]
  },
  {
   "cell_type": "markdown",
   "id": "73c77db6-79db-4da9-a22c-49d85c199d5f",
   "metadata": {},
   "source": [
    "<h3 style='font-size:30px;font-style:italic'> Responsabilidades AWS</h3>\n",
    "<div>\n",
    "    <ul style='font-size:20px'>\n",
    "        <li> \n",
    "            Manutenção da infraestrutura.\n",
    "        </li>\n",
    "        <li> \n",
    "            Replicação dos dados pelos Volumes EBS e drives EFS.\n",
    "        </li>\n",
    "        <li> \n",
    "            Garantia de que os empregados AWS não acessarão os dados. \n",
    "        </li>\n",
    "    </ul>\n",
    "</div>"
   ]
  },
  {
   "cell_type": "markdown",
   "id": "63b4aec1-9f90-41fe-949f-dd75f1f4265e",
   "metadata": {},
   "source": [
    "<h3 style='font-size:30px;font-style:italic'> Responsabilidades Cliente</h3>\n",
    "<div>\n",
    "    <ul style='font-size:20px'>\n",
    "        <li> \n",
    "            Gerenciamento dos dados dos Volumes, Instance Stores e EFS Drives.\n",
    "        </li>\n",
    "        <li> \n",
    "            Criação e gerenciamento de snapshots/backups.\n",
    "        </li>\n",
    "        <li> \n",
    "            Encriptação dos dados armazenados.\n",
    "        </li>\n",
    "    </ul>\n",
    "</div>"
   ]
  },
  {
   "cell_type": "markdown",
   "id": "02668507-ae50-4d84-9343-fc02fd7e2b94",
   "metadata": {},
   "source": [
    "<h2 style='font-size:30px'> Amazon FSx Overview</h2>\n",
    "<div> \n",
    "    <ul style='font-size:20px'> \n",
    "        <li> \n",
    "            O FSx é um serviço que habilita o uso de outros sistemas de rede de arquivos, caso o cliente não queira usar o EFS.\n",
    "        </li>\n",
    "    </ul>\n",
    "</div>"
   ]
  },
  {
   "cell_type": "markdown",
   "id": "1618d5ee-1def-437d-9ca9-5cc92d54cdf0",
   "metadata": {},
   "source": [
    "<h3 style='font-size:30px;font-style:italic'> Amazon FSx for Windows File Server</h3>\n",
    "<div>\n",
    "    <ul style='font-size:20px'>\n",
    "        <li> \n",
    "            Sistema de compartilhamento de arquivos feito sobre o Windows File Server.\n",
    "        </li>\n",
    "        <li> \n",
    "            Integrado com o Microsoft Active Directory. Suporte para protocolos SMB e Windows NTFS.\n",
    "        </li>\n",
    "        <li> \n",
    "            Esse sistema pode ser tanto acessado pela AWS, quanto pela infra on-premises da companhia.\n",
    "        </li>\n",
    "    </ul>\n",
    "</div>"
   ]
  },
  {
   "cell_type": "markdown",
   "id": "9be40920-3c1e-4c00-b6cb-421ab6814d10",
   "metadata": {},
   "source": [
    "<h3 style='font-size:30px;font-style:italic'> Amazon FSx for Lustre</h3>\n",
    "<div>\n",
    "    <ul style='font-size:20px'>\n",
    "        <li> \n",
    "            Consiste em um sistema para High Performance Computing para máquinas Linux.\n",
    "        </li>\n",
    "        <li> \n",
    "            Recomendável para Machine Learning, Analytics e Modelagem Financeira.\n",
    "        </li>\n",
    "    </ul>\n",
    "</div>"
   ]
  },
  {
   "cell_type": "markdown",
   "id": "75203a06-c0ed-4ff1-ab5b-fc4b18aaf3b7",
   "metadata": {},
   "source": [
    "<p style='color:red'> Aula 63</p>"
   ]
  }
 ],
 "metadata": {
  "kernelspec": {
   "display_name": "Python 3 (ipykernel)",
   "language": "python",
   "name": "python3"
  },
  "language_info": {
   "codemirror_mode": {
    "name": "ipython",
    "version": 3
   },
   "file_extension": ".py",
   "mimetype": "text/x-python",
   "name": "python",
   "nbconvert_exporter": "python",
   "pygments_lexer": "ipython3",
   "version": "3.8.10"
  }
 },
 "nbformat": 4,
 "nbformat_minor": 5
}
