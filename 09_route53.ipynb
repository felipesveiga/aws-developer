{
 "cells": [
  {
   "cell_type": "markdown",
   "id": "954e8aa5-d405-4c16-b3ea-2730c6637573",
   "metadata": {},
   "source": [
    "<h1 style='font-size:40px'> Route 53</h1>"
   ]
  },
  {
   "cell_type": "markdown",
   "id": "cc35d876-d345-47ba-9ef5-ae481f829831",
   "metadata": {},
   "source": [
    "<h2 style='font-size:30px'> \n",
    "    <a href='https://www.cloudflare.com/learning/dns/what-is-dns/'>What is a DNS?\n",
    "    </a>\n",
    "</h2>\n",
    "<div> \n",
    "    <ul style='font-size:20px'> \n",
    "        <li> \n",
    "            Domain Name System (DNS) é um sistema que traduz um nome de domínio para o endereço de IP do servidor que hospeda um site.   \n",
    "        </li>\n",
    "        <li>\n",
    "            O processo desse mapeamento é chamado de \"DNS Resolution\", que é executado em etapas. Cada elemento da URL é processado individualmente para a obtenção do endereço de IP. \n",
    "        </li>\n",
    "    </ul>\n",
    " </div>"
   ]
  },
  {
   "cell_type": "markdown",
   "id": "b94cce00-07f5-481f-9e05-3828dc8e45c8",
   "metadata": {},
   "source": [
    "<h3 style='font-size:30px;font-style:italic'> DNS Terminologies</h3>\n",
    "<div> \n",
    "    <ul style='font-size:20px'>\n",
    "        <li>\n",
    "            <i> Top Level Domain (TLD)</i>: .com, .br, .org.\n",
    "        </li>\n",
    "        <li>\n",
    "            <i> Second Level Domain (SLD)</i>: google.com, apple.com\n",
    "        </li>\n",
    "     </ul>\n",
    "</div>"
   ]
  },
  {
   "cell_type": "markdown",
   "id": "d420914d-0baa-4117-88d6-7cc38fc4e902",
   "metadata": {},
   "source": [
    "<h2 style='font-size:30px'> \n",
    "    Route 53 Overview\n",
    "</h2>\n",
    "<div> \n",
    "    <ul style='font-size:20px'> \n",
    "        <li> \n",
    "            O Route 53 é um serviço de Authorative DNS que busca mapear determinados DNS a endereços de IP. \n",
    "        </li>\n",
    "        <li>\n",
    "            Com ele, criamos <i>registros</i> que definem políticas de roteamento para cada Domain Name cadastrado.\n",
    "        </li>\n",
    "        <li>\n",
    "            Cada registro deverá conter:\n",
    "            <ul>\n",
    "                <li>\n",
    "                    Domain Name\n",
    "                </li>\n",
    "                <li>\n",
    "                    Record Type\n",
    "                </li>\n",
    "                <li>\n",
    "                    Endereço de IP\n",
    "                </li>\n",
    "                <li>\n",
    "                    Política de Roteamento\n",
    "                </li>\n",
    "                <li>\n",
    "                    TTL (Time to Live): Tempo máximo que o record ficará no cache dos <i> DNS Resolvers</i>\n",
    "                </li>\n",
    "            </ul>\n",
    "        </li>\n",
    "    </ul>\n",
    " </div>"
   ]
  },
  {
   "cell_type": "markdown",
   "id": "331bff50-bb78-4ead-b6d8-2443b74e0ef6",
   "metadata": {},
   "source": [
    "<h3 style='font-size:30px;font-style:italic'> Record Types</h3>\n",
    "<div> \n",
    "    <ul style='font-size:20px'>\n",
    "        <li>\n",
    "            <i> A </i>: Mapeia um hostname para um IPv4\n",
    "        </li>\n",
    "        <li>\n",
    "            <i> AAAA </i>: Mapeia um hostname para um IPv6.\n",
    "        </li>\n",
    "        <li>\n",
    "            um outro hostname. O endereço de destino deverá ser do tipo A ou AAAA.\n",
    "        </li>\n",
    "     </ul>\n",
    "</div>"
   ]
  },
  {
   "cell_type": "code",
   "execution_count": 3,
   "id": "accef056-1d4c-41e0-99be-b32187c165d5",
   "metadata": {},
   "outputs": [
    {
     "name": "stdout",
     "output_type": "stream",
     "text": [
      "[master 3204e19] Aula 90 (2:15)\n",
      " 2 files changed, 104 insertions(+), 28 deletions(-)\n",
      "Enumerating objects: 7, done.\n",
      "Counting objects: 100% (7/7), done.\n",
      "Delta compression using up to 24 threads\n",
      "Compressing objects: 100% (4/4), done.\n",
      "Writing objects: 100% (4/4), 972 bytes | 972.00 KiB/s, done.\n",
      "Total 4 (delta 3), reused 0 (delta 0), pack-reused 0\n",
      "remote: Resolving deltas: 100% (3/3), completed with 3 local objects.\u001b[K\n",
      "To https://github.com/felipesveiga/aws-developer.git\n",
      "   eb7d7f6..3204e19  master -> master\n"
     ]
    }
   ],
   "source": [
    "! git add .\n",
    "! git commit -am 'Procurar por outras fontes que falem sobre o Route 53' \n",
    "! git push"
   ]
  },
  {
   "cell_type": "markdown",
   "id": "6920f29b-772a-481b-b7f2-2a09cf2096a9",
   "metadata": {},
   "source": [
    "<p style='color:red'>Continuei Aula 90; Não entendi muito bem o Route 53 e as Hosted Zones; Procurar por outras fontes que falem sobre o Route 53 </p>"
   ]
  }
 ],
 "metadata": {
  "kernelspec": {
   "display_name": "Python 3 (ipykernel)",
   "language": "python",
   "name": "python3"
  },
  "language_info": {
   "codemirror_mode": {
    "name": "ipython",
    "version": 3
   },
   "file_extension": ".py",
   "mimetype": "text/x-python",
   "name": "python",
   "nbconvert_exporter": "python",
   "pygments_lexer": "ipython3",
   "version": "3.10.12"
  }
 },
 "nbformat": 4,
 "nbformat_minor": 5
}
