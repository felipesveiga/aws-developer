{
 "cells": [
  {
   "cell_type": "markdown",
   "id": "954e8aa5-d405-4c16-b3ea-2730c6637573",
   "metadata": {},
   "source": [
    "<h1 style='font-size:40px'> Route 53</h1>"
   ]
  },
  {
   "cell_type": "markdown",
   "id": "cc35d876-d345-47ba-9ef5-ae481f829831",
   "metadata": {},
   "source": [
    "<h2 style='font-size:30px'> \n",
    "    <a href='https://www.cloudflare.com/learning/dns/what-is-dns/'>What is a DNS?\n",
    "    </a>\n",
    "</h2>\n",
    "<div> \n",
    "    <ul style='font-size:20px'> \n",
    "        <li> \n",
    "            Domain Name System (DNS) é um sistema que traduz um nome de domínio para o endereço de IP do servidor que hospeda um site.   \n",
    "        </li>\n",
    "        <li>\n",
    "            O processo desse mapeamento é chamado de \"DNS Resolution\", que é executado em etapas. \n",
    "        </li>\n",
    "    </ul>\n",
    " </div>"
   ]
  },
  {
   "cell_type": "code",
   "execution_count": 12,
   "id": "accef056-1d4c-41e0-99be-b32187c165d5",
   "metadata": {},
   "outputs": [
    {
     "name": "stdout",
     "output_type": "stream",
     "text": [
      "[master fd4ce2e] Continuar Quiz seção 8\n",
      " 2 files changed, 62 insertions(+), 20 deletions(-)\n",
      "Enumerating objects: 7, done.\n",
      "Counting objects: 100% (7/7), done.\n",
      "Delta compression using up to 24 threads\n",
      "Compressing objects: 100% (4/4), done.\n",
      "Writing objects: 100% (4/4), 1.01 KiB | 1.01 MiB/s, done.\n",
      "Total 4 (delta 3), reused 0 (delta 0), pack-reused 0\n",
      "remote: Resolving deltas: 100% (3/3), completed with 3 local objects.\u001b[K\n",
      "To https://github.com/felipesveiga/aws-developer.git\n",
      "   7fb5d58..fd4ce2e  master -> master\n"
     ]
    }
   ],
   "source": [
    "! git add .\n",
    "! git commit -am 'Fazer as anotações da Aula 89 com o artigo do CloudFlare' \n",
    "! git push"
   ]
  },
  {
   "cell_type": "markdown",
   "id": "6920f29b-772a-481b-b7f2-2a09cf2096a9",
   "metadata": {},
   "source": [
    "<p style='color:red'> Iniciei seção 9; Fazer as anotações da Aula 89 com o artigo do CloudFlare </p>"
   ]
  }
 ],
 "metadata": {
  "kernelspec": {
   "display_name": "Python 3 (ipykernel)",
   "language": "python",
   "name": "python3"
  },
  "language_info": {
   "codemirror_mode": {
    "name": "ipython",
    "version": 3
   },
   "file_extension": ".py",
   "mimetype": "text/x-python",
   "name": "python",
   "nbconvert_exporter": "python",
   "pygments_lexer": "ipython3",
   "version": "3.10.12"
  }
 },
 "nbformat": 4,
 "nbformat_minor": 5
}
